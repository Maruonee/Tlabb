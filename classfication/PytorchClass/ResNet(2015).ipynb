{
  "nbformat": 4,
  "nbformat_minor": 0,
  "metadata": {
    "colab": {
      "name": "ResNet(2015).ipynb",
      "provenance": [],
      "collapsed_sections": [],
      "authorship_tag": "ABX9TyPaf0TRMhAVyf2JaKY87/7U",
      "include_colab_link": true
    },
    "kernelspec": {
      "name": "python3",
      "display_name": "Python 3"
    },
    "accelerator": "GPU"
  },
  "cells": [
    {
      "cell_type": "markdown",
      "metadata": {
        "id": "view-in-github",
        "colab_type": "text"
      },
      "source": [
        "<a href=\"https://colab.research.google.com/github/Seonghoon-Yu/paper-implement-in-pytorch/blob/master/Classification/ResNet(2015).ipynb\" target=\"_parent\"><img src=\"https://colab.research.google.com/assets/colab-badge.svg\" alt=\"Open In Colab\"/></a>"
      ]
    },
    {
      "cell_type": "code",
      "metadata": {
        "colab": {
          "base_uri": "https://localhost:8080/"
        },
        "id": "bRfprvKKIksn",
        "outputId": "2c99f286-7aa1-4000-b754-4ee45443c5df"
      },
      "source": [
        "from google.colab import drive\r\n",
        "drive.mount('resnet')"
      ],
      "execution_count": 1,
      "outputs": [
        {
          "output_type": "stream",
          "text": [
            "Mounted at resnet\n"
          ],
          "name": "stdout"
        }
      ]
    },
    {
      "cell_type": "markdown",
      "metadata": {
        "id": "pqGfJ56QKNiA"
      },
      "source": [
        "# 1. 데이터셋 불러오기\r\n",
        "데이터셋은 torchvision 패키지에서 제공하는 STL10 dataset을 이용하겠습니다.\r\n",
        "STL10 dataset은 10개의 label을 갖습니다."
      ]
    },
    {
      "cell_type": "code",
      "metadata": {
        "id": "Vj93PqwkJZvx"
      },
      "source": [
        "# import package\r\n",
        "\r\n",
        "# model\r\n",
        "import torch\r\n",
        "import torch.nn as nn\r\n",
        "import torch.nn.functional as F\r\n",
        "from torchsummary import summary\r\n",
        "from torch import optim\r\n",
        "from torch.optim.lr_scheduler import StepLR\r\n",
        "\r\n",
        "# dataset and transformation\r\n",
        "from torchvision import datasets\r\n",
        "import torchvision.transforms as transforms\r\n",
        "from torch.utils.data import DataLoader\r\n",
        "import os\r\n",
        "\r\n",
        "# display images\r\n",
        "from torchvision import utils\r\n",
        "import matplotlib.pyplot as plt\r\n",
        "%matplotlib inline\r\n",
        "\r\n",
        "# utils\r\n",
        "import numpy as np\r\n",
        "from torchsummary import summary\r\n",
        "import time\r\n",
        "import copy"
      ],
      "execution_count": 1,
      "outputs": []
    },
    {
      "cell_type": "code",
      "metadata": {
        "colab": {
          "base_uri": "https://localhost:8080/"
        },
        "id": "N11wVwf-KYnW",
        "outputId": "fa9e141e-2a30-4ee9-b865-aeb7a7e9bf35"
      },
      "source": [
        "# specify the data path\r\n",
        "path2data = '/content/resnet/MyDrive/data'\r\n",
        "\r\n",
        "# if not exists the path, make the directory\r\n",
        "if not os.path.exists(path2data):\r\n",
        "    os.mkdir(path2data)\r\n",
        "\r\n",
        "# load dataset\r\n",
        "train_ds = datasets.STL10(path2data, split='train', download=True, transform=transforms.ToTensor())\r\n",
        "val_ds = datasets.STL10(path2data, split='test', download=True, transform=transforms.ToTensor())\r\n",
        "\r\n",
        "print(len(train_ds))\r\n",
        "print(len(val_ds))"
      ],
      "execution_count": 2,
      "outputs": [
        {
          "output_type": "stream",
          "text": [
            "Files already downloaded and verified\n",
            "Files already downloaded and verified\n",
            "5000\n",
            "8000\n"
          ],
          "name": "stdout"
        }
      ]
    },
    {
      "cell_type": "code",
      "metadata": {
        "colab": {
          "base_uri": "https://localhost:8080/"
        },
        "id": "Vh62zT5AKasI",
        "outputId": "e561c66c-d2e7-4994-c850-f86f412d07b3"
      },
      "source": [
        "# To normalize the dataset, calculate the mean and std\r\n",
        "train_meanRGB = [np.mean(x.numpy(), axis=(1,2)) for x, _ in train_ds]\r\n",
        "train_stdRGB = [np.std(x.numpy(), axis=(1,2)) for x, _ in train_ds]\r\n",
        "\r\n",
        "train_meanR = np.mean([m[0] for m in train_meanRGB])\r\n",
        "train_meanG = np.mean([m[1] for m in train_meanRGB])\r\n",
        "train_meanB = np.mean([m[2] for m in train_meanRGB])\r\n",
        "train_stdR = np.mean([s[0] for s in train_stdRGB])\r\n",
        "train_stdG = np.mean([s[1] for s in train_stdRGB])\r\n",
        "train_stdB = np.mean([s[2] for s in train_stdRGB])\r\n",
        "\r\n",
        "\r\n",
        "val_meanRGB = [np.mean(x.numpy(), axis=(1,2)) for x, _ in val_ds]\r\n",
        "val_stdRGB = [np.std(x.numpy(), axis=(1,2)) for x, _ in val_ds]\r\n",
        "\r\n",
        "val_meanR = np.mean([m[0] for m in val_meanRGB])\r\n",
        "val_meanG = np.mean([m[1] for m in val_meanRGB])\r\n",
        "val_meanB = np.mean([m[2] for m in val_meanRGB])\r\n",
        "\r\n",
        "val_stdR = np.mean([s[0] for s in val_stdRGB])\r\n",
        "val_stdG = np.mean([s[1] for s in val_stdRGB])\r\n",
        "val_stdB = np.mean([s[2] for s in val_stdRGB])\r\n",
        "\r\n",
        "print(train_meanR, train_meanG, train_meanB)\r\n",
        "print(val_meanR, val_meanG, val_meanB)"
      ],
      "execution_count": 3,
      "outputs": [
        {
          "output_type": "stream",
          "text": [
            "0.4467106 0.43980986 0.40664646\n",
            "0.44723064 0.4396425 0.40495726\n"
          ],
          "name": "stdout"
        }
      ]
    },
    {
      "cell_type": "code",
      "metadata": {
        "id": "W6CjqePGKvgM"
      },
      "source": [
        "# define the image transformation\r\n",
        "train_transformation = transforms.Compose([\r\n",
        "                        transforms.ToTensor(),\r\n",
        "                        transforms.Resize(224),\r\n",
        "                        transforms.Normalize([train_meanR, train_meanG, train_meanB],[train_stdR, train_stdG, train_stdB]),\r\n",
        "                        transforms.RandomHorizontalFlip(),\r\n",
        "])\r\n",
        "\r\n",
        "val_transformation = transforms.Compose([\r\n",
        "                        transforms.ToTensor(),\r\n",
        "                        transforms.Resize(224),\r\n",
        "                        transforms.Normalize([train_meanR, train_meanG, train_meanB],[train_stdR, train_stdG, train_stdB]),\r\n",
        "])\r\n",
        "\r\n",
        "# apply transforamtion\r\n",
        "train_ds.transform = train_transformation\r\n",
        "val_ds.transform = val_transformation\r\n",
        "\r\n",
        "# create DataLoader\r\n",
        "train_dl = DataLoader(train_ds, batch_size=32, shuffle=True)\r\n",
        "val_dl = DataLoader(val_ds, batch_size=32, shuffle=True)"
      ],
      "execution_count": 4,
      "outputs": []
    },
    {
      "cell_type": "code",
      "metadata": {
        "colab": {
          "base_uri": "https://localhost:8080/",
          "height": 184
        },
        "id": "MbAYt9woKyLe",
        "outputId": "b78b462b-731c-4142-9f57-ee7dec3cb36c"
      },
      "source": [
        "# display sample images \r\n",
        "def show(img, y=None, color=True):\r\n",
        "    npimg = img.numpy()\r\n",
        "    npimg_tr = np.transpose(npimg, (1,2,0))\r\n",
        "    plt.imshow(npimg_tr)\r\n",
        "\r\n",
        "    if y is not None:\r\n",
        "        plt.title('labels :' + str(y))\r\n",
        "\r\n",
        "np.random.seed(1)\r\n",
        "torch.manual_seed(1)\r\n",
        "\r\n",
        "grid_size = 4\r\n",
        "rnd_inds = np.random.randint(0, len(train_ds), grid_size)\r\n",
        "print('image indices:',rnd_inds)\r\n",
        "\r\n",
        "x_grid = [train_ds[i][0] for i in rnd_inds]\r\n",
        "y_grid = [train_ds[i][1] for i in rnd_inds]\r\n",
        "\r\n",
        "x_grid = utils.make_grid(x_grid, nrow=grid_size, padding=2)\r\n",
        "\r\n",
        "show(x_grid, y_grid)"
      ],
      "execution_count": 5,
      "outputs": [
        {
          "output_type": "stream",
          "text": [
            "Clipping input data to the valid range for imshow with RGB data ([0..1] for floats or [0..255] for integers).\n"
          ],
          "name": "stderr"
        },
        {
          "output_type": "stream",
          "text": [
            "image indices: [ 235 3980  905 2763]\n"
          ],
          "name": "stdout"
        },
        {
          "output_type": "display_data",
          "data": {
            "image/png": "[encoded data removed]",
            "text/plain": [
              "<Figure size 432x288 with 1 Axes>"
            ]
          },
          "metadata": {
            "tags": [],
            "needs_background": "light"
          }
        }
      ]
    },
    {
      "cell_type": "markdown",
      "metadata": {
        "id": "OABpHxY-RMfj"
      },
      "source": [
        "# 2. 모델 구축하기"
      ]
    },
    {
      "cell_type": "code",
      "metadata": {
        "id": "ff8IIRF0QoX-"
      },
      "source": [
        "class BasicBlock(nn.Module):\r\n",
        "    expansion = 1\r\n",
        "    def __init__(self, in_channels, out_channels, stride=1):\r\n",
        "        super().__init__()\r\n",
        "\r\n",
        "        # BatchNorm에 bias가 포함되어 있으므로, conv2d는 bias=False로 설정합니다.\r\n",
        "        self.residual_function = nn.Sequential(\r\n",
        "            nn.Conv2d(in_channels, out_channels, kernel_size=3, stride=stride, padding=1, bias=False),\r\n",
        "            nn.BatchNorm2d(out_channels),\r\n",
        "            nn.ReLU(),\r\n",
        "            nn.Conv2d(out_channels, out_channels * BasicBlock.expansion, kernel_size=3, stride=1, padding=1, bias=False),\r\n",
        "            nn.BatchNorm2d(out_channels * BasicBlock.expansion),\r\n",
        "        )\r\n",
        "\r\n",
        "        # identity mapping, input과 output의 feature map size, filter 수가 동일한 경우 사용.\r\n",
        "        self.shortcut = nn.Sequential()\r\n",
        "\r\n",
        "        self.relu = nn.ReLU()\r\n",
        "\r\n",
        "        # projection mapping using 1x1conv\r\n",
        "        if stride != 1 or in_channels != BasicBlock.expansion * out_channels:\r\n",
        "            self.shortcut = nn.Sequential(\r\n",
        "                nn.Conv2d(in_channels, out_channels * BasicBlock.expansion, kernel_size=1, stride=stride, bias=False),\r\n",
        "                nn.BatchNorm2d(out_channels * BasicBlock.expansion)\r\n",
        "            )\r\n",
        "\r\n",
        "    def forward(self, x):\r\n",
        "        x = self.residual_function(x) + self.shortcut(x)\r\n",
        "        x = self.relu(x)\r\n",
        "        return x\r\n",
        "\r\n",
        "\r\n",
        "class BottleNeck(nn.Module):\r\n",
        "    expansion = 4\r\n",
        "    def __init__(self, in_channels, out_channels, stride=1):\r\n",
        "        super().__init__()\r\n",
        "\r\n",
        "        self.residual_function = nn.Sequential(\r\n",
        "            nn.Conv2d(in_channels, out_channels, kernel_size=1, stride=1, bias=False),\r\n",
        "            nn.BatchNorm2d(out_channels),\r\n",
        "            nn.ReLU(),\r\n",
        "            nn.Conv2d(out_channels, out_channels, kernel_size=3, stride=stride, padding=1, bias=False),\r\n",
        "            nn.BatchNorm2d(out_channels),\r\n",
        "            nn.ReLU(),\r\n",
        "            nn.Conv2d(out_channels, out_channels * BottleNeck.expansion, kernel_size=1, stride=1, bias=False),\r\n",
        "            nn.BatchNorm2d(out_channels * BottleNeck.expansion),\r\n",
        "        )\r\n",
        "\r\n",
        "        self.shortcut = nn.Sequential()\r\n",
        "\r\n",
        "        self.relu = nn.ReLU()\r\n",
        "\r\n",
        "        if stride != 1 or in_channels != out_channels * BottleNeck.expansion:\r\n",
        "            self.shortcut = nn.Sequential(\r\n",
        "                nn.Conv2d(in_channels, out_channels*BottleNeck.expansion, kernel_size=1, stride=stride, bias=False),\r\n",
        "                nn.BatchNorm2d(out_channels*BottleNeck.expansion)\r\n",
        "            )\r\n",
        "            \r\n",
        "    def forward(self, x):\r\n",
        "        x = self.residual_function(x) + self.shortcut(x)\r\n",
        "        x = self.relu(x)\r\n",
        "        return x\r\n",
        "\r\n",
        "class ResNet(nn.Module):\r\n",
        "    def __init__(self, block, num_block, num_classes=10, init_weights=True):\r\n",
        "        super().__init__()\r\n",
        "\r\n",
        "        self.in_channels=64\r\n",
        "\r\n",
        "        self.conv1 = nn.Sequential(\r\n",
        "            nn.Conv2d(3, 64, kernel_size=7, stride=2, padding=3, bias=False),\r\n",
        "            nn.BatchNorm2d(64),\r\n",
        "            nn.ReLU(),\r\n",
        "            nn.MaxPool2d(kernel_size=3, stride=2, padding=1)\r\n",
        "        )\r\n",
        "\r\n",
        "        self.conv2_x = self._make_layer(block, 64, num_block[0], 1)\r\n",
        "        self.conv3_x = self._make_layer(block, 128, num_block[1], 2)\r\n",
        "        self.conv4_x = self._make_layer(block, 256, num_block[2], 2)\r\n",
        "        self.conv5_x = self._make_layer(block, 512, num_block[3], 2)\r\n",
        "\r\n",
        "        self.avg_pool = nn.AdaptiveAvgPool2d((1,1))\r\n",
        "        self.fc = nn.Linear(512 * block.expansion, num_classes)\r\n",
        "\r\n",
        "        # weights inittialization\r\n",
        "        if init_weights:\r\n",
        "            self._initialize_weights()\r\n",
        "\r\n",
        "    def _make_layer(self, block, out_channels, num_blocks, stride):\r\n",
        "        strides = [stride] + [1] * (num_blocks - 1)\r\n",
        "        layers = []\r\n",
        "        for stride in strides:\r\n",
        "            layers.append(block(self.in_channels, out_channels, stride))\r\n",
        "            self.in_channels = out_channels * block.expansion\r\n",
        "\r\n",
        "        return nn.Sequential(*layers)\r\n",
        "\r\n",
        "    def forward(self,x):\r\n",
        "        output = self.conv1(x)\r\n",
        "        output = self.conv2_x(output)\r\n",
        "        x = self.conv3_x(output)\r\n",
        "        x = self.conv4_x(x)\r\n",
        "        x = self.conv5_x(x)\r\n",
        "        x = self.avg_pool(x)\r\n",
        "        x = x.view(x.size(0), -1)\r\n",
        "        x = self.fc(x)\r\n",
        "        return x\r\n",
        "\r\n",
        "    # define weight initialization function\r\n",
        "    def _initialize_weights(self):\r\n",
        "        for m in self.modules():\r\n",
        "            if isinstance(m, nn.Conv2d):\r\n",
        "                nn.init.kaiming_normal_(m.weight, mode='fan_out', nonlinearity='relu')\r\n",
        "                if m.bias is not None:\r\n",
        "                    nn.init.constant_(m.bias, 0)\r\n",
        "            elif isinstance(m, nn.BatchNorm2d):\r\n",
        "                nn.init.constant_(m.weight, 1)\r\n",
        "                nn.init.constant_(m.bias, 0)\r\n",
        "            elif isinstance(m, nn.Linear):\r\n",
        "                nn.init.normal_(m.weight, 0, 0.01)\r\n",
        "                nn.init.constant_(m.bias, 0)\r\n",
        "\r\n",
        "def resnet18():\r\n",
        "    return ResNet(BasicBlock, [2,2,2,2])\r\n",
        "\r\n",
        "def resnet34():\r\n",
        "    return ResNet(BasicBlock, [3, 4, 6, 3])\r\n",
        "\r\n",
        "def resnet50():\r\n",
        "    return ResNet(BottleNeck, [3,4,6,3])\r\n",
        "\r\n",
        "def resnet101():\r\n",
        "    return ResNet(BottleNeck, [3, 4, 23, 3])\r\n",
        "\r\n",
        "def resnet152():\r\n",
        "    return ResNet(BottleNeck, [3, 8, 36, 3])"
      ],
      "execution_count": 6,
      "outputs": []
    },
    {
      "cell_type": "code",
      "metadata": {
        "colab": {
          "base_uri": "https://localhost:8080/"
        },
        "id": "7o1mIXMj8O8Z",
        "outputId": "98a8bf64-ccc5-42bf-a355-00da055885fd"
      },
      "source": [
        "device = torch.device('cuda' if torch.cuda.is_available() else 'cpu')\r\n",
        "model = resnet50().to(device)\r\n",
        "x = torch.randn(3, 3, 224, 224).to(device)\r\n",
        "output = model(x)\r\n",
        "print(output.size())"
      ],
      "execution_count": 15,
      "outputs": [
        {
          "output_type": "stream",
          "text": [
            "torch.Size([3, 10])\n"
          ],
          "name": "stdout"
        }
      ]
    },
    {
      "cell_type": "code",
      "metadata": {
        "colab": {
          "base_uri": "https://localhost:8080/"
        },
        "id": "Zv_KKDYhg_Rr",
        "outputId": "9bc93b26-86d0-46ee-d3a1-b3345782ee60"
      },
      "source": [
        "summary(model, (3, 224, 224), device=device.type)"
      ],
      "execution_count": 8,
      "outputs": [
        {
          "output_type": "stream",
          "text": [
            "----------------------------------------------------------------\n",
            "        Layer (type)               Output Shape         Param #\n",
            "================================================================\n",
            "            Conv2d-1         [-1, 64, 112, 112]           9,408\n",
            "       BatchNorm2d-2         [-1, 64, 112, 112]             128\n",
            "              ReLU-3         [-1, 64, 112, 112]               0\n",
            "         MaxPool2d-4           [-1, 64, 56, 56]               0\n",
            "            Conv2d-5           [-1, 64, 56, 56]           4,096\n",
            "       BatchNorm2d-6           [-1, 64, 56, 56]             128\n",
            "              ReLU-7           [-1, 64, 56, 56]               0\n",
            "            Conv2d-8           [-1, 64, 56, 56]          36,864\n",
            "       BatchNorm2d-9           [-1, 64, 56, 56]             128\n",
            "             ReLU-10           [-1, 64, 56, 56]               0\n",
            "           Conv2d-11          [-1, 256, 56, 56]          16,384\n",
            "      BatchNorm2d-12          [-1, 256, 56, 56]             512\n",
            "           Conv2d-13          [-1, 256, 56, 56]          16,384\n",
            "      BatchNorm2d-14          [-1, 256, 56, 56]             512\n",
            "             ReLU-15          [-1, 256, 56, 56]               0\n",
            "       BottleNeck-16          [-1, 256, 56, 56]               0\n",
            "           Conv2d-17           [-1, 64, 56, 56]          16,384\n",
            "      BatchNorm2d-18           [-1, 64, 56, 56]             128\n",
            "             ReLU-19           [-1, 64, 56, 56]               0\n",
            "           Conv2d-20           [-1, 64, 56, 56]          36,864\n",
            "      BatchNorm2d-21           [-1, 64, 56, 56]             128\n",
            "             ReLU-22           [-1, 64, 56, 56]               0\n",
            "           Conv2d-23          [-1, 256, 56, 56]          16,384\n",
            "      BatchNorm2d-24          [-1, 256, 56, 56]             512\n",
            "             ReLU-25          [-1, 256, 56, 56]               0\n",
            "       BottleNeck-26          [-1, 256, 56, 56]               0\n",
            "           Conv2d-27           [-1, 64, 56, 56]          16,384\n",
            "      BatchNorm2d-28           [-1, 64, 56, 56]             128\n",
            "             ReLU-29           [-1, 64, 56, 56]               0\n",
            "           Conv2d-30           [-1, 64, 56, 56]          36,864\n",
            "      BatchNorm2d-31           [-1, 64, 56, 56]             128\n",
            "             ReLU-32           [-1, 64, 56, 56]               0\n",
            "           Conv2d-33          [-1, 256, 56, 56]          16,384\n",
            "      BatchNorm2d-34          [-1, 256, 56, 56]             512\n",
            "             ReLU-35          [-1, 256, 56, 56]               0\n",
            "       BottleNeck-36          [-1, 256, 56, 56]               0\n",
            "           Conv2d-37          [-1, 128, 56, 56]          32,768\n",
            "      BatchNorm2d-38          [-1, 128, 56, 56]             256\n",
            "             ReLU-39          [-1, 128, 56, 56]               0\n",
            "           Conv2d-40          [-1, 128, 28, 28]         147,456\n",
            "      BatchNorm2d-41          [-1, 128, 28, 28]             256\n",
            "             ReLU-42          [-1, 128, 28, 28]               0\n",
            "           Conv2d-43          [-1, 512, 28, 28]          65,536\n",
            "      BatchNorm2d-44          [-1, 512, 28, 28]           1,024\n",
            "           Conv2d-45          [-1, 512, 28, 28]         131,072\n",
            "      BatchNorm2d-46          [-1, 512, 28, 28]           1,024\n",
            "             ReLU-47          [-1, 512, 28, 28]               0\n",
            "       BottleNeck-48          [-1, 512, 28, 28]               0\n",
            "           Conv2d-49          [-1, 128, 28, 28]          65,536\n",
            "      BatchNorm2d-50          [-1, 128, 28, 28]             256\n",
            "             ReLU-51          [-1, 128, 28, 28]               0\n",
            "           Conv2d-52          [-1, 128, 28, 28]         147,456\n",
            "      BatchNorm2d-53          [-1, 128, 28, 28]             256\n",
            "             ReLU-54          [-1, 128, 28, 28]               0\n",
            "           Conv2d-55          [-1, 512, 28, 28]          65,536\n",
            "      BatchNorm2d-56          [-1, 512, 28, 28]           1,024\n",
            "             ReLU-57          [-1, 512, 28, 28]               0\n",
            "       BottleNeck-58          [-1, 512, 28, 28]               0\n",
            "           Conv2d-59          [-1, 128, 28, 28]          65,536\n",
            "      BatchNorm2d-60          [-1, 128, 28, 28]             256\n",
            "             ReLU-61          [-1, 128, 28, 28]               0\n",
            "           Conv2d-62          [-1, 128, 28, 28]         147,456\n",
            "      BatchNorm2d-63          [-1, 128, 28, 28]             256\n",
            "             ReLU-64          [-1, 128, 28, 28]               0\n",
            "           Conv2d-65          [-1, 512, 28, 28]          65,536\n",
            "      BatchNorm2d-66          [-1, 512, 28, 28]           1,024\n",
            "             ReLU-67          [-1, 512, 28, 28]               0\n",
            "       BottleNeck-68          [-1, 512, 28, 28]               0\n",
            "           Conv2d-69          [-1, 128, 28, 28]          65,536\n",
            "      BatchNorm2d-70          [-1, 128, 28, 28]             256\n",
            "             ReLU-71          [-1, 128, 28, 28]               0\n",
            "           Conv2d-72          [-1, 128, 28, 28]         147,456\n",
            "      BatchNorm2d-73          [-1, 128, 28, 28]             256\n",
            "             ReLU-74          [-1, 128, 28, 28]               0\n",
            "           Conv2d-75          [-1, 512, 28, 28]          65,536\n",
            "      BatchNorm2d-76          [-1, 512, 28, 28]           1,024\n",
            "             ReLU-77          [-1, 512, 28, 28]               0\n",
            "       BottleNeck-78          [-1, 512, 28, 28]               0\n",
            "           Conv2d-79          [-1, 256, 28, 28]         131,072\n",
            "      BatchNorm2d-80          [-1, 256, 28, 28]             512\n",
            "             ReLU-81          [-1, 256, 28, 28]               0\n",
            "           Conv2d-82          [-1, 256, 14, 14]         589,824\n",
            "      BatchNorm2d-83          [-1, 256, 14, 14]             512\n",
            "             ReLU-84          [-1, 256, 14, 14]               0\n",
            "           Conv2d-85         [-1, 1024, 14, 14]         262,144\n",
            "      BatchNorm2d-86         [-1, 1024, 14, 14]           2,048\n",
            "           Conv2d-87         [-1, 1024, 14, 14]         524,288\n",
            "      BatchNorm2d-88         [-1, 1024, 14, 14]           2,048\n",
            "             ReLU-89         [-1, 1024, 14, 14]               0\n",
            "       BottleNeck-90         [-1, 1024, 14, 14]               0\n",
            "           Conv2d-91          [-1, 256, 14, 14]         262,144\n",
            "      BatchNorm2d-92          [-1, 256, 14, 14]             512\n",
            "             ReLU-93          [-1, 256, 14, 14]               0\n",
            "           Conv2d-94          [-1, 256, 14, 14]         589,824\n",
            "      BatchNorm2d-95          [-1, 256, 14, 14]             512\n",
            "             ReLU-96          [-1, 256, 14, 14]               0\n",
            "           Conv2d-97         [-1, 1024, 14, 14]         262,144\n",
            "      BatchNorm2d-98         [-1, 1024, 14, 14]           2,048\n",
            "             ReLU-99         [-1, 1024, 14, 14]               0\n",
            "      BottleNeck-100         [-1, 1024, 14, 14]               0\n",
            "          Conv2d-101          [-1, 256, 14, 14]         262,144\n",
            "     BatchNorm2d-102          [-1, 256, 14, 14]             512\n",
            "            ReLU-103          [-1, 256, 14, 14]               0\n",
            "          Conv2d-104          [-1, 256, 14, 14]         589,824\n",
            "     BatchNorm2d-105          [-1, 256, 14, 14]             512\n",
            "            ReLU-106          [-1, 256, 14, 14]               0\n",
            "          Conv2d-107         [-1, 1024, 14, 14]         262,144\n",
            "     BatchNorm2d-108         [-1, 1024, 14, 14]           2,048\n",
            "            ReLU-109         [-1, 1024, 14, 14]               0\n",
            "      BottleNeck-110         [-1, 1024, 14, 14]               0\n",
            "          Conv2d-111          [-1, 256, 14, 14]         262,144\n",
            "     BatchNorm2d-112          [-1, 256, 14, 14]             512\n",
            "            ReLU-113          [-1, 256, 14, 14]               0\n",
            "          Conv2d-114          [-1, 256, 14, 14]         589,824\n",
            "     BatchNorm2d-115          [-1, 256, 14, 14]             512\n",
            "            ReLU-116          [-1, 256, 14, 14]               0\n",
            "          Conv2d-117         [-1, 1024, 14, 14]         262,144\n",
            "     BatchNorm2d-118         [-1, 1024, 14, 14]           2,048\n",
            "            ReLU-119         [-1, 1024, 14, 14]               0\n",
            "      BottleNeck-120         [-1, 1024, 14, 14]               0\n",
            "          Conv2d-121          [-1, 256, 14, 14]         262,144\n",
            "     BatchNorm2d-122          [-1, 256, 14, 14]             512\n",
            "            ReLU-123          [-1, 256, 14, 14]               0\n",
            "          Conv2d-124          [-1, 256, 14, 14]         589,824\n",
            "     BatchNorm2d-125          [-1, 256, 14, 14]             512\n",
            "            ReLU-126          [-1, 256, 14, 14]               0\n",
            "          Conv2d-127         [-1, 1024, 14, 14]         262,144\n",
            "     BatchNorm2d-128         [-1, 1024, 14, 14]           2,048\n",
            "            ReLU-129         [-1, 1024, 14, 14]               0\n",
            "      BottleNeck-130         [-1, 1024, 14, 14]               0\n",
            "          Conv2d-131          [-1, 256, 14, 14]         262,144\n",
            "     BatchNorm2d-132          [-1, 256, 14, 14]             512\n",
            "            ReLU-133          [-1, 256, 14, 14]               0\n",
            "          Conv2d-134          [-1, 256, 14, 14]         589,824\n",
            "     BatchNorm2d-135          [-1, 256, 14, 14]             512\n",
            "            ReLU-136          [-1, 256, 14, 14]               0\n",
            "          Conv2d-137         [-1, 1024, 14, 14]         262,144\n",
            "     BatchNorm2d-138         [-1, 1024, 14, 14]           2,048\n",
            "            ReLU-139         [-1, 1024, 14, 14]               0\n",
            "      BottleNeck-140         [-1, 1024, 14, 14]               0\n",
            "          Conv2d-141          [-1, 512, 14, 14]         524,288\n",
            "     BatchNorm2d-142          [-1, 512, 14, 14]           1,024\n",
            "            ReLU-143          [-1, 512, 14, 14]               0\n",
            "          Conv2d-144            [-1, 512, 7, 7]       2,359,296\n",
            "     BatchNorm2d-145            [-1, 512, 7, 7]           1,024\n",
            "            ReLU-146            [-1, 512, 7, 7]               0\n",
            "          Conv2d-147           [-1, 2048, 7, 7]       1,048,576\n",
            "     BatchNorm2d-148           [-1, 2048, 7, 7]           4,096\n",
            "          Conv2d-149           [-1, 2048, 7, 7]       2,097,152\n",
            "     BatchNorm2d-150           [-1, 2048, 7, 7]           4,096\n",
            "            ReLU-151           [-1, 2048, 7, 7]               0\n",
            "      BottleNeck-152           [-1, 2048, 7, 7]               0\n",
            "          Conv2d-153            [-1, 512, 7, 7]       1,048,576\n",
            "     BatchNorm2d-154            [-1, 512, 7, 7]           1,024\n",
            "            ReLU-155            [-1, 512, 7, 7]               0\n",
            "          Conv2d-156            [-1, 512, 7, 7]       2,359,296\n",
            "     BatchNorm2d-157            [-1, 512, 7, 7]           1,024\n",
            "            ReLU-158            [-1, 512, 7, 7]               0\n",
            "          Conv2d-159           [-1, 2048, 7, 7]       1,048,576\n",
            "     BatchNorm2d-160           [-1, 2048, 7, 7]           4,096\n",
            "            ReLU-161           [-1, 2048, 7, 7]               0\n",
            "      BottleNeck-162           [-1, 2048, 7, 7]               0\n",
            "          Conv2d-163            [-1, 512, 7, 7]       1,048,576\n",
            "     BatchNorm2d-164            [-1, 512, 7, 7]           1,024\n",
            "            ReLU-165            [-1, 512, 7, 7]               0\n",
            "          Conv2d-166            [-1, 512, 7, 7]       2,359,296\n",
            "     BatchNorm2d-167            [-1, 512, 7, 7]           1,024\n",
            "            ReLU-168            [-1, 512, 7, 7]               0\n",
            "          Conv2d-169           [-1, 2048, 7, 7]       1,048,576\n",
            "     BatchNorm2d-170           [-1, 2048, 7, 7]           4,096\n",
            "            ReLU-171           [-1, 2048, 7, 7]               0\n",
            "      BottleNeck-172           [-1, 2048, 7, 7]               0\n",
            "AdaptiveAvgPool2d-173           [-1, 2048, 1, 1]               0\n",
            "          Linear-174                   [-1, 10]          20,490\n",
            "================================================================\n",
            "Total params: 23,528,522\n",
            "Trainable params: 23,528,522\n",
            "Non-trainable params: 0\n",
            "----------------------------------------------------------------\n",
            "Input size (MB): 0.57\n",
            "Forward/backward pass size (MB): 286.55\n",
            "Params size (MB): 89.75\n",
            "Estimated Total Size (MB): 376.88\n",
            "----------------------------------------------------------------\n"
          ],
          "name": "stdout"
        }
      ]
    },
    {
      "cell_type": "markdown",
      "metadata": {
        "id": "WPxxm3tIh9SC"
      },
      "source": [
        "# 3. 모델 학습하기"
      ]
    },
    {
      "cell_type": "code",
      "metadata": {
        "id": "fkMrR1RkZl9T"
      },
      "source": [
        "loss_func = nn.CrossEntropyLoss(reduction='sum')\r\n",
        "opt = optim.Adam(model.parameters(), lr=0.001)\r\n",
        "\r\n",
        "from torch.optim.lr_scheduler import ReduceLROnPlateau\r\n",
        "lr_scheduler = ReduceLROnPlateau(opt, mode='min', factor=0.1, patience=10)\r\n",
        "\r\n",
        "\r\n",
        "# function to get current lr\r\n",
        "def get_lr(opt):\r\n",
        "    for param_group in opt.param_groups:\r\n",
        "        return param_group['lr']\r\n",
        "\r\n",
        "\r\n",
        "# function to calculate metric per mini-batch\r\n",
        "def metric_batch(output, target):\r\n",
        "    pred = output.argmax(1, keepdim=True)\r\n",
        "    corrects = pred.eq(target.view_as(pred)).sum().item()\r\n",
        "    return corrects\r\n",
        "\r\n",
        "\r\n",
        "# function to calculate loss per mini-batch\r\n",
        "def loss_batch(loss_func, output, target, opt=None):\r\n",
        "    loss = loss_func(output, target)\r\n",
        "    metric_b = metric_batch(output, target)\r\n",
        "\r\n",
        "    if opt is not None:\r\n",
        "        opt.zero_grad()\r\n",
        "        loss.backward()\r\n",
        "        opt.step()\r\n",
        "\r\n",
        "    return loss.item(), metric_b\r\n",
        "\r\n",
        "\r\n",
        "# function to calculate loss and metric per epoch\r\n",
        "def loss_epoch(model, loss_func, dataset_dl, sanity_check=False, opt=None):\r\n",
        "    running_loss = 0.0\r\n",
        "    running_metric = 0.0\r\n",
        "    len_data = len(dataset_dl.dataset)\r\n",
        "\r\n",
        "    for xb, yb in dataset_dl:\r\n",
        "        xb = xb.to(device)\r\n",
        "        yb = yb.to(device)\r\n",
        "        output = model(xb)\r\n",
        "\r\n",
        "        loss_b, metric_b = loss_batch(loss_func, output, yb, opt)\r\n",
        "\r\n",
        "        running_loss += loss_b\r\n",
        "        \r\n",
        "        if metric_b is not None:\r\n",
        "            running_metric += metric_b\r\n",
        "        \r\n",
        "        if sanity_check is True:\r\n",
        "            break\r\n",
        "\r\n",
        "    loss = running_loss / len_data\r\n",
        "    metric = running_metric / len_data\r\n",
        "\r\n",
        "    return loss, metric\r\n",
        "\r\n",
        "\r\n",
        "# function to start training\r\n",
        "def train_val(model, params):\r\n",
        "    num_epochs=params['num_epochs']\r\n",
        "    loss_func=params[\"loss_func\"]\r\n",
        "    opt=params[\"optimizer\"]\r\n",
        "    train_dl=params[\"train_dl\"]\r\n",
        "    val_dl=params[\"val_dl\"]\r\n",
        "    sanity_check=params[\"sanity_check\"]\r\n",
        "    lr_scheduler=params[\"lr_scheduler\"]\r\n",
        "    path2weights=params[\"path2weights\"]\r\n",
        "\r\n",
        "    loss_history = {'train': [], 'val': []}\r\n",
        "    metric_history = {'train': [], 'val': []}\r\n",
        "\r\n",
        "    # # GPU out of memoty error\r\n",
        "    # best_model_wts = copy.deepcopy(model.state_dict())\r\n",
        "\r\n",
        "    best_loss = float('inf')\r\n",
        "\r\n",
        "    start_time = time.time()\r\n",
        "\r\n",
        "    for epoch in range(num_epochs):\r\n",
        "        current_lr = get_lr(opt)\r\n",
        "        print('Epoch {}/{}, current lr={}'.format(epoch, num_epochs-1, current_lr))\r\n",
        "\r\n",
        "        model.train()\r\n",
        "        train_loss, train_metric = loss_epoch(model, loss_func, train_dl, sanity_check, opt)\r\n",
        "        loss_history['train'].append(train_loss)\r\n",
        "        metric_history['train'].append(train_metric)\r\n",
        "\r\n",
        "        model.eval()\r\n",
        "        with torch.no_grad():\r\n",
        "            val_loss, val_metric = loss_epoch(model, loss_func, val_dl, sanity_check)\r\n",
        "        loss_history['val'].append(val_loss)\r\n",
        "        metric_history['val'].append(val_metric)\r\n",
        "\r\n",
        "        if val_loss < best_loss:\r\n",
        "            best_loss = val_loss\r\n",
        "            # best_model_wts = copy.deepcopy(model.state_dict())\r\n",
        "\r\n",
        "            # torch.save(model.state_dict(), path2weights)\r\n",
        "            # print('Copied best model weights!')\r\n",
        "            print('Get best val_loss')\r\n",
        "\r\n",
        "        lr_scheduler.step(val_loss)\r\n",
        "\r\n",
        "        print('train loss: %.6f, val loss: %.6f, accuracy: %.2f, time: %.4f min' %(train_loss, val_loss, 100*val_metric, (time.time()-start_time)/60))\r\n",
        "        print('-'*10)\r\n",
        "\r\n",
        "    # model.load_state_dict(best_model_wts)\r\n",
        "\r\n",
        "    return model, loss_history, metric_history"
      ],
      "execution_count": 16,
      "outputs": []
    },
    {
      "cell_type": "code",
      "metadata": {
        "id": "jqDlPbgTrHa9"
      },
      "source": [
        "# definc the training parameters\r\n",
        "params_train = {\r\n",
        "    'num_epochs':20,\r\n",
        "    'optimizer':opt,\r\n",
        "    'loss_func':loss_func,\r\n",
        "    'train_dl':train_dl,\r\n",
        "    'val_dl':val_dl,\r\n",
        "    'sanity_check':False,\r\n",
        "    'lr_scheduler':lr_scheduler,\r\n",
        "    'path2weights':'./models/weights.pt',\r\n",
        "}\r\n",
        "\r\n",
        "# create the directory that stores weights.pt\r\n",
        "def createFolder(directory):\r\n",
        "    try:\r\n",
        "        if not os.path.exists(directory):\r\n",
        "            os.makedirs(directory)\r\n",
        "    except OSerror:\r\n",
        "        print('Error')\r\n",
        "createFolder('./models')"
      ],
      "execution_count": 17,
      "outputs": []
    },
    {
      "cell_type": "code",
      "metadata": {
        "colab": {
          "base_uri": "https://localhost:8080/"
        },
        "id": "x4qdtmCHvq09",
        "outputId": "a38cfe2e-aeac-4d11-e9f4-a19c34162077"
      },
      "source": [
        "model, loss_hist, metric_hist = train_val(model, params_train)"
      ],
      "execution_count": 18,
      "outputs": [
        {
          "output_type": "stream",
          "text": [
            "Epoch 0/19, current lr=0.001\n",
            "Get best val_loss\n",
            "train loss: 2.039799, val loss: 2.197929, accuracy: 26.61, time: 3.5322 min\n",
            "----------\n",
            "Epoch 1/19, current lr=0.001\n",
            "Get best val_loss\n",
            "train loss: 1.747594, val loss: 1.714282, accuracy: 33.92, time: 7.0549 min\n",
            "----------\n",
            "Epoch 2/19, current lr=0.001\n",
            "train loss: 1.650917, val loss: 1.827308, accuracy: 34.14, time: 10.5729 min\n",
            "----------\n",
            "Epoch 3/19, current lr=0.001\n",
            "Get best val_loss\n",
            "train loss: 1.547290, val loss: 1.573588, accuracy: 39.50, time: 14.1059 min\n",
            "----------\n",
            "Epoch 4/19, current lr=0.001\n",
            "Get best val_loss\n",
            "train loss: 1.454613, val loss: 1.558583, accuracy: 40.44, time: 17.6348 min\n",
            "----------\n",
            "Epoch 5/19, current lr=0.001\n",
            "Get best val_loss\n",
            "train loss: 1.393059, val loss: 1.513891, accuracy: 43.89, time: 21.1677 min\n",
            "----------\n",
            "Epoch 6/19, current lr=0.001\n",
            "Get best val_loss\n",
            "train loss: 1.298117, val loss: 1.431274, accuracy: 47.76, time: 24.6990 min\n",
            "----------\n",
            "Epoch 7/19, current lr=0.001\n",
            "train loss: 1.264322, val loss: 1.439258, accuracy: 46.05, time: 28.2308 min\n",
            "----------\n",
            "Epoch 8/19, current lr=0.001\n",
            "Get best val_loss\n",
            "train loss: 1.182813, val loss: 1.227851, accuracy: 55.77, time: 31.7601 min\n",
            "----------\n",
            "Epoch 9/19, current lr=0.001\n",
            "train loss: 1.128572, val loss: 1.258496, accuracy: 54.21, time: 35.2460 min\n",
            "----------\n",
            "Epoch 10/19, current lr=0.001\n",
            "Get best val_loss\n",
            "train loss: 1.046818, val loss: 1.219986, accuracy: 55.66, time: 38.7243 min\n",
            "----------\n",
            "Epoch 11/19, current lr=0.001\n",
            "train loss: 0.988386, val loss: 1.400626, accuracy: 51.99, time: 42.1896 min\n",
            "----------\n",
            "Epoch 12/19, current lr=0.001\n",
            "train loss: 0.940937, val loss: 1.431961, accuracy: 52.68, time: 45.6625 min\n",
            "----------\n",
            "Epoch 13/19, current lr=0.001\n",
            "Get best val_loss\n",
            "train loss: 0.906311, val loss: 1.081269, accuracy: 60.30, time: 49.1418 min\n",
            "----------\n",
            "Epoch 14/19, current lr=0.001\n",
            "train loss: 0.851273, val loss: 1.268806, accuracy: 57.07, time: 52.6104 min\n",
            "----------\n",
            "Epoch 15/19, current lr=0.001\n",
            "train loss: 0.799744, val loss: 1.369827, accuracy: 58.46, time: 56.0700 min\n",
            "----------\n",
            "Epoch 16/19, current lr=0.001\n",
            "train loss: 0.761210, val loss: 1.348972, accuracy: 57.91, time: 59.5336 min\n",
            "----------\n",
            "Epoch 17/19, current lr=0.001\n",
            "train loss: 0.682132, val loss: 1.192636, accuracy: 60.42, time: 62.9953 min\n",
            "----------\n",
            "Epoch 18/19, current lr=0.001\n",
            "train loss: 0.674186, val loss: 1.132870, accuracy: 62.99, time: 66.4680 min\n",
            "----------\n",
            "Epoch 19/19, current lr=0.001\n",
            "Get best val_loss\n",
            "train loss: 0.622615, val loss: 1.030850, accuracy: 65.16, time: 69.9347 min\n",
            "----------\n"
          ],
          "name": "stdout"
        }
      ]
    },
    {
      "cell_type": "code",
      "metadata": {
        "colab": {
          "base_uri": "https://localhost:8080/",
          "height": 573
        },
        "id": "wf_ZvkpYzS09",
        "outputId": "b578de2f-3ff3-41ca-a128-bd85f2ead1e4"
      },
      "source": [
        "# Train-Validation Progress\r\n",
        "num_epochs=params_train[\"num_epochs\"]\r\n",
        "\r\n",
        "# plot loss progress\r\n",
        "plt.title(\"Train-Val Loss\")\r\n",
        "plt.plot(range(1,num_epochs+1),loss_hist[\"train\"],label=\"train\")\r\n",
        "plt.plot(range(1,num_epochs+1),loss_hist[\"val\"],label=\"val\")\r\n",
        "plt.ylabel(\"Loss\")\r\n",
        "plt.xlabel(\"Training Epochs\")\r\n",
        "plt.legend()\r\n",
        "plt.show()\r\n",
        "\r\n",
        "# plot accuracy progress\r\n",
        "plt.title(\"Train-Val Accuracy\")\r\n",
        "plt.plot(range(1,num_epochs+1),metric_hist[\"train\"],label=\"train\")\r\n",
        "plt.plot(range(1,num_epochs+1),metric_hist[\"val\"],label=\"val\")\r\n",
        "plt.ylabel(\"Accuracy\")\r\n",
        "plt.xlabel(\"Training Epochs\")\r\n",
        "plt.legend()\r\n",
        "plt.show()"
      ],
      "execution_count": 19,
      "outputs": [
        {
          "output_type": "display_data",
          "data": {
            "image/png": "[encoded data removed]",
            "text/plain": [
              "<Figure size 432x288 with 1 Axes>"
            ]
          },
          "metadata": {
            "tags": [],
            "needs_background": "light"
          }
        },
        {
          "output_type": "display_data",
          "data": {
            "image/png": "[encoded data removed]",
            "text/plain": [
              "<Figure size 432x288 with 1 Axes>"
            ]
          },
          "metadata": {
            "tags": [],
            "needs_background": "light"
          }
        }
      ]
    },
    {
      "cell_type": "code",
      "metadata": {
        "id": "owaCfqviJ-SI"
      },
      "source": [
        ""
      ],
      "execution_count": null,
      "outputs": []
    }
  ]
}