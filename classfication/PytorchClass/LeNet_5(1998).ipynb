{
  "nbformat": 4,
  "nbformat_minor": 0,
  "metadata": {
    "colab": {
      "name": "LeNet-5.ipynb",
      "provenance": [],
      "collapsed_sections": [],
      "authorship_tag": "ABX9TyMwodz3tBF4icPXNjMjiCiu",
      "include_colab_link": true
    },
    "kernelspec": {
      "name": "python3",
      "display_name": "Python 3"
    },
    "accelerator": "GPU",
    "widgets": {
      "application/vnd.jupyter.widget-state+json": {
        "fddb8bb17dde43f4b6db310571d4d7fe": {
          "model_module": "@jupyter-widgets/controls",
          "model_name": "HBoxModel",
          "state": {
            "_view_name": "HBoxView",
            "_dom_classes": [],
            "_model_name": "HBoxModel",
            "_view_module": "@jupyter-widgets/controls",
            "_model_module_version": "1.5.0",
            "_view_count": null,
            "_view_module_version": "1.5.0",
            "box_style": "",
            "layout": "IPY_MODEL_e1b5c2ffeb4d4cb8958f5268c9c3e314",
            "_model_module": "@jupyter-widgets/controls",
            "children": [
              "IPY_MODEL_22b0a61e45b64a70998d05f7c8f6dc02",
              "IPY_MODEL_fa7bad13be60496784e49a1252786126"
            ]
          }
        },
        "e1b5c2ffeb4d4cb8958f5268c9c3e314": {
          "model_module": "@jupyter-widgets/base",
          "model_name": "LayoutModel",
          "state": {
            "_view_name": "LayoutView",
            "grid_template_rows": null,
            "right": null,
            "justify_content": null,
            "_view_module": "@jupyter-widgets/base",
            "overflow": null,
            "_model_module_version": "1.2.0",
            "_view_count": null,
            "flex_flow": null,
            "width": null,
            "min_width": null,
            "border": null,
            "align_items": null,
            "bottom": null,
            "_model_module": "@jupyter-widgets/base",
            "top": null,
            "grid_column": null,
            "overflow_y": null,
            "overflow_x": null,
            "grid_auto_flow": null,
            "grid_area": null,
            "grid_template_columns": null,
            "flex": null,
            "_model_name": "LayoutModel",
            "justify_items": null,
            "grid_row": null,
            "max_height": null,
            "align_content": null,
            "visibility": null,
            "align_self": null,
            "height": null,
            "min_height": null,
            "padding": null,
            "grid_auto_rows": null,
            "grid_gap": null,
            "max_width": null,
            "order": null,
            "_view_module_version": "1.2.0",
            "grid_template_areas": null,
            "object_position": null,
            "object_fit": null,
            "grid_auto_columns": null,
            "margin": null,
            "display": null,
            "left": null
          }
        },
        "22b0a61e45b64a70998d05f7c8f6dc02": {
          "model_module": "@jupyter-widgets/controls",
          "model_name": "FloatProgressModel",
          "state": {
            "_view_name": "ProgressView",
            "style": "IPY_MODEL_15594db186994d5ba8c965be2d2b1c6d",
            "_dom_classes": [],
            "description": "",
            "_model_name": "FloatProgressModel",
            "bar_style": "success",
            "max": 1,
            "_view_module": "@jupyter-widgets/controls",
            "_model_module_version": "1.5.0",
            "value": 1,
            "_view_count": null,
            "_view_module_version": "1.5.0",
            "orientation": "horizontal",
            "min": 0,
            "description_tooltip": null,
            "_model_module": "@jupyter-widgets/controls",
            "layout": "IPY_MODEL_0b1516af113c42f092432b96e1fdbf75"
          }
        },
        "fa7bad13be60496784e49a1252786126": {
          "model_module": "@jupyter-widgets/controls",
          "model_name": "HTMLModel",
          "state": {
            "_view_name": "HTMLView",
            "style": "IPY_MODEL_7f996bad066f4570a15c91b4634f5562",
            "_dom_classes": [],
            "description": "",
            "_model_name": "HTMLModel",
            "placeholder": "​",
            "_view_module": "@jupyter-widgets/controls",
            "_model_module_version": "1.5.0",
            "value": " 9920512/? [00:01&lt;00:00, 8483832.39it/s]",
            "_view_count": null,
            "_view_module_version": "1.5.0",
            "description_tooltip": null,
            "_model_module": "@jupyter-widgets/controls",
            "layout": "IPY_MODEL_848cc9dddd4b421eabe19acbf345509b"
          }
        },
        "15594db186994d5ba8c965be2d2b1c6d": {
          "model_module": "@jupyter-widgets/controls",
          "model_name": "ProgressStyleModel",
          "state": {
            "_view_name": "StyleView",
            "_model_name": "ProgressStyleModel",
            "description_width": "initial",
            "_view_module": "@jupyter-widgets/base",
            "_model_module_version": "1.5.0",
            "_view_count": null,
            "_view_module_version": "1.2.0",
            "bar_color": null,
            "_model_module": "@jupyter-widgets/controls"
          }
        },
        "0b1516af113c42f092432b96e1fdbf75": {
          "model_module": "@jupyter-widgets/base",
          "model_name": "LayoutModel",
          "state": {
            "_view_name": "LayoutView",
            "grid_template_rows": null,
            "right": null,
            "justify_content": null,
            "_view_module": "@jupyter-widgets/base",
            "overflow": null,
            "_model_module_version": "1.2.0",
            "_view_count": null,
            "flex_flow": null,
            "width": null,
            "min_width": null,
            "border": null,
            "align_items": null,
            "bottom": null,
            "_model_module": "@jupyter-widgets/base",
            "top": null,
            "grid_column": null,
            "overflow_y": null,
            "overflow_x": null,
            "grid_auto_flow": null,
            "grid_area": null,
            "grid_template_columns": null,
            "flex": null,
            "_model_name": "LayoutModel",
            "justify_items": null,
            "grid_row": null,
            "max_height": null,
            "align_content": null,
            "visibility": null,
            "align_self": null,
            "height": null,
            "min_height": null,
            "padding": null,
            "grid_auto_rows": null,
            "grid_gap": null,
            "max_width": null,
            "order": null,
            "_view_module_version": "1.2.0",
            "grid_template_areas": null,
            "object_position": null,
            "object_fit": null,
            "grid_auto_columns": null,
            "margin": null,
            "display": null,
            "left": null
          }
        },
        "7f996bad066f4570a15c91b4634f5562": {
          "model_module": "@jupyter-widgets/controls",
          "model_name": "DescriptionStyleModel",
          "state": {
            "_view_name": "StyleView",
            "_model_name": "DescriptionStyleModel",
            "description_width": "",
            "_view_module": "@jupyter-widgets/base",
            "_model_module_version": "1.5.0",
            "_view_count": null,
            "_view_module_version": "1.2.0",
            "_model_module": "@jupyter-widgets/controls"
          }
        },
        "848cc9dddd4b421eabe19acbf345509b": {
          "model_module": "@jupyter-widgets/base",
          "model_name": "LayoutModel",
          "state": {
            "_view_name": "LayoutView",
            "grid_template_rows": null,
            "right": null,
            "justify_content": null,
            "_view_module": "@jupyter-widgets/base",
            "overflow": null,
            "_model_module_version": "1.2.0",
            "_view_count": null,
            "flex_flow": null,
            "width": null,
            "min_width": null,
            "border": null,
            "align_items": null,
            "bottom": null,
            "_model_module": "@jupyter-widgets/base",
            "top": null,
            "grid_column": null,
            "overflow_y": null,
            "overflow_x": null,
            "grid_auto_flow": null,
            "grid_area": null,
            "grid_template_columns": null,
            "flex": null,
            "_model_name": "LayoutModel",
            "justify_items": null,
            "grid_row": null,
            "max_height": null,
            "align_content": null,
            "visibility": null,
            "align_self": null,
            "height": null,
            "min_height": null,
            "padding": null,
            "grid_auto_rows": null,
            "grid_gap": null,
            "max_width": null,
            "order": null,
            "_view_module_version": "1.2.0",
            "grid_template_areas": null,
            "object_position": null,
            "object_fit": null,
            "grid_auto_columns": null,
            "margin": null,
            "display": null,
            "left": null
          }
        },
        "29a320d657af4f6d9b112ef7142b1efe": {
          "model_module": "@jupyter-widgets/controls",
          "model_name": "HBoxModel",
          "state": {
            "_view_name": "HBoxView",
            "_dom_classes": [],
            "_model_name": "HBoxModel",
            "_view_module": "@jupyter-widgets/controls",
            "_model_module_version": "1.5.0",
            "_view_count": null,
            "_view_module_version": "1.5.0",
            "box_style": "",
            "layout": "IPY_MODEL_709cf9f4002c47219e2cec7ab69caa20",
            "_model_module": "@jupyter-widgets/controls",
            "children": [
              "IPY_MODEL_607836d4f6b74f2089596f30780c5b69",
              "IPY_MODEL_9041d718fbe94027894316849d891d9c"
            ]
          }
        },
        "709cf9f4002c47219e2cec7ab69caa20": {
          "model_module": "@jupyter-widgets/base",
          "model_name": "LayoutModel",
          "state": {
            "_view_name": "LayoutView",
            "grid_template_rows": null,
            "right": null,
            "justify_content": null,
            "_view_module": "@jupyter-widgets/base",
            "overflow": null,
            "_model_module_version": "1.2.0",
            "_view_count": null,
            "flex_flow": null,
            "width": null,
            "min_width": null,
            "border": null,
            "align_items": null,
            "bottom": null,
            "_model_module": "@jupyter-widgets/base",
            "top": null,
            "grid_column": null,
            "overflow_y": null,
            "overflow_x": null,
            "grid_auto_flow": null,
            "grid_area": null,
            "grid_template_columns": null,
            "flex": null,
            "_model_name": "LayoutModel",
            "justify_items": null,
            "grid_row": null,
            "max_height": null,
            "align_content": null,
            "visibility": null,
            "align_self": null,
            "height": null,
            "min_height": null,
            "padding": null,
            "grid_auto_rows": null,
            "grid_gap": null,
            "max_width": null,
            "order": null,
            "_view_module_version": "1.2.0",
            "grid_template_areas": null,
            "object_position": null,
            "object_fit": null,
            "grid_auto_columns": null,
            "margin": null,
            "display": null,
            "left": null
          }
        },
        "607836d4f6b74f2089596f30780c5b69": {
          "model_module": "@jupyter-widgets/controls",
          "model_name": "FloatProgressModel",
          "state": {
            "_view_name": "ProgressView",
            "style": "IPY_MODEL_f58a8a22090f4a0c83f205a8a5943094",
            "_dom_classes": [],
            "description": "",
            "_model_name": "FloatProgressModel",
            "bar_style": "success",
            "max": 1,
            "_view_module": "@jupyter-widgets/controls",
            "_model_module_version": "1.5.0",
            "value": 1,
            "_view_count": null,
            "_view_module_version": "1.5.0",
            "orientation": "horizontal",
            "min": 0,
            "description_tooltip": null,
            "_model_module": "@jupyter-widgets/controls",
            "layout": "IPY_MODEL_9e7dc43820f4411bba9bf6ab316a326f"
          }
        },
        "9041d718fbe94027894316849d891d9c": {
          "model_module": "@jupyter-widgets/controls",
          "model_name": "HTMLModel",
          "state": {
            "_view_name": "HTMLView",
            "style": "IPY_MODEL_0366caeae06f4f27873336066d92bf61",
            "_dom_classes": [],
            "description": "",
            "_model_name": "HTMLModel",
            "placeholder": "​",
            "_view_module": "@jupyter-widgets/controls",
            "_model_module_version": "1.5.0",
            "value": " 32768/? [00:00&lt;00:00, 108648.60it/s]",
            "_view_count": null,
            "_view_module_version": "1.5.0",
            "description_tooltip": null,
            "_model_module": "@jupyter-widgets/controls",
            "layout": "IPY_MODEL_8d76b3d020a84684951f483f4f5d4fac"
          }
        },
        "f58a8a22090f4a0c83f205a8a5943094": {
          "model_module": "@jupyter-widgets/controls",
          "model_name": "ProgressStyleModel",
          "state": {
            "_view_name": "StyleView",
            "_model_name": "ProgressStyleModel",
            "description_width": "initial",
            "_view_module": "@jupyter-widgets/base",
            "_model_module_version": "1.5.0",
            "_view_count": null,
            "_view_module_version": "1.2.0",
            "bar_color": null,
            "_model_module": "@jupyter-widgets/controls"
          }
        },
        "9e7dc43820f4411bba9bf6ab316a326f": {
          "model_module": "@jupyter-widgets/base",
          "model_name": "LayoutModel",
          "state": {
            "_view_name": "LayoutView",
            "grid_template_rows": null,
            "right": null,
            "justify_content": null,
            "_view_module": "@jupyter-widgets/base",
            "overflow": null,
            "_model_module_version": "1.2.0",
            "_view_count": null,
            "flex_flow": null,
            "width": null,
            "min_width": null,
            "border": null,
            "align_items": null,
            "bottom": null,
            "_model_module": "@jupyter-widgets/base",
            "top": null,
            "grid_column": null,
            "overflow_y": null,
            "overflow_x": null,
            "grid_auto_flow": null,
            "grid_area": null,
            "grid_template_columns": null,
            "flex": null,
            "_model_name": "LayoutModel",
            "justify_items": null,
            "grid_row": null,
            "max_height": null,
            "align_content": null,
            "visibility": null,
            "align_self": null,
            "height": null,
            "min_height": null,
            "padding": null,
            "grid_auto_rows": null,
            "grid_gap": null,
            "max_width": null,
            "order": null,
            "_view_module_version": "1.2.0",
            "grid_template_areas": null,
            "object_position": null,
            "object_fit": null,
            "grid_auto_columns": null,
            "margin": null,
            "display": null,
            "left": null
          }
        },
        "0366caeae06f4f27873336066d92bf61": {
          "model_module": "@jupyter-widgets/controls",
          "model_name": "DescriptionStyleModel",
          "state": {
            "_view_name": "StyleView",
            "_model_name": "DescriptionStyleModel",
            "description_width": "",
            "_view_module": "@jupyter-widgets/base",
            "_model_module_version": "1.5.0",
            "_view_count": null,
            "_view_module_version": "1.2.0",
            "_model_module": "@jupyter-widgets/controls"
          }
        },
        "8d76b3d020a84684951f483f4f5d4fac": {
          "model_module": "@jupyter-widgets/base",
          "model_name": "LayoutModel",
          "state": {
            "_view_name": "LayoutView",
            "grid_template_rows": null,
            "right": null,
            "justify_content": null,
            "_view_module": "@jupyter-widgets/base",
            "overflow": null,
            "_model_module_version": "1.2.0",
            "_view_count": null,
            "flex_flow": null,
            "width": null,
            "min_width": null,
            "border": null,
            "align_items": null,
            "bottom": null,
            "_model_module": "@jupyter-widgets/base",
            "top": null,
            "grid_column": null,
            "overflow_y": null,
            "overflow_x": null,
            "grid_auto_flow": null,
            "grid_area": null,
            "grid_template_columns": null,
            "flex": null,
            "_model_name": "LayoutModel",
            "justify_items": null,
            "grid_row": null,
            "max_height": null,
            "align_content": null,
            "visibility": null,
            "align_self": null,
            "height": null,
            "min_height": null,
            "padding": null,
            "grid_auto_rows": null,
            "grid_gap": null,
            "max_width": null,
            "order": null,
            "_view_module_version": "1.2.0",
            "grid_template_areas": null,
            "object_position": null,
            "object_fit": null,
            "grid_auto_columns": null,
            "margin": null,
            "display": null,
            "left": null
          }
        },
        "fa72678cd3b84b068c306d1feb216aef": {
          "model_module": "@jupyter-widgets/controls",
          "model_name": "HBoxModel",
          "state": {
            "_view_name": "HBoxView",
            "_dom_classes": [],
            "_model_name": "HBoxModel",
            "_view_module": "@jupyter-widgets/controls",
            "_model_module_version": "1.5.0",
            "_view_count": null,
            "_view_module_version": "1.5.0",
            "box_style": "",
            "layout": "IPY_MODEL_ec9839ea64964e2a9011b6b03eff4c56",
            "_model_module": "@jupyter-widgets/controls",
            "children": [
              "IPY_MODEL_a72f6cf8bd4a4fd28dd40cc5bf674628",
              "IPY_MODEL_9eae4fb6f2f64f66b48c6c9ac0cb6fe3"
            ]
          }
        },
        "ec9839ea64964e2a9011b6b03eff4c56": {
          "model_module": "@jupyter-widgets/base",
          "model_name": "LayoutModel",
          "state": {
            "_view_name": "LayoutView",
            "grid_template_rows": null,
            "right": null,
            "justify_content": null,
            "_view_module": "@jupyter-widgets/base",
            "overflow": null,
            "_model_module_version": "1.2.0",
            "_view_count": null,
            "flex_flow": null,
            "width": null,
            "min_width": null,
            "border": null,
            "align_items": null,
            "bottom": null,
            "_model_module": "@jupyter-widgets/base",
            "top": null,
            "grid_column": null,
            "overflow_y": null,
            "overflow_x": null,
            "grid_auto_flow": null,
            "grid_area": null,
            "grid_template_columns": null,
            "flex": null,
            "_model_name": "LayoutModel",
            "justify_items": null,
            "grid_row": null,
            "max_height": null,
            "align_content": null,
            "visibility": null,
            "align_self": null,
            "height": null,
            "min_height": null,
            "padding": null,
            "grid_auto_rows": null,
            "grid_gap": null,
            "max_width": null,
            "order": null,
            "_view_module_version": "1.2.0",
            "grid_template_areas": null,
            "object_position": null,
            "object_fit": null,
            "grid_auto_columns": null,
            "margin": null,
            "display": null,
            "left": null
          }
        },
        "a72f6cf8bd4a4fd28dd40cc5bf674628": {
          "model_module": "@jupyter-widgets/controls",
          "model_name": "FloatProgressModel",
          "state": {
            "_view_name": "ProgressView",
            "style": "IPY_MODEL_a1b5ca0ee4084db786424e334c491f18",
            "_dom_classes": [],
            "description": "",
            "_model_name": "FloatProgressModel",
            "bar_style": "success",
            "max": 1,
            "_view_module": "@jupyter-widgets/controls",
            "_model_module_version": "1.5.0",
            "value": 1,
            "_view_count": null,
            "_view_module_version": "1.5.0",
            "orientation": "horizontal",
            "min": 0,
            "description_tooltip": null,
            "_model_module": "@jupyter-widgets/controls",
            "layout": "IPY_MODEL_159177f6fd51406da6e6202a156f996f"
          }
        },
        "9eae4fb6f2f64f66b48c6c9ac0cb6fe3": {
          "model_module": "@jupyter-widgets/controls",
          "model_name": "HTMLModel",
          "state": {
            "_view_name": "HTMLView",
            "style": "IPY_MODEL_024ab54ce9b84f38a9fecde6a3981298",
            "_dom_classes": [],
            "description": "",
            "_model_name": "HTMLModel",
            "placeholder": "​",
            "_view_module": "@jupyter-widgets/controls",
            "_model_module_version": "1.5.0",
            "value": " 1654784/? [00:00&lt;00:00, 7368316.89it/s]",
            "_view_count": null,
            "_view_module_version": "1.5.0",
            "description_tooltip": null,
            "_model_module": "@jupyter-widgets/controls",
            "layout": "IPY_MODEL_37b7958c691b4e43918baa62460ed6d9"
          }
        },
        "a1b5ca0ee4084db786424e334c491f18": {
          "model_module": "@jupyter-widgets/controls",
          "model_name": "ProgressStyleModel",
          "state": {
            "_view_name": "StyleView",
            "_model_name": "ProgressStyleModel",
            "description_width": "initial",
            "_view_module": "@jupyter-widgets/base",
            "_model_module_version": "1.5.0",
            "_view_count": null,
            "_view_module_version": "1.2.0",
            "bar_color": null,
            "_model_module": "@jupyter-widgets/controls"
          }
        },
        "159177f6fd51406da6e6202a156f996f": {
          "model_module": "@jupyter-widgets/base",
          "model_name": "LayoutModel",
          "state": {
            "_view_name": "LayoutView",
            "grid_template_rows": null,
            "right": null,
            "justify_content": null,
            "_view_module": "@jupyter-widgets/base",
            "overflow": null,
            "_model_module_version": "1.2.0",
            "_view_count": null,
            "flex_flow": null,
            "width": null,
            "min_width": null,
            "border": null,
            "align_items": null,
            "bottom": null,
            "_model_module": "@jupyter-widgets/base",
            "top": null,
            "grid_column": null,
            "overflow_y": null,
            "overflow_x": null,
            "grid_auto_flow": null,
            "grid_area": null,
            "grid_template_columns": null,
            "flex": null,
            "_model_name": "LayoutModel",
            "justify_items": null,
            "grid_row": null,
            "max_height": null,
            "align_content": null,
            "visibility": null,
            "align_self": null,
            "height": null,
            "min_height": null,
            "padding": null,
            "grid_auto_rows": null,
            "grid_gap": null,
            "max_width": null,
            "order": null,
            "_view_module_version": "1.2.0",
            "grid_template_areas": null,
            "object_position": null,
            "object_fit": null,
            "grid_auto_columns": null,
            "margin": null,
            "display": null,
            "left": null
          }
        },
        "024ab54ce9b84f38a9fecde6a3981298": {
          "model_module": "@jupyter-widgets/controls",
          "model_name": "DescriptionStyleModel",
          "state": {
            "_view_name": "StyleView",
            "_model_name": "DescriptionStyleModel",
            "description_width": "",
            "_view_module": "@jupyter-widgets/base",
            "_model_module_version": "1.5.0",
            "_view_count": null,
            "_view_module_version": "1.2.0",
            "_model_module": "@jupyter-widgets/controls"
          }
        },
        "37b7958c691b4e43918baa62460ed6d9": {
          "model_module": "@jupyter-widgets/base",
          "model_name": "LayoutModel",
          "state": {
            "_view_name": "LayoutView",
            "grid_template_rows": null,
            "right": null,
            "justify_content": null,
            "_view_module": "@jupyter-widgets/base",
            "overflow": null,
            "_model_module_version": "1.2.0",
            "_view_count": null,
            "flex_flow": null,
            "width": null,
            "min_width": null,
            "border": null,
            "align_items": null,
            "bottom": null,
            "_model_module": "@jupyter-widgets/base",
            "top": null,
            "grid_column": null,
            "overflow_y": null,
            "overflow_x": null,
            "grid_auto_flow": null,
            "grid_area": null,
            "grid_template_columns": null,
            "flex": null,
            "_model_name": "LayoutModel",
            "justify_items": null,
            "grid_row": null,
            "max_height": null,
            "align_content": null,
            "visibility": null,
            "align_self": null,
            "height": null,
            "min_height": null,
            "padding": null,
            "grid_auto_rows": null,
            "grid_gap": null,
            "max_width": null,
            "order": null,
            "_view_module_version": "1.2.0",
            "grid_template_areas": null,
            "object_position": null,
            "object_fit": null,
            "grid_auto_columns": null,
            "margin": null,
            "display": null,
            "left": null
          }
        },
        "d653fd88f39a4562a58249a3465268d7": {
          "model_module": "@jupyter-widgets/controls",
          "model_name": "HBoxModel",
          "state": {
            "_view_name": "HBoxView",
            "_dom_classes": [],
            "_model_name": "HBoxModel",
            "_view_module": "@jupyter-widgets/controls",
            "_model_module_version": "1.5.0",
            "_view_count": null,
            "_view_module_version": "1.5.0",
            "box_style": "",
            "layout": "IPY_MODEL_5b60ed3df0e14ecc88f0f7f6be90c7aa",
            "_model_module": "@jupyter-widgets/controls",
            "children": [
              "IPY_MODEL_b7fc408a6e724caa853aa6966f3256a9",
              "IPY_MODEL_561b693c951047bbaca3ab15871d2f88"
            ]
          }
        },
        "5b60ed3df0e14ecc88f0f7f6be90c7aa": {
          "model_module": "@jupyter-widgets/base",
          "model_name": "LayoutModel",
          "state": {
            "_view_name": "LayoutView",
            "grid_template_rows": null,
            "right": null,
            "justify_content": null,
            "_view_module": "@jupyter-widgets/base",
            "overflow": null,
            "_model_module_version": "1.2.0",
            "_view_count": null,
            "flex_flow": null,
            "width": null,
            "min_width": null,
            "border": null,
            "align_items": null,
            "bottom": null,
            "_model_module": "@jupyter-widgets/base",
            "top": null,
            "grid_column": null,
            "overflow_y": null,
            "overflow_x": null,
            "grid_auto_flow": null,
            "grid_area": null,
            "grid_template_columns": null,
            "flex": null,
            "_model_name": "LayoutModel",
            "justify_items": null,
            "grid_row": null,
            "max_height": null,
            "align_content": null,
            "visibility": null,
            "align_self": null,
            "height": null,
            "min_height": null,
            "padding": null,
            "grid_auto_rows": null,
            "grid_gap": null,
            "max_width": null,
            "order": null,
            "_view_module_version": "1.2.0",
            "grid_template_areas": null,
            "object_position": null,
            "object_fit": null,
            "grid_auto_columns": null,
            "margin": null,
            "display": null,
            "left": null
          }
        },
        "b7fc408a6e724caa853aa6966f3256a9": {
          "model_module": "@jupyter-widgets/controls",
          "model_name": "FloatProgressModel",
          "state": {
            "_view_name": "ProgressView",
            "style": "IPY_MODEL_26f0968adf634dbf8a644b4c06fee77d",
            "_dom_classes": [],
            "description": "",
            "_model_name": "FloatProgressModel",
            "bar_style": "success",
            "max": 1,
            "_view_module": "@jupyter-widgets/controls",
            "_model_module_version": "1.5.0",
            "value": 1,
            "_view_count": null,
            "_view_module_version": "1.5.0",
            "orientation": "horizontal",
            "min": 0,
            "description_tooltip": null,
            "_model_module": "@jupyter-widgets/controls",
            "layout": "IPY_MODEL_ea621cca67704ea489015440d2609669"
          }
        },
        "561b693c951047bbaca3ab15871d2f88": {
          "model_module": "@jupyter-widgets/controls",
          "model_name": "HTMLModel",
          "state": {
            "_view_name": "HTMLView",
            "style": "IPY_MODEL_22c1af08f45949debfdcea08fb3647c4",
            "_dom_classes": [],
            "description": "",
            "_model_name": "HTMLModel",
            "placeholder": "​",
            "_view_module": "@jupyter-widgets/controls",
            "_model_module_version": "1.5.0",
            "value": " 8192/? [00:00&lt;00:00, 28046.91it/s]",
            "_view_count": null,
            "_view_module_version": "1.5.0",
            "description_tooltip": null,
            "_model_module": "@jupyter-widgets/controls",
            "layout": "IPY_MODEL_55d4ca968c36409a91815027c609ee64"
          }
        },
        "26f0968adf634dbf8a644b4c06fee77d": {
          "model_module": "@jupyter-widgets/controls",
          "model_name": "ProgressStyleModel",
          "state": {
            "_view_name": "StyleView",
            "_model_name": "ProgressStyleModel",
            "description_width": "initial",
            "_view_module": "@jupyter-widgets/base",
            "_model_module_version": "1.5.0",
            "_view_count": null,
            "_view_module_version": "1.2.0",
            "bar_color": null,
            "_model_module": "@jupyter-widgets/controls"
          }
        },
        "ea621cca67704ea489015440d2609669": {
          "model_module": "@jupyter-widgets/base",
          "model_name": "LayoutModel",
          "state": {
            "_view_name": "LayoutView",
            "grid_template_rows": null,
            "right": null,
            "justify_content": null,
            "_view_module": "@jupyter-widgets/base",
            "overflow": null,
            "_model_module_version": "1.2.0",
            "_view_count": null,
            "flex_flow": null,
            "width": null,
            "min_width": null,
            "border": null,
            "align_items": null,
            "bottom": null,
            "_model_module": "@jupyter-widgets/base",
            "top": null,
            "grid_column": null,
            "overflow_y": null,
            "overflow_x": null,
            "grid_auto_flow": null,
            "grid_area": null,
            "grid_template_columns": null,
            "flex": null,
            "_model_name": "LayoutModel",
            "justify_items": null,
            "grid_row": null,
            "max_height": null,
            "align_content": null,
            "visibility": null,
            "align_self": null,
            "height": null,
            "min_height": null,
            "padding": null,
            "grid_auto_rows": null,
            "grid_gap": null,
            "max_width": null,
            "order": null,
            "_view_module_version": "1.2.0",
            "grid_template_areas": null,
            "object_position": null,
            "object_fit": null,
            "grid_auto_columns": null,
            "margin": null,
            "display": null,
            "left": null
          }
        },
        "22c1af08f45949debfdcea08fb3647c4": {
          "model_module": "@jupyter-widgets/controls",
          "model_name": "DescriptionStyleModel",
          "state": {
            "_view_name": "StyleView",
            "_model_name": "DescriptionStyleModel",
            "description_width": "",
            "_view_module": "@jupyter-widgets/base",
            "_model_module_version": "1.5.0",
            "_view_count": null,
            "_view_module_version": "1.2.0",
            "_model_module": "@jupyter-widgets/controls"
          }
        },
        "55d4ca968c36409a91815027c609ee64": {
          "model_module": "@jupyter-widgets/base",
          "model_name": "LayoutModel",
          "state": {
            "_view_name": "LayoutView",
            "grid_template_rows": null,
            "right": null,
            "justify_content": null,
            "_view_module": "@jupyter-widgets/base",
            "overflow": null,
            "_model_module_version": "1.2.0",
            "_view_count": null,
            "flex_flow": null,
            "width": null,
            "min_width": null,
            "border": null,
            "align_items": null,
            "bottom": null,
            "_model_module": "@jupyter-widgets/base",
            "top": null,
            "grid_column": null,
            "overflow_y": null,
            "overflow_x": null,
            "grid_auto_flow": null,
            "grid_area": null,
            "grid_template_columns": null,
            "flex": null,
            "_model_name": "LayoutModel",
            "justify_items": null,
            "grid_row": null,
            "max_height": null,
            "align_content": null,
            "visibility": null,
            "align_self": null,
            "height": null,
            "min_height": null,
            "padding": null,
            "grid_auto_rows": null,
            "grid_gap": null,
            "max_width": null,
            "order": null,
            "_view_module_version": "1.2.0",
            "grid_template_areas": null,
            "object_position": null,
            "object_fit": null,
            "grid_auto_columns": null,
            "margin": null,
            "display": null,
            "left": null
          }
        }
      }
    }
  },
  "cells": [
    {
      "cell_type": "markdown",
      "metadata": {
        "id": "view-in-github",
        "colab_type": "text"
      },
      "source": [
        "<a href=\"https://colab.research.google.com/github/Seonghoon-Yu/paper-implement-in-pytorch/blob/master/Classification/LeNet_5.ipynb\" target=\"_parent\"><img src=\"https://colab.research.google.com/assets/colab-badge.svg\" alt=\"Open In Colab\"/></a>"
      ]
    },
    {
      "cell_type": "code",
      "metadata": {
        "colab": {
          "base_uri": "https://localhost:8080/"
        },
        "id": "AhJvaSkTioch",
        "outputId": "e11ea912-dced-4c67-b071-4178c7b30b1c"
      },
      "source": [
        "from google.colab import drive\r\n",
        "drive.mount('cookbook')"
      ],
      "execution_count": 1,
      "outputs": [
        {
          "output_type": "stream",
          "text": [
            "Mounted at cookbook\n"
          ],
          "name": "stdout"
        }
      ]
    },
    {
      "cell_type": "markdown",
      "metadata": {
        "id": "2WOqdicXjfF_"
      },
      "source": [
        "# CUDA check\r\n",
        "우선, 사용가능한 GPU를 확인합니다."
      ]
    },
    {
      "cell_type": "code",
      "metadata": {
        "colab": {
          "base_uri": "https://localhost:8080/"
        },
        "id": "ZaY_Gb_jizuY",
        "outputId": "67ece961-a7fa-4a63-e1a8-28677ade2b1d"
      },
      "source": [
        "import torch\r\n",
        "if torch.cuda.is_available():\r\n",
        "    device = torch.device('cuda:0')\r\n",
        "else:\r\n",
        "    device = torch.device('cpu')\r\n",
        "print(device)"
      ],
      "execution_count": 2,
      "outputs": [
        {
          "output_type": "stream",
          "text": [
            "cuda:0\n"
          ],
          "name": "stdout"
        }
      ]
    },
    {
      "cell_type": "markdown",
      "metadata": {
        "id": "Ss5EHfkxk14m"
      },
      "source": [
        "# MINST dataset 불러오기\r\n",
        "LeNet-5를 학습하기 위한 MINST dataset을 불러옵니다. MNIST dataset은 torchvision 패키지에서 제공합니다."
      ]
    },
    {
      "cell_type": "code",
      "metadata": {
        "id": "PSquLTpZldYG"
      },
      "source": [
        "# 우선, MNIST dataset에 적용할 transformation 객체를 생성합니다.\r\n",
        "from torchvision import transforms\r\n",
        "\r\n",
        "# transformation 정의하기\r\n",
        "data_transform = transforms.Compose([\r\n",
        "            transforms.Resize((32, 32)),\r\n",
        "            transforms.ToTensor(),\r\n",
        "])"
      ],
      "execution_count": 3,
      "outputs": []
    },
    {
      "cell_type": "code",
      "metadata": {
        "id": "vStLrJZe05UG"
      },
      "source": [
        "from six.moves import urllib    \r\n",
        "opener = urllib.request.build_opener()\r\n",
        "opener.addheaders = [('User-agent', 'Mozilla/5.0')]\r\n",
        "urllib.request.install_opener(opener)"
      ],
      "execution_count": 4,
      "outputs": []
    },
    {
      "cell_type": "code",
      "metadata": {
        "id": "JZS-g-VwkL0H",
        "colab": {
          "base_uri": "https://localhost:8080/",
          "height": 417,
          "referenced_widgets": [
            "fddb8bb17dde43f4b6db310571d4d7fe",
            "e1b5c2ffeb4d4cb8958f5268c9c3e314",
            "22b0a61e45b64a70998d05f7c8f6dc02",
            "fa7bad13be60496784e49a1252786126",
            "15594db186994d5ba8c965be2d2b1c6d",
            "0b1516af113c42f092432b96e1fdbf75",
            "7f996bad066f4570a15c91b4634f5562",
            "848cc9dddd4b421eabe19acbf345509b",
            "29a320d657af4f6d9b112ef7142b1efe",
            "709cf9f4002c47219e2cec7ab69caa20",
            "607836d4f6b74f2089596f30780c5b69",
            "9041d718fbe94027894316849d891d9c",
            "f58a8a22090f4a0c83f205a8a5943094",
            "9e7dc43820f4411bba9bf6ab316a326f",
            "0366caeae06f4f27873336066d92bf61",
            "8d76b3d020a84684951f483f4f5d4fac",
            "fa72678cd3b84b068c306d1feb216aef",
            "ec9839ea64964e2a9011b6b03eff4c56",
            "a72f6cf8bd4a4fd28dd40cc5bf674628",
            "9eae4fb6f2f64f66b48c6c9ac0cb6fe3",
            "a1b5ca0ee4084db786424e334c491f18",
            "159177f6fd51406da6e6202a156f996f",
            "024ab54ce9b84f38a9fecde6a3981298",
            "37b7958c691b4e43918baa62460ed6d9",
            "d653fd88f39a4562a58249a3465268d7",
            "5b60ed3df0e14ecc88f0f7f6be90c7aa",
            "b7fc408a6e724caa853aa6966f3256a9",
            "561b693c951047bbaca3ab15871d2f88",
            "26f0968adf634dbf8a644b4c06fee77d",
            "ea621cca67704ea489015440d2609669",
            "22c1af08f45949debfdcea08fb3647c4",
            "55d4ca968c36409a91815027c609ee64"
          ]
        },
        "outputId": "72645630-415e-4b8e-f5a2-1453b61931d8"
      },
      "source": [
        "# MNIST training dataset 불러오기\r\n",
        "from torchvision import datasets\r\n",
        "\r\n",
        "# 데이터를 저장할 경로 설정\r\n",
        "path2data = '/content/data'\r\n",
        "\r\n",
        "# training data 불러오기\r\n",
        "train_data = datasets.MNIST(path2data, train=True, download=True, transform=data_transform)\r\n",
        "\r\n",
        "# MNIST test dataset 불러오기\r\n",
        "val_data = datasets.MNIST(path2data, train=False, download=True, transform=data_transform)"
      ],
      "execution_count": 5,
      "outputs": [
        {
          "output_type": "stream",
          "text": [
            "Downloading http://yann.lecun.com/exdb/mnist/train-images-idx3-ubyte.gz to /content/data/MNIST/raw/train-images-idx3-ubyte.gz\n"
          ],
          "name": "stdout"
        },
        {
          "output_type": "display_data",
          "data": {
            "application/vnd.jupyter.widget-view+json": {
              "model_id": "fddb8bb17dde43f4b6db310571d4d7fe",
              "version_minor": 0,
              "version_major": 2
            },
            "text/plain": [
              "HBox(children=(FloatProgress(value=1.0, bar_style='info', max=1.0), HTML(value='')))"
            ]
          },
          "metadata": {
            "tags": []
          }
        },
        {
          "output_type": "stream",
          "text": [
            "Extracting /content/data/MNIST/raw/train-images-idx3-ubyte.gz to /content/data/MNIST/raw\n",
            "Downloading http://yann.lecun.com/exdb/mnist/train-labels-idx1-ubyte.gz to /content/data/MNIST/raw/train-labels-idx1-ubyte.gz\n"
          ],
          "name": "stdout"
        },
        {
          "output_type": "display_data",
          "data": {
            "application/vnd.jupyter.widget-view+json": {
              "model_id": "29a320d657af4f6d9b112ef7142b1efe",
              "version_minor": 0,
              "version_major": 2
            },
            "text/plain": [
              "HBox(children=(FloatProgress(value=1.0, bar_style='info', max=1.0), HTML(value='')))"
            ]
          },
          "metadata": {
            "tags": []
          }
        },
        {
          "output_type": "stream",
          "text": [
            "Extracting /content/data/MNIST/raw/train-labels-idx1-ubyte.gz to /content/data/MNIST/raw\n",
            "Downloading http://yann.lecun.com/exdb/mnist/t10k-images-idx3-ubyte.gz to /content/data/MNIST/raw/t10k-images-idx3-ubyte.gz\n"
          ],
          "name": "stdout"
        },
        {
          "output_type": "display_data",
          "data": {
            "application/vnd.jupyter.widget-view+json": {
              "model_id": "fa72678cd3b84b068c306d1feb216aef",
              "version_minor": 0,
              "version_major": 2
            },
            "text/plain": [
              "HBox(children=(FloatProgress(value=1.0, bar_style='info', max=1.0), HTML(value='')))"
            ]
          },
          "metadata": {
            "tags": []
          }
        },
        {
          "output_type": "stream",
          "text": [
            "Extracting /content/data/MNIST/raw/t10k-images-idx3-ubyte.gz to /content/data/MNIST/raw\n",
            "Downloading http://yann.lecun.com/exdb/mnist/t10k-labels-idx1-ubyte.gz to /content/data/MNIST/raw/t10k-labels-idx1-ubyte.gz\n",
            "\n",
            "\n"
          ],
          "name": "stdout"
        },
        {
          "output_type": "display_data",
          "data": {
            "application/vnd.jupyter.widget-view+json": {
              "model_id": "d653fd88f39a4562a58249a3465268d7",
              "version_minor": 0,
              "version_major": 2
            },
            "text/plain": [
              "HBox(children=(FloatProgress(value=1.0, bar_style='info', max=1.0), HTML(value='')))"
            ]
          },
          "metadata": {
            "tags": []
          }
        },
        {
          "output_type": "stream",
          "text": [
            "Extracting /content/data/MNIST/raw/t10k-labels-idx1-ubyte.gz to /content/data/MNIST/raw\n",
            "Processing...\n",
            "Done!\n"
          ],
          "name": "stdout"
        },
        {
          "output_type": "stream",
          "text": [
            "/usr/local/lib/python3.7/dist-packages/torchvision/datasets/mnist.py:480: UserWarning: The given NumPy array is not writeable, and PyTorch does not support non-writeable tensors. This means you can write to the underlying (supposedly non-writeable) NumPy array using the tensor. You may want to copy the array to protect its data or make it writeable before converting it to a tensor. This type of warning will be suppressed for the rest of this program. (Triggered internally at  /pytorch/torch/csrc/utils/tensor_numpy.cpp:141.)\n",
            "  return torch.from_numpy(parsed.astype(m[2], copy=False)).view(*s)\n"
          ],
          "name": "stderr"
        }
      ]
    },
    {
      "cell_type": "code",
      "metadata": {
        "id": "p-fASIT0mhbC",
        "colab": {
          "base_uri": "https://localhost:8080/",
          "height": 297
        },
        "outputId": "d3d17139-74ab-4136-d37f-90e9f05fd6c8"
      },
      "source": [
        "# sample images를 확인합니다.\r\n",
        "from torchvision import utils\r\n",
        "import matplotlib.pyplot as plt\r\n",
        "import numpy as np\r\n",
        "%matplotlib inline\r\n",
        "\r\n",
        "# training data를 추출합니다.\r\n",
        "x_train, y_train = train_data.data, train_data.targets\r\n",
        "\r\n",
        "# val data를 추출합니다.\r\n",
        "x_val, y_val = val_data.data, val_data.targets\r\n",
        "\r\n",
        "# 차원을 추가하여 B*C*H*W 가 되도록 합니다.\r\n",
        "if len(x_train.shape) == 3:\r\n",
        "    x_train = x_train.unsqueeze(1)\r\n",
        "\r\n",
        "if len(x_val.shape) == 3:\r\n",
        "    x_val = x_val.unsqueeze(1)\r\n",
        "\r\n",
        "# tensor를 image로 변경하는 함수를 정의합니다.\r\n",
        "def show(img):\r\n",
        "    # tensor를 numpy array로 변경합니다.\r\n",
        "    npimg = img.numpy()\r\n",
        "    # C*H*W를 H*W*C로 변경합니다.\r\n",
        "    npimg_tr = npimg.transpose((1,2,0))\r\n",
        "    plt.imshow(npimg_tr, interpolation='nearest')\r\n",
        "\r\n",
        "# images grid를 생성하고 출력합니다.\r\n",
        "# 총 40개 이미지, 행당 8개 이미지를 출력합니다.\r\n",
        "x_grid = utils.make_grid(x_train[:40], nrow=8, padding=2)\r\n",
        "\r\n",
        "show(x_grid)"
      ],
      "execution_count": 6,
      "outputs": [
        {
          "output_type": "stream",
          "text": [
            "\n",
            "\n"
          ],
          "name": "stdout"
        },
        {
          "output_type": "display_data",
          "data": {
            "image/png": "[encoded data removed]",
            "text/plain": [
              "<Figure size 432x288 with 1 Axes>"
            ]
          },
          "metadata": {
            "tags": [],
            "needs_background": "light"
          }
        }
      ]
    },
    {
      "cell_type": "code",
      "metadata": {
        "id": "7CBlZ4vd3a3f"
      },
      "source": [
        "# data loader 를 생성합니다.\r\n",
        "from torch.utils.data import DataLoader\r\n",
        "\r\n",
        "train_dl = DataLoader(train_data, batch_size=32, shuffle=True)\r\n",
        "val_dl = DataLoader(val_data, batch_size=32)"
      ],
      "execution_count": 7,
      "outputs": []
    },
    {
      "cell_type": "markdown",
      "metadata": {
        "id": "uVjYZCRP35VR"
      },
      "source": [
        "# LeNet-5 모델 구축하기\r\n",
        "data 전처리는 끝났습니다.\r\n",
        "이제 LeNet-5 모델을 구현하겠습니다."
      ]
    },
    {
      "cell_type": "code",
      "metadata": {
        "colab": {
          "base_uri": "https://localhost:8080/"
        },
        "id": "lFdG2DWm334y",
        "outputId": "4dc95019-5255-4111-ca8e-69617aab1c2b"
      },
      "source": [
        "from torch import nn\r\n",
        "import torch.nn.functional as F\r\n",
        "\r\n",
        "class LeNet_5(nn.Module):\r\n",
        "    def __init__(self):\r\n",
        "        super(LeNet_5,self).__init__()\r\n",
        "        self.conv1 = nn.Conv2d(1, 6, kernel_size=5, stride=1)\r\n",
        "        self.conv2 = nn.Conv2d(6, 16, kernel_size=5, stride=1)\r\n",
        "        self.conv3 = nn.Conv2d(16, 120, kernel_size=5, stride=1)\r\n",
        "        self.fc1 = nn.Linear(120, 84)\r\n",
        "        self.fc2 = nn.Linear(84, 10)\r\n",
        "\r\n",
        "    def forward(self, x):\r\n",
        "        x = F.tanh(self.conv1(x))\r\n",
        "        x = F.avg_pool2d(x, 2, 2)\r\n",
        "        x = F.tanh(self.conv2(x))\r\n",
        "        x = F.avg_pool2d(x, 2, 2)\r\n",
        "        x = F.tanh(self.conv3(x))\r\n",
        "        x = x.view(-1, 120)\r\n",
        "        x = F.tanh(self.fc1(x))\r\n",
        "        x = self.fc2(x)\r\n",
        "        return F.softmax(x, dim=1)\r\n",
        "\r\n",
        "model = LeNet_5()\r\n",
        "print(model)"
      ],
      "execution_count": 8,
      "outputs": [
        {
          "output_type": "stream",
          "text": [
            "LeNet_5(\n",
            "  (conv1): Conv2d(1, 6, kernel_size=(5, 5), stride=(1, 1))\n",
            "  (conv2): Conv2d(6, 16, kernel_size=(5, 5), stride=(1, 1))\n",
            "  (conv3): Conv2d(16, 120, kernel_size=(5, 5), stride=(1, 1))\n",
            "  (fc1): Linear(in_features=120, out_features=84, bias=True)\n",
            "  (fc2): Linear(in_features=84, out_features=10, bias=True)\n",
            ")\n"
          ],
          "name": "stdout"
        }
      ]
    },
    {
      "cell_type": "code",
      "metadata": {
        "colab": {
          "base_uri": "https://localhost:8080/"
        },
        "id": "XVKmZqhe7VdN",
        "outputId": "78b0acd4-6922-42ec-f435-e754a260f483"
      },
      "source": [
        "# 모델을 CUDA로 전달합니다.\r\n",
        "model.to(device)\r\n",
        "print(next(model.parameters()).device)"
      ],
      "execution_count": 9,
      "outputs": [
        {
          "output_type": "stream",
          "text": [
            "cuda:0\n"
          ],
          "name": "stdout"
        }
      ]
    },
    {
      "cell_type": "code",
      "metadata": {
        "colab": {
          "base_uri": "https://localhost:8080/"
        },
        "id": "S_ijm8P0803G",
        "outputId": "18632175-11bc-44e0-eb72-5483013d0dca"
      },
      "source": [
        "# 모델 summary를 확인합니다.\r\n",
        "from torchsummary import summary\r\n",
        "summary(model, input_size=(1, 32, 32))"
      ],
      "execution_count": 10,
      "outputs": [
        {
          "output_type": "stream",
          "text": [
            "----------------------------------------------------------------\n",
            "        Layer (type)               Output Shape         Param #\n",
            "================================================================\n",
            "            Conv2d-1            [-1, 6, 28, 28]             156\n",
            "            Conv2d-2           [-1, 16, 10, 10]           2,416\n",
            "            Conv2d-3            [-1, 120, 1, 1]          48,120\n",
            "            Linear-4                   [-1, 84]          10,164\n",
            "            Linear-5                   [-1, 10]             850\n",
            "================================================================\n",
            "Total params: 61,706\n",
            "Trainable params: 61,706\n",
            "Non-trainable params: 0\n",
            "----------------------------------------------------------------\n",
            "Input size (MB): 0.00\n",
            "Forward/backward pass size (MB): 0.05\n",
            "Params size (MB): 0.24\n",
            "Estimated Total Size (MB): 0.29\n",
            "----------------------------------------------------------------\n"
          ],
          "name": "stdout"
        },
        {
          "output_type": "stream",
          "text": [
            "/usr/local/lib/python3.7/dist-packages/torch/nn/functional.py:1628: UserWarning: nn.functional.tanh is deprecated. Use torch.tanh instead.\n",
            "  warnings.warn(\"nn.functional.tanh is deprecated. Use torch.tanh instead.\")\n"
          ],
          "name": "stderr"
        }
      ]
    },
    {
      "cell_type": "markdown",
      "metadata": {
        "id": "6TOxPM01BIYE"
      },
      "source": [
        "# loss function, optimizer 정의하기"
      ]
    },
    {
      "cell_type": "code",
      "metadata": {
        "id": "lz3Kw-cR89yv"
      },
      "source": [
        "# loss function 정의합니다.\r\n",
        "loss_func = nn.CrossEntropyLoss(reduction='sum')"
      ],
      "execution_count": 11,
      "outputs": []
    },
    {
      "cell_type": "code",
      "metadata": {
        "id": "w8kg4U60BtW0"
      },
      "source": [
        "# optimizer 정의합니다.\r\n",
        "from torch import optim\r\n",
        "opt = optim.Adam(model.parameters(), lr=0.001)\r\n",
        "\r\n",
        "# 현재 lr을 계산하는 함수를 정의합니다.\r\n",
        "def get_lr(opt):\r\n",
        "    for param_group in opt.param_groups:\r\n",
        "        return param_group['lr']\r\n",
        "    \r\n",
        "# 러닝레이트 스케쥴러를 정의합니다.\r\n",
        "from torch.optim.lr_scheduler import CosineAnnealingLR\r\n",
        "lr_scheduler = CosineAnnealingLR(opt, T_max=2, eta_min=1e-05)"
      ],
      "execution_count": 12,
      "outputs": []
    },
    {
      "cell_type": "markdown",
      "metadata": {
        "id": "gpWm4vz4D4eL"
      },
      "source": [
        "# 학습을 위한 함수 정의"
      ]
    },
    {
      "cell_type": "code",
      "metadata": {
        "id": "1NKkLHtWCoNF"
      },
      "source": [
        "# 배치당 performance metric 을 계산하는 함수 정의\r\n",
        "def metrics_batch(output, target):\r\n",
        "    pred = output.argmax(dim=1, keepdim=True)\r\n",
        "    corrects = pred.eq(target.view_as(pred)).sum().item()\r\n",
        "    return corrects"
      ],
      "execution_count": 13,
      "outputs": []
    },
    {
      "cell_type": "code",
      "metadata": {
        "id": "6IpaGjkcGJqF"
      },
      "source": [
        "# 배치당 loss를 계산하는 함수를 정의\r\n",
        "def loss_batch(loss_func, output, target, opt=None):\r\n",
        "    loss = loss_func(output, target)\r\n",
        "    metric_b = metrics_batch(output, target)\r\n",
        "    if opt is not None:\r\n",
        "        opt.zero_grad()\r\n",
        "        loss.backward()\r\n",
        "        opt.step()\r\n",
        "    return loss.item(), metric_b"
      ],
      "execution_count": 14,
      "outputs": []
    },
    {
      "cell_type": "code",
      "metadata": {
        "id": "QhIZlp3tGMzP"
      },
      "source": [
        "# epoch당 loss와 performance metric을 계산하는 함수 정의\r\n",
        "def loss_epoch(model, loss_func, dataset_dl, sanity_check=False, opt=None):\r\n",
        "    running_loss = 0.0\r\n",
        "    running_metric = 0.0\r\n",
        "    len_data = len(dataset_dl.dataset)\r\n",
        "\r\n",
        "    for xb, yb in dataset_dl:\r\n",
        "        xb = xb.type(torch.float).to(device)\r\n",
        "        yb = yb.to(device)\r\n",
        "        output = model(xb)\r\n",
        "        loss_b, metric_b = loss_batch(loss_func, output, yb, opt)\r\n",
        "        running_loss += loss_b\r\n",
        "\r\n",
        "        if metric_b is not None:\r\n",
        "            running_metric += metric_b\r\n",
        "        \r\n",
        "        if sanity_check is True: # sanity_check가 True이면 1epoch만 학습합니다.\r\n",
        "            break\r\n",
        "\r\n",
        "    loss = running_loss / float(len_data)\r\n",
        "    metric = running_metric / float(len_data)\r\n",
        "    return loss, metric"
      ],
      "execution_count": 15,
      "outputs": []
    },
    {
      "cell_type": "code",
      "metadata": {
        "id": "7SPClyXWGxKP"
      },
      "source": [
        "# train_val 함수 정의\r\n",
        "def train_val(model, params):\r\n",
        "    num_epochs = params['num_epochs']\r\n",
        "    loss_func = params['loss_func']\r\n",
        "    opt = params['optimizer']\r\n",
        "    train_dl = params['train_dl']\r\n",
        "    val_dl = params['val_dl']\r\n",
        "    sanity_check = params['sanity_check']\r\n",
        "    lr_scheduler = params['lr_scheduler']\r\n",
        "    path2weights = params['path2weights']\r\n",
        "\r\n",
        "    loss_history = {\r\n",
        "        'train': [],\r\n",
        "        'val': [],\r\n",
        "    }\r\n",
        "\r\n",
        "    metric_history = {\r\n",
        "        'train': [],\r\n",
        "        'val': [],\r\n",
        "    }\r\n",
        "\r\n",
        "    # best model parameter를 저장합니다.\r\n",
        "    best_model_wts = copy.deepcopy(model.state_dict())\r\n",
        "    best_loss = float('inf')\r\n",
        "\r\n",
        "    for epoch in range(num_epochs):\r\n",
        "        current_lr = get_lr(opt)\r\n",
        "        print('Epoch {}/{}, current lr={}'.format(epoch, num_epochs-1, current_lr))\r\n",
        "        model.train()\r\n",
        "        train_loss, train_metric = loss_epoch(model, loss_func, train_dl, sanity_check, opt)\r\n",
        "\r\n",
        "        loss_history['train'].append(train_loss)\r\n",
        "        metric_history['train'].append(train_metric)\r\n",
        "\r\n",
        "        model.eval()\r\n",
        "        with torch.no_grad():\r\n",
        "            val_loss, val_metric = loss_epoch(model, loss_func, val_dl, sanity_check)\r\n",
        "            loss_history['val'].append(val_loss)\r\n",
        "            metric_history['val'].append(val_metric)\r\n",
        "\r\n",
        "        if val_loss < best_loss:\r\n",
        "            best_loss = val_loss\r\n",
        "            best_model_wts = copy.deepcopy(model.state_dict())\r\n",
        "            torch.save(model.state_dict(), path2weights)\r\n",
        "            print('Copied best model weights')\r\n",
        "\r\n",
        "        lr_scheduler.step()\r\n",
        "\r\n",
        "        print('train loss: %.6f, dev loss: %.6f, accuracy: %.2f' %(train_loss, val_loss, 100*val_metric))\r\n",
        "        print('-'*10)\r\n",
        "\r\n",
        "    # best model을 반환합니다.\r\n",
        "    model.load_state_dict(best_model_wts)\r\n",
        "    return model, loss_history, metric_history"
      ],
      "execution_count": 16,
      "outputs": []
    },
    {
      "cell_type": "markdown",
      "metadata": {
        "id": "-KO-MY7XHG1u"
      },
      "source": [
        "# 모델 학습하기"
      ]
    },
    {
      "cell_type": "code",
      "metadata": {
        "id": "7vjW8hY3HFMq"
      },
      "source": [
        "import copy\r\n",
        "import os\r\n",
        "\r\n",
        "# 학습된 모델의 가중치를 저장할 폴더를 만듭니다.\r\n",
        "os.makedirs('/models', exist_ok=True)\r\n",
        "\r\n",
        "# 하이퍼 파라미터를 설정합니다.\r\n",
        "params_train={\r\n",
        " \"num_epochs\": 3,\r\n",
        " \"optimizer\": opt,\r\n",
        " \"loss_func\": loss_func,\r\n",
        " \"train_dl\": train_dl,\r\n",
        " \"val_dl\": val_dl,\r\n",
        " \"sanity_check\": False,\r\n",
        " \"lr_scheduler\": lr_scheduler,\r\n",
        " \"path2weights\": \"/models/LeNet-5.pt\",\r\n",
        "}"
      ],
      "execution_count": 17,
      "outputs": []
    },
    {
      "cell_type": "code",
      "metadata": {
        "colab": {
          "base_uri": "https://localhost:8080/"
        },
        "id": "RrmGDOPjHcGz",
        "outputId": "31495918-ab99-4eb5-d4ac-ed5bb212238a"
      },
      "source": [
        "# 모델을 학습합니다.\r\n",
        "model,loss_hist,metric_hist=train_val(model,params_train)"
      ],
      "execution_count": 18,
      "outputs": [
        {
          "output_type": "stream",
          "text": [
            "/usr/local/lib/python3.7/dist-packages/torch/nn/functional.py:1628: UserWarning: nn.functional.tanh is deprecated. Use torch.tanh instead.\n",
            "  warnings.warn(\"nn.functional.tanh is deprecated. Use torch.tanh instead.\")\n"
          ],
          "name": "stderr"
        },
        {
          "output_type": "stream",
          "text": [
            "Epoch 0/2, current lr=0.001\n",
            "Copied best model weights\n",
            "train loss: 1.562686, dev loss: 1.503760, accuracy: 96.11\n",
            "----------\n",
            "Epoch 1/2, current lr=0.000505\n",
            "Copied best model weights\n",
            "train loss: 1.496906, dev loss: 1.489321, accuracy: 97.44\n",
            "----------\n",
            "Epoch 2/2, current lr=1e-05\n",
            "Copied best model weights\n",
            "train loss: 1.486404, dev loss: 1.487152, accuracy: 97.64\n",
            "----------\n"
          ],
          "name": "stdout"
        }
      ]
    },
    {
      "cell_type": "code",
      "metadata": {
        "id": "iiB4hBMyHkJO",
        "colab": {
          "base_uri": "https://localhost:8080/",
          "height": 295
        },
        "outputId": "4a84b75b-95d4-4fbc-916a-cf12d497922f"
      },
      "source": [
        "num_epochs=params_train[\"num_epochs\"]\r\n",
        "\r\n",
        "plt.title(\"Train-Val Loss\")\r\n",
        "plt.plot(range(1,num_epochs+1),loss_hist[\"train\"],label=\"train\")\r\n",
        "plt.plot(range(1,num_epochs+1),loss_hist[\"val\"],label=\"val\")\r\n",
        "plt.ylabel(\"Loss\")\r\n",
        "plt.xlabel(\"Training Epochs\")\r\n",
        "plt.legend()\r\n",
        "plt.show()"
      ],
      "execution_count": 20,
      "outputs": [
        {
          "output_type": "display_data",
          "data": {
            "image/png": "[encoded data removed]",
            "text/plain": [
              "<Figure size 432x288 with 1 Axes>"
            ]
          },
          "metadata": {
            "tags": [],
            "needs_background": "light"
          }
        }
      ]
    },
    {
      "cell_type": "code",
      "metadata": {
        "colab": {
          "base_uri": "https://localhost:8080/",
          "height": 295
        },
        "id": "rDIQb-WjSaJg",
        "outputId": "d949ef60-2f4c-44af-a0ec-7fe448c2e9fc"
      },
      "source": [
        "# plot accuracy progress\r\n",
        "plt.title(\"Train-Val Accuracy\")\r\n",
        "plt.plot(range(1,num_epochs+1),metric_hist[\"train\"],label=\"train\")\r\n",
        "plt.plot(range(1,num_epochs+1),metric_hist[\"val\"],label=\"val\")\r\n",
        "plt.ylabel(\"Accuracy\")\r\n",
        "plt.xlabel(\"Training Epochs\")\r\n",
        "plt.legend()\r\n",
        "plt.show()"
      ],
      "execution_count": 21,
      "outputs": [
        {
          "output_type": "display_data",
          "data": {
            "image/png": "[encoded data removed]",
            "text/plain": [
              "<Figure size 432x288 with 1 Axes>"
            ]
          },
          "metadata": {
            "tags": [],
            "needs_background": "light"
          }
        }
      ]
    }
  ]
}
