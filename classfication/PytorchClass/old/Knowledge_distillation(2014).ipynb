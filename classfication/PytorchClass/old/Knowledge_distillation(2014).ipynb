{
  "nbformat": 4,
  "nbformat_minor": 0,
  "metadata": {
    "colab": {
      "name": "Knowledge_distillation(2014).ipynb",
      "provenance": [],
      "machine_shape": "hm",
      "authorship_tag": "ABX9TyO0lMZoIrsZsNTnorsmwTgl",
      "include_colab_link": true
    },
    "kernelspec": {
      "name": "python3",
      "display_name": "Python 3"
    },
    "language_info": {
      "name": "python"
    },
    "accelerator": "GPU"
  },
  "cells": [
    {
      "cell_type": "markdown",
      "metadata": {
        "id": "view-in-github",
        "colab_type": "text"
      },
      "source": [
        "<a href=\"https://colab.research.google.com/github/Seonghoon-Yu/Paper_Review_and_Implementation_in_PyTorch/blob/master/Classification/Knowledge_distillation(2014).ipynb\" target=\"_parent\"><img src=\"https://colab.research.google.com/assets/colab-badge.svg\" alt=\"Open In Colab\"/></a>"
      ]
    },
    {
      "cell_type": "markdown",
      "metadata": {
        "id": "2caklRJdjTMP"
      },
      "source": [
        "# Reference\n",
        "- https://github.com/peterliht/knowledge-distillation-pytorch\n",
        "- https://baeseongsu.github.io/posts/knowledge-distillation/#q3-knowledge-distillation%EC%9D%80-%EC%96%B4%EB%96%BB%EA%B2%8C-%ED%95%98%EB%8A%94-%EA%B1%B8%EA%B9%8C-with-hintons-kd\n",
        "- http://cs230.stanford.edu/files_winter_2018/projects/6940224.pdf"
      ]
    },
    {
      "cell_type": "code",
      "metadata": {
        "id": "Wx--mbVYjSlZ"
      },
      "source": [
        "import torch\n",
        "import torch.nn as nn\n",
        "import torch.nn.functional as F\n",
        "import torch.optim as optim\n",
        "from torchvision import datasets, transforms\n",
        "import torchvision.models as models\n",
        "from torch.utils.data import DataLoader\n",
        "import time\n",
        "import os\n",
        "import copy\n",
        "from torchvision.transforms.functional import to_pil_image\n",
        "import matplotlib.pyplot as plt\n",
        "%matplotlib inline\n",
        "\n",
        "device = torch.device('cuda' if torch.cuda.is_available() else 'cpu')"
      ],
      "execution_count": 2,
      "outputs": []
    },
    {
      "cell_type": "markdown",
      "metadata": {
        "id": "0DXGx4nfjN_U"
      },
      "source": [
        "# loading MNIST dataset"
      ]
    },
    {
      "cell_type": "code",
      "metadata": {
        "id": "vAduL3yQjt4l"
      },
      "source": [
        "# make directorch to save dataset\n",
        "def createFolder(directory):\n",
        "    try:\n",
        "        if not os.path.exists(directory):\n",
        "            os.makedirs(directory)\n",
        "    except OSerror:\n",
        "        print('Error')\n",
        "createFolder('./data')"
      ],
      "execution_count": 3,
      "outputs": []
    },
    {
      "cell_type": "code",
      "metadata": {
        "id": "wjqrC671lStN"
      },
      "source": [
        "# define transformation\n",
        "ds_transform = transforms.Compose([\n",
        "                        transforms.ToTensor(),\n",
        "                        transforms.Normalize((0.1307,),(0.3081,))\n",
        "])"
      ],
      "execution_count": 4,
      "outputs": []
    },
    {
      "cell_type": "code",
      "metadata": {
        "colab": {
          "base_uri": "https://localhost:8080/"
        },
        "id": "NEm-eukOjDSK",
        "outputId": "f7760991-b91e-4952-ffb0-db141b1e1f63"
      },
      "source": [
        "# load MNIST dataset\n",
        "train_ds = datasets.MNIST('/content/data',train=True, download=True, transform=ds_transform)\n",
        "val_ds = datasets.MNIST('/content/data',train=False, download=True, transform=ds_transform)"
      ],
      "execution_count": 5,
      "outputs": [
        {
          "output_type": "stream",
          "text": [
            "/usr/local/lib/python3.7/dist-packages/torchvision/datasets/mnist.py:498: UserWarning: The given NumPy array is not writeable, and PyTorch does not support non-writeable tensors. This means you can write to the underlying (supposedly non-writeable) NumPy array using the tensor. You may want to copy the array to protect its data or make it writeable before converting it to a tensor. This type of warning will be suppressed for the rest of this program. (Triggered internally at  /pytorch/torch/csrc/utils/tensor_numpy.cpp:180.)\n",
            "  return torch.from_numpy(parsed.astype(m[2], copy=False)).view(*s)\n"
          ],
          "name": "stderr"
        }
      ]
    },
    {
      "cell_type": "code",
      "metadata": {
        "id": "c5Y-pD0Vl4Kd"
      },
      "source": [
        "# define data loader\n",
        "train_dl = DataLoader(train_ds, batch_size=64, shuffle=True)\n",
        "val_dl = DataLoader(val_ds, batch_size = 128, shuffle=True)"
      ],
      "execution_count": 6,
      "outputs": []
    },
    {
      "cell_type": "code",
      "metadata": {
        "colab": {
          "base_uri": "https://localhost:8080/",
          "height": 201
        },
        "id": "A9bK2lCnnYKt",
        "outputId": "c98fdeb8-3005-4c7a-a2e1-9bd8d520e17b"
      },
      "source": [
        "# check sample image\n",
        "for x, y in train_dl:\n",
        "    print(x.shape, y.shape)\n",
        "    break\n",
        "\n",
        "num = 4\n",
        "img = x[:num]\n",
        "\n",
        "plt.figure(figsize=(15,15))\n",
        "for i in range(num):\n",
        "    plt.subplot(1,num+1,i+1)\n",
        "    plt.imshow(to_pil_image(0.1307*img[i]+0.3081), cmap='gray')"
      ],
      "execution_count": 7,
      "outputs": [
        {
          "output_type": "stream",
          "text": [
            "torch.Size([64, 1, 28, 28]) torch.Size([64])\n"
          ],
          "name": "stdout"
        },
        {
          "output_type": "display_data",
          "data": {
            "image/png": "[encoded data removed]",
            "text/plain": [
              "<Figure size 1080x1080 with 4 Axes>"
            ]
          },
          "metadata": {
            "tags": [],
            "needs_background": "light"
          }
        }
      ]
    },
    {
      "cell_type": "markdown",
      "metadata": {
        "id": "oWR_bzKKmY8j"
      },
      "source": [
        "# Define Teacher model"
      ]
    },
    {
      "cell_type": "code",
      "metadata": {
        "id": "_xEi3sTYmX5J"
      },
      "source": [
        "class Teacher(nn.Module):\n",
        "    def __init__(self):\n",
        "        super().__init__()\n",
        "        self.fc1 = nn.Linear(28*28, 1200)\n",
        "        self.bn1 = nn.BatchNorm1d(1200)\n",
        "        self.fc2 = nn.Linear(1200,1200)\n",
        "        self.bn2 = nn.BatchNorm1d(1200)\n",
        "        self.fc3 = nn.Linear(1200, 10)\n",
        "    \n",
        "    def forward(self,x):\n",
        "        x = x.view(-1, 28*28)\n",
        "        x = F.relu(self.bn1(self.fc1(x)))\n",
        "        x = F.dropout(x,p=0.8)\n",
        "        x = F.relu(self.bn2(self.fc2(x)))\n",
        "        x = F.dropout(x,p=0.8)\n",
        "        x = self.fc3(x)\n",
        "        return x"
      ],
      "execution_count": 8,
      "outputs": []
    },
    {
      "cell_type": "code",
      "metadata": {
        "colab": {
          "base_uri": "https://localhost:8080/"
        },
        "id": "KXILHPDnm66x",
        "outputId": "052cf593-e948-4a9b-997d-ec7f561a2731"
      },
      "source": [
        "# check\n",
        "x = torch.randn(16,1,28,28).to(device)\n",
        "teacher = Teacher().to(device)\n",
        "output = teacher(x)\n",
        "print(output.shape)"
      ],
      "execution_count": 9,
      "outputs": [
        {
          "output_type": "stream",
          "text": [
            "torch.Size([16, 10])\n"
          ],
          "name": "stdout"
        }
      ]
    },
    {
      "cell_type": "code",
      "metadata": {
        "id": "Io1uJBXHrnav"
      },
      "source": [
        "# weight initialization\n",
        "def initialize_weights(model):\n",
        "    classname = model.__class__.__name__\n",
        "    # fc layer\n",
        "    if classname.find('Linear') != -1:\n",
        "        nn.init.normal_(model.weight.data, 0.0, 0.02)\n",
        "        nn.init.constant_(model.bias.data, 0)\n",
        "    # batchnorm\n",
        "    elif classname.find('BatchNorm') != -1:\n",
        "        nn.init.normal_(model.weight.data, 1.0, 0.02)\n",
        "        nn.init.constant_(model.bias.data, 0)\n",
        "\n",
        "teacher.apply(initialize_weights);"
      ],
      "execution_count": 10,
      "outputs": []
    },
    {
      "cell_type": "markdown",
      "metadata": {
        "id": "6ucbjhYVrCMv"
      },
      "source": [
        "# train teacher model"
      ]
    },
    {
      "cell_type": "code",
      "metadata": {
        "id": "x-jmAnKWnQOF"
      },
      "source": [
        "# loss function\n",
        "loss_func = nn.CrossEntropyLoss()\n",
        "\n",
        "# optimizer\n",
        "opt = optim.Adam(teacher.parameters())\n",
        "\n",
        "# lr scheduler\n",
        "from torch.optim.lr_scheduler import ReduceLROnPlateau\n",
        "lr_scheduler = ReduceLROnPlateau(opt, mode='min', factor=0.1, patience=10)"
      ],
      "execution_count": 11,
      "outputs": []
    },
    {
      "cell_type": "code",
      "metadata": {
        "id": "ECzB08Z1rezq"
      },
      "source": [
        "# get current lr\n",
        "def get_lr(opt):\n",
        "    for param_group in opt.param_groups:\n",
        "        return param_group['lr']\n",
        "\n",
        "\n",
        "# calculate the metric per mini-batch\n",
        "def metric_batch(output, target):\n",
        "    pred = output.argmax(1, keepdim=True)\n",
        "    corrects = pred.eq(target.view_as(pred)).sum().item()\n",
        "    return corrects\n",
        "\n",
        "\n",
        "# calculate the loss per mini-batch\n",
        "def loss_batch(loss_func, output, target, opt=None):\n",
        "    loss_b = loss_func(output, target)\n",
        "    metric_b = metric_batch(output, target)\n",
        "\n",
        "    if opt is not None:\n",
        "        opt.zero_grad()\n",
        "        loss_b.backward()\n",
        "        opt.step()\n",
        "    \n",
        "    return loss_b.item(), metric_b\n",
        "\n",
        "\n",
        "# calculate the loss per epochs\n",
        "def loss_epoch(model, loss_func, dataset_dl, sanity_check=False, opt=None):\n",
        "    running_loss = 0.0\n",
        "    running_metric = 0.0\n",
        "    len_data = len(dataset_dl.dataset)\n",
        "\n",
        "    for xb, yb in dataset_dl:\n",
        "        xb = xb.to(device)\n",
        "        yb = yb.to(device)\n",
        "        output = model(xb)\n",
        "\n",
        "        loss_b, metric_b = loss_batch(loss_func, output, yb, opt)\n",
        "\n",
        "        running_loss += loss_b\n",
        "        \n",
        "        if metric_b is not None:\n",
        "            running_metric += metric_b\n",
        "\n",
        "        if sanity_check is True:\n",
        "            break\n",
        "\n",
        "    loss = running_loss / len_data\n",
        "    metric = running_metric / len_data\n",
        "    return loss, metric\n",
        "\n",
        "\n",
        "# function to start training\n",
        "def train_val(model, params):\n",
        "    num_epochs=params['num_epochs']\n",
        "    loss_func=params['loss_func']\n",
        "    opt=params['optimizer']\n",
        "    train_dl=params['train_dl']\n",
        "    val_dl=params['val_dl']\n",
        "    sanity_check=params['sanity_check']\n",
        "    lr_scheduler=params['lr_scheduler']\n",
        "    path2weights=params['path2weights']\n",
        "\n",
        "    loss_history = {'train': [], 'val': []}\n",
        "    metric_history = {'train': [], 'val': []}\n",
        "\n",
        "    best_loss = float('inf')\n",
        "    best_model_wts = copy.deepcopy(model.state_dict())\n",
        "    start_time = time.time()\n",
        "\n",
        "    for epoch in range(num_epochs):\n",
        "        current_lr = get_lr(opt)\n",
        "        print('Epoch {}/{}, current lr= {}'.format(epoch, num_epochs-1, current_lr))\n",
        "\n",
        "        model.train()\n",
        "        train_loss, train_metric = loss_epoch(model, loss_func, train_dl, sanity_check, opt)\n",
        "        loss_history['train'].append(train_loss)\n",
        "        metric_history['train'].append(train_metric)\n",
        "\n",
        "        model.eval()\n",
        "        with torch.no_grad():\n",
        "            val_loss, val_metric = loss_epoch(model, loss_func, val_dl, sanity_check)\n",
        "        loss_history['val'].append(val_loss)\n",
        "        metric_history['val'].append(val_metric)\n",
        "\n",
        "        if val_loss < best_loss:\n",
        "            best_loss = val_loss\n",
        "            best_model_wts = copy.deepcopy(model.state_dict())\n",
        "            torch.save(model.state_dict(), path2weights)\n",
        "            print('Copied best model weights!')\n",
        "\n",
        "        lr_scheduler.step(val_loss)\n",
        "        if current_lr != get_lr(opt):\n",
        "            print('Loading best model weights!')\n",
        "            model.load_state_dict(best_model_wts)\n",
        "\n",
        "        print('train loss: %.6f, val loss: %.6f, accuracy: %.2f, time: %.4f min' %(train_loss, val_loss, 100*val_metric, (time.time()-start_time)/60))\n",
        "        print('-'*10)\n",
        "\n",
        "    model.load_state_dict(best_model_wts)\n",
        "    return model, loss_history, metric_history"
      ],
      "execution_count": 12,
      "outputs": []
    },
    {
      "cell_type": "code",
      "metadata": {
        "id": "SQ50CDSFtRl6"
      },
      "source": [
        "# set hyper parameters\n",
        "# define the training parameters\n",
        "params_train = {\n",
        "    'num_epochs':30,\n",
        "    'optimizer':opt,\n",
        "    'loss_func':loss_func,\n",
        "    'train_dl':train_dl,\n",
        "    'val_dl':val_dl,\n",
        "    'sanity_check':False,\n",
        "    'lr_scheduler':lr_scheduler,\n",
        "    'path2weights':'./models/teacher_weights.pt',\n",
        "}\n",
        "\n",
        "createFolder('./models')"
      ],
      "execution_count": 13,
      "outputs": []
    },
    {
      "cell_type": "code",
      "metadata": {
        "colab": {
          "base_uri": "https://localhost:8080/"
        },
        "id": "4tW6h6rOtcjA",
        "outputId": "c2f38ab8-a546-40ce-aaa4-21d852d40600"
      },
      "source": [
        "teacher, loss_hist, metric_hist = train_val(teacher, params_train)"
      ],
      "execution_count": 14,
      "outputs": [
        {
          "output_type": "stream",
          "text": [
            "Epoch 0/29, current lr= 0.001\n",
            "Copied best model weights!\n",
            "train loss: 0.007321, val loss: 0.002215, accuracy: 91.45, time: 0.2740 min\n",
            "----------\n",
            "Epoch 1/29, current lr= 0.001\n",
            "Copied best model weights!\n",
            "train loss: 0.004763, val loss: 0.001925, accuracy: 92.31, time: 0.5485 min\n",
            "----------\n",
            "Epoch 2/29, current lr= 0.001\n",
            "Copied best model weights!\n",
            "train loss: 0.004148, val loss: 0.001728, accuracy: 93.33, time: 0.8218 min\n",
            "----------\n",
            "Epoch 3/29, current lr= 0.001\n",
            "Copied best model weights!\n",
            "train loss: 0.003791, val loss: 0.001568, accuracy: 93.87, time: 1.0968 min\n",
            "----------\n",
            "Epoch 4/29, current lr= 0.001\n",
            "Copied best model weights!\n",
            "train loss: 0.003488, val loss: 0.001474, accuracy: 94.42, time: 1.3716 min\n",
            "----------\n",
            "Epoch 5/29, current lr= 0.001\n",
            "Copied best model weights!\n",
            "train loss: 0.003353, val loss: 0.001443, accuracy: 94.34, time: 1.6450 min\n",
            "----------\n",
            "Epoch 6/29, current lr= 0.001\n",
            "Copied best model weights!\n",
            "train loss: 0.003064, val loss: 0.001387, accuracy: 94.67, time: 1.9164 min\n",
            "----------\n",
            "Epoch 7/29, current lr= 0.001\n",
            "Copied best model weights!\n",
            "train loss: 0.002964, val loss: 0.001260, accuracy: 95.18, time: 2.1885 min\n",
            "----------\n",
            "Epoch 8/29, current lr= 0.001\n",
            "train loss: 0.002888, val loss: 0.001318, accuracy: 95.12, time: 2.4583 min\n",
            "----------\n",
            "Epoch 9/29, current lr= 0.001\n",
            "train loss: 0.002770, val loss: 0.001271, accuracy: 95.23, time: 2.7307 min\n",
            "----------\n",
            "Epoch 10/29, current lr= 0.001\n",
            "Copied best model weights!\n",
            "train loss: 0.002615, val loss: 0.001207, accuracy: 95.55, time: 3.0023 min\n",
            "----------\n",
            "Epoch 11/29, current lr= 0.001\n",
            "Copied best model weights!\n",
            "train loss: 0.002524, val loss: 0.001160, accuracy: 95.81, time: 3.2751 min\n",
            "----------\n",
            "Epoch 12/29, current lr= 0.001\n",
            "train loss: 0.002432, val loss: 0.001233, accuracy: 95.74, time: 3.5451 min\n",
            "----------\n",
            "Epoch 13/29, current lr= 0.001\n",
            "Copied best model weights!\n",
            "train loss: 0.002349, val loss: 0.001155, accuracy: 95.61, time: 3.8156 min\n",
            "----------\n",
            "Epoch 14/29, current lr= 0.001\n",
            "train loss: 0.002243, val loss: 0.001166, accuracy: 95.54, time: 4.0858 min\n",
            "----------\n",
            "Epoch 15/29, current lr= 0.001\n",
            "train loss: 0.002236, val loss: 0.001243, accuracy: 95.78, time: 4.3561 min\n",
            "----------\n",
            "Epoch 16/29, current lr= 0.001\n",
            "Copied best model weights!\n",
            "train loss: 0.002209, val loss: 0.001108, accuracy: 95.89, time: 4.6246 min\n",
            "----------\n",
            "Epoch 17/29, current lr= 0.001\n",
            "train loss: 0.002162, val loss: 0.001141, accuracy: 95.87, time: 4.8958 min\n",
            "----------\n",
            "Epoch 18/29, current lr= 0.001\n",
            "Copied best model weights!\n",
            "train loss: 0.002063, val loss: 0.001074, accuracy: 96.14, time: 5.1660 min\n",
            "----------\n",
            "Epoch 19/29, current lr= 0.001\n",
            "train loss: 0.002046, val loss: 0.001127, accuracy: 95.82, time: 5.4376 min\n",
            "----------\n",
            "Epoch 20/29, current lr= 0.001\n",
            "train loss: 0.002010, val loss: 0.001089, accuracy: 96.05, time: 5.7071 min\n",
            "----------\n",
            "Epoch 21/29, current lr= 0.001\n",
            "Copied best model weights!\n",
            "train loss: 0.001984, val loss: 0.001052, accuracy: 96.20, time: 5.9790 min\n",
            "----------\n",
            "Epoch 22/29, current lr= 0.001\n",
            "train loss: 0.001932, val loss: 0.001090, accuracy: 96.41, time: 6.2461 min\n",
            "----------\n",
            "Epoch 23/29, current lr= 0.001\n",
            "Copied best model weights!\n",
            "train loss: 0.001875, val loss: 0.001031, accuracy: 96.45, time: 6.5149 min\n",
            "----------\n",
            "Epoch 24/29, current lr= 0.001\n",
            "train loss: 0.001844, val loss: 0.001050, accuracy: 96.26, time: 6.7842 min\n",
            "----------\n",
            "Epoch 25/29, current lr= 0.001\n",
            "train loss: 0.001806, val loss: 0.001084, accuracy: 96.53, time: 7.0557 min\n",
            "----------\n",
            "Epoch 26/29, current lr= 0.001\n",
            "train loss: 0.001761, val loss: 0.001136, accuracy: 96.23, time: 7.3260 min\n",
            "----------\n",
            "Epoch 27/29, current lr= 0.001\n",
            "Copied best model weights!\n",
            "train loss: 0.001793, val loss: 0.001006, accuracy: 96.44, time: 7.5947 min\n",
            "----------\n",
            "Epoch 28/29, current lr= 0.001\n",
            "Copied best model weights!\n",
            "train loss: 0.001768, val loss: 0.001006, accuracy: 96.61, time: 7.8648 min\n",
            "----------\n",
            "Epoch 29/29, current lr= 0.001\n",
            "train loss: 0.001705, val loss: 0.001045, accuracy: 96.40, time: 8.1347 min\n",
            "----------\n"
          ],
          "name": "stdout"
        }
      ]
    },
    {
      "cell_type": "code",
      "metadata": {
        "colab": {
          "base_uri": "https://localhost:8080/",
          "height": 573
        },
        "id": "OPE8VqmWtq6X",
        "outputId": "246a80c6-4db8-4a6d-a1ab-52087a37bb68"
      },
      "source": [
        "num_epochs = params_train['num_epochs']\n",
        "\n",
        "# Plot train-val loss\n",
        "plt.title('Train-Val Loss')\n",
        "plt.plot(range(1, num_epochs+1), loss_hist['train'], label='train')\n",
        "plt.plot(range(1, num_epochs+1), loss_hist['val'], label='val')\n",
        "plt.ylabel('Loss')\n",
        "plt.xlabel('Training Epochs')\n",
        "plt.legend()\n",
        "plt.show()\n",
        "\n",
        "# plot train-val accuracy\n",
        "plt.title('Train-Val Accuracy')\n",
        "plt.plot(range(1, num_epochs+1), metric_hist['train'], label='train')\n",
        "plt.plot(range(1, num_epochs+1), metric_hist['val'], label='val')\n",
        "plt.ylabel('Accuracy')\n",
        "plt.xlabel('Training Epochs')\n",
        "plt.legend()\n",
        "plt.show()"
      ],
      "execution_count": 15,
      "outputs": [
        {
          "output_type": "display_data",
          "data": {
            "image/png": "[encoded data removed]",
            "text/plain": [
              "<Figure size 432x288 with 1 Axes>"
            ]
          },
          "metadata": {
            "tags": [],
            "needs_background": "light"
          }
        },
        {
          "output_type": "display_data",
          "data": {
            "image/png": "[encoded data removed]",
            "text/plain": [
              "<Figure size 432x288 with 1 Axes>"
            ]
          },
          "metadata": {
            "tags": [],
            "needs_background": "light"
          }
        }
      ]
    },
    {
      "cell_type": "markdown",
      "metadata": {
        "id": "lkfbfKDGuMx8"
      },
      "source": [
        "# define student model"
      ]
    },
    {
      "cell_type": "code",
      "metadata": {
        "id": "9Ivu8fBluMNd"
      },
      "source": [
        "class Student(nn.Module):\n",
        "    def __init__(self):\n",
        "        super().__init__()\n",
        "        self.fc1 = nn.Linear(28*28, 800)\n",
        "        self.bn1 = nn.BatchNorm1d(800)\n",
        "        self.fc2 = nn.Linear(800,800)\n",
        "        self.bn2 = nn.BatchNorm1d(800)\n",
        "        self.fc3 = nn.Linear(800,10)\n",
        "\n",
        "    def forward(self, x):\n",
        "        x = x.view(-1, 28*28)\n",
        "        x = F.relu(self.bn1(self.fc1(x)))\n",
        "        x = F.relu(self.bn2(self.fc2(x)))\n",
        "        x = self.fc3(x)\n",
        "        return x"
      ],
      "execution_count": 16,
      "outputs": []
    },
    {
      "cell_type": "code",
      "metadata": {
        "colab": {
          "base_uri": "https://localhost:8080/"
        },
        "id": "B6QyWLolv2s1",
        "outputId": "41fee9c8-419e-497e-b666-bcad2ef5759c"
      },
      "source": [
        "# check\n",
        "x = torch.randn(16,1,28,28).to(device)\n",
        "student = Student().to(device)\n",
        "output = student(x)\n",
        "print(output.shape)"
      ],
      "execution_count": 17,
      "outputs": [
        {
          "output_type": "stream",
          "text": [
            "torch.Size([16, 10])\n"
          ],
          "name": "stdout"
        }
      ]
    },
    {
      "cell_type": "code",
      "metadata": {
        "id": "cYRbDCfdwEcn"
      },
      "source": [
        "# weight initialization\n",
        "def initialize_weights(model):\n",
        "    classname = model.__class__.__name__\n",
        "    # fc layer\n",
        "    if classname.find('Linear') != -1:\n",
        "        nn.init.normal_(model.weight.data, 0.0, 0.02)\n",
        "        nn.init.constant_(model.bias.data, 0)\n",
        "    # batchnorm\n",
        "    elif classname.find('BatchNorm') != -1:\n",
        "        nn.init.normal_(model.weight.data, 1.0, 0.02)\n",
        "        nn.init.constant_(model.bias.data, 0)\n",
        "\n",
        "student.apply(initialize_weights);"
      ],
      "execution_count": 18,
      "outputs": []
    },
    {
      "cell_type": "markdown",
      "metadata": {
        "id": "xhvdAJwmwNwX"
      },
      "source": [
        "# Knowledge distillation"
      ]
    },
    {
      "cell_type": "code",
      "metadata": {
        "id": "dQ6J3SZxwMft"
      },
      "source": [
        "teacher = Teacher().to(device)\n",
        "# load weight\n",
        "teacher.load_state_dict(torch.load('/content/models/teacher_weights.pt'))\n",
        "\n",
        "student = Student().to(device)"
      ],
      "execution_count": 19,
      "outputs": []
    },
    {
      "cell_type": "code",
      "metadata": {
        "id": "dSgdwvebxv5h"
      },
      "source": [
        "# optimizer\n",
        "opt = optim.Adam(student.parameters())\n",
        "\n",
        "# distillation\n",
        "def distillation(y, labels, teacher_scores, T, alpha):\n",
        "    # distillation loss + classification loss\n",
        "    # y: student\n",
        "    # labels: hard label\n",
        "    # teacher_scores: soft label\n",
        "    return nn.KLDivLoss()(F.log_softmax(y/T), F.softmax(teacher_scores/T)) * (T*T * 2.0 + alpha) + F.cross_entropy(y,labels) * (1.-alpha)\n",
        "\n",
        "# val loss\n",
        "loss_func = nn.CrossEntropyLoss()"
      ],
      "execution_count": 20,
      "outputs": []
    },
    {
      "cell_type": "code",
      "metadata": {
        "id": "bNiOLKt5yVNG"
      },
      "source": [
        "def distill_loss_batch(output, target, teacher_output, loss_fn=distillation, opt=opt):\n",
        "    loss_b = loss_fn(output, target, teacher_output, T=20.0, alpha=0.7)\n",
        "    metric_b = metric_batch(output, target)\n",
        "\n",
        "    if opt is not None:\n",
        "        opt.zero_grad()\n",
        "        loss_b.backward()\n",
        "        opt.step()\n",
        "\n",
        "    return loss_b.item(), metric_b"
      ],
      "execution_count": 21,
      "outputs": []
    },
    {
      "cell_type": "code",
      "metadata": {
        "colab": {
          "base_uri": "https://localhost:8080/"
        },
        "id": "7egJMVrAJQXc",
        "outputId": "fc44e331-6d5e-422f-9fd1-7f7bba2cf203"
      },
      "source": [
        "num_epochs= 100\n",
        "\n",
        "loss_history = {'train': [], 'val': []}\n",
        "metric_history = {'train': [], 'val': []}\n",
        "\n",
        "best_loss = float('inf')\n",
        "start_time = time.time()\n",
        "\n",
        "for epoch in range(num_epochs):\n",
        "    current_lr = get_lr(opt)\n",
        "    print('Epoch {}/{}, current lr= {}'.format(epoch, num_epochs-1, current_lr))\n",
        "\n",
        "    # train\n",
        "    student.train()\n",
        "\n",
        "    running_loss = 0.0\n",
        "    running_metric = 0.0\n",
        "    len_data = len(train_dl.dataset)\n",
        "\n",
        "    for xb, yb in train_dl:\n",
        "        xb = xb.to(device)\n",
        "        yb = yb.to(device)\n",
        "\n",
        "        output = student(xb)\n",
        "        teacher_output = teacher(xb).detach()\n",
        "        loss_b, metric_b = distill_loss_batch(output, yb, teacher_output, loss_fn=distillation, opt=opt)\n",
        "        running_loss += loss_b\n",
        "        running_metric_b = metric_b\n",
        "    train_loss = running_loss / len_data\n",
        "    train_metric = running_metric / len_data\n",
        "\n",
        "    loss_history['train'].append(train_loss)\n",
        "    metric_history['train'].append(train_metric)\n",
        "\n",
        "    # validation\n",
        "    student.eval()\n",
        "    with torch.no_grad():\n",
        "        val_loss, val_metric = loss_epoch(student, loss_func, val_dl)\n",
        "    loss_history['val'].append(val_loss)\n",
        "    metric_history['val'].append(val_metric)\n",
        "\n",
        "\n",
        "    lr_scheduler.step(val_loss)\n",
        "\n",
        "    print('train loss: %.6f, val loss: %.6f, accuracy: %.2f, time: %.4f min' %(train_loss, val_loss, 100*val_metric, (time.time()-start_time)/60))\n",
        "    print('-'*10)"
      ],
      "execution_count": 22,
      "outputs": [
        {
          "output_type": "stream",
          "text": [
            "Epoch 0/99, current lr= 0.001\n"
          ],
          "name": "stdout"
        },
        {
          "output_type": "stream",
          "text": [
            "/usr/local/lib/python3.7/dist-packages/ipykernel_launcher.py:10: UserWarning: Implicit dimension choice for log_softmax has been deprecated. Change the call to include dim=X as an argument.\n",
            "  # Remove the CWD from sys.path while we load stuff.\n",
            "/usr/local/lib/python3.7/dist-packages/ipykernel_launcher.py:10: UserWarning: Implicit dimension choice for softmax has been deprecated. Change the call to include dim=X as an argument.\n",
            "  # Remove the CWD from sys.path while we load stuff.\n",
            "/usr/local/lib/python3.7/dist-packages/torch/nn/functional.py:2742: UserWarning: reduction: 'mean' divides the total loss by both the batch size and the support size.'batchmean' divides only by the batch size, and aligns with the KL div math definition.'mean' will be changed to behave the same as 'batchmean' in the next major release.\n",
            "  \"reduction: 'mean' divides the total loss by both the batch size and the support size.\"\n"
          ],
          "name": "stderr"
        },
        {
          "output_type": "stream",
          "text": [
            "train loss: 0.034562, val loss: 0.000889, accuracy: 97.15, time: 0.2854 min\n",
            "----------\n",
            "Epoch 1/99, current lr= 0.001\n",
            "train loss: 0.029823, val loss: 0.000716, accuracy: 97.59, time: 0.5690 min\n",
            "----------\n",
            "Epoch 2/99, current lr= 0.001\n",
            "train loss: 0.029308, val loss: 0.000659, accuracy: 97.88, time: 0.8503 min\n",
            "----------\n",
            "Epoch 3/99, current lr= 0.001\n",
            "train loss: 0.028891, val loss: 0.000645, accuracy: 97.77, time: 1.1373 min\n",
            "----------\n",
            "Epoch 4/99, current lr= 0.001\n",
            "train loss: 0.028872, val loss: 0.000628, accuracy: 97.80, time: 1.4219 min\n",
            "----------\n",
            "Epoch 5/99, current lr= 0.001\n",
            "train loss: 0.028491, val loss: 0.000608, accuracy: 97.88, time: 1.7076 min\n",
            "----------\n",
            "Epoch 6/99, current lr= 0.001\n",
            "train loss: 0.028571, val loss: 0.000601, accuracy: 97.94, time: 1.9937 min\n",
            "----------\n",
            "Epoch 7/99, current lr= 0.001\n",
            "train loss: 0.028458, val loss: 0.000655, accuracy: 97.82, time: 2.2806 min\n",
            "----------\n",
            "Epoch 8/99, current lr= 0.001\n",
            "train loss: 0.028318, val loss: 0.000596, accuracy: 97.79, time: 2.5653 min\n",
            "----------\n",
            "Epoch 9/99, current lr= 0.001\n",
            "train loss: 0.028139, val loss: 0.000583, accuracy: 97.98, time: 2.8477 min\n",
            "----------\n",
            "Epoch 10/99, current lr= 0.001\n",
            "train loss: 0.027997, val loss: 0.000559, accuracy: 98.08, time: 3.1321 min\n",
            "----------\n",
            "Epoch 11/99, current lr= 0.001\n",
            "train loss: 0.028101, val loss: 0.000575, accuracy: 98.15, time: 3.4166 min\n",
            "----------\n",
            "Epoch 12/99, current lr= 0.001\n",
            "train loss: 0.027896, val loss: 0.000543, accuracy: 98.02, time: 3.7002 min\n",
            "----------\n",
            "Epoch 13/99, current lr= 0.001\n",
            "train loss: 0.027879, val loss: 0.000520, accuracy: 98.11, time: 3.9858 min\n",
            "----------\n",
            "Epoch 14/99, current lr= 0.001\n",
            "train loss: 0.027837, val loss: 0.000552, accuracy: 97.99, time: 4.2684 min\n",
            "----------\n",
            "Epoch 15/99, current lr= 0.001\n",
            "train loss: 0.027711, val loss: 0.000527, accuracy: 98.09, time: 4.5509 min\n",
            "----------\n",
            "Epoch 16/99, current lr= 0.001\n",
            "train loss: 0.027825, val loss: 0.000539, accuracy: 98.06, time: 4.8347 min\n",
            "----------\n",
            "Epoch 17/99, current lr= 0.001\n",
            "train loss: 0.027670, val loss: 0.000519, accuracy: 98.15, time: 5.1229 min\n",
            "----------\n",
            "Epoch 18/99, current lr= 0.001\n",
            "train loss: 0.027803, val loss: 0.000546, accuracy: 98.07, time: 5.4089 min\n",
            "----------\n",
            "Epoch 19/99, current lr= 0.001\n",
            "train loss: 0.027728, val loss: 0.000532, accuracy: 98.13, time: 5.6930 min\n",
            "----------\n",
            "Epoch 20/99, current lr= 0.001\n",
            "train loss: 0.027502, val loss: 0.000512, accuracy: 98.09, time: 5.9860 min\n",
            "----------\n",
            "Epoch 21/99, current lr= 0.001\n",
            "train loss: 0.027698, val loss: 0.000490, accuracy: 98.21, time: 6.2824 min\n",
            "----------\n",
            "Epoch 22/99, current lr= 0.001\n",
            "train loss: 0.027554, val loss: 0.000497, accuracy: 98.31, time: 6.5761 min\n",
            "----------\n",
            "Epoch 23/99, current lr= 0.001\n",
            "train loss: 0.027587, val loss: 0.000486, accuracy: 98.24, time: 6.8683 min\n",
            "----------\n",
            "Epoch 24/99, current lr= 0.001\n",
            "train loss: 0.027578, val loss: 0.000492, accuracy: 98.25, time: 7.1589 min\n",
            "----------\n",
            "Epoch 25/99, current lr= 0.001\n",
            "train loss: 0.027398, val loss: 0.000490, accuracy: 98.15, time: 7.4467 min\n",
            "----------\n",
            "Epoch 26/99, current lr= 0.001\n",
            "train loss: 0.027363, val loss: 0.000471, accuracy: 98.27, time: 7.7384 min\n",
            "----------\n",
            "Epoch 27/99, current lr= 0.001\n",
            "train loss: 0.027646, val loss: 0.000508, accuracy: 98.17, time: 8.0326 min\n",
            "----------\n",
            "Epoch 28/99, current lr= 0.001\n",
            "train loss: 0.027362, val loss: 0.000480, accuracy: 98.21, time: 8.3273 min\n",
            "----------\n",
            "Epoch 29/99, current lr= 0.001\n",
            "train loss: 0.027376, val loss: 0.000512, accuracy: 98.20, time: 8.6234 min\n",
            "----------\n",
            "Epoch 30/99, current lr= 0.001\n",
            "train loss: 0.027272, val loss: 0.000494, accuracy: 98.16, time: 8.9189 min\n",
            "----------\n",
            "Epoch 31/99, current lr= 0.001\n",
            "train loss: 0.027574, val loss: 0.000539, accuracy: 98.24, time: 9.2147 min\n",
            "----------\n",
            "Epoch 32/99, current lr= 0.001\n",
            "train loss: 0.027388, val loss: 0.000475, accuracy: 98.25, time: 9.5051 min\n",
            "----------\n",
            "Epoch 33/99, current lr= 0.001\n",
            "train loss: 0.027554, val loss: 0.000484, accuracy: 98.21, time: 9.7980 min\n",
            "----------\n",
            "Epoch 34/99, current lr= 0.001\n",
            "train loss: 0.027377, val loss: 0.000502, accuracy: 98.21, time: 10.0865 min\n",
            "----------\n",
            "Epoch 35/99, current lr= 0.001\n",
            "train loss: 0.027637, val loss: 0.000497, accuracy: 98.30, time: 10.3760 min\n",
            "----------\n",
            "Epoch 36/99, current lr= 0.001\n",
            "train loss: 0.027287, val loss: 0.000473, accuracy: 98.37, time: 10.6661 min\n",
            "----------\n",
            "Epoch 37/99, current lr= 0.001\n",
            "train loss: 0.027175, val loss: 0.000495, accuracy: 98.35, time: 10.9559 min\n",
            "----------\n",
            "Epoch 38/99, current lr= 0.001\n",
            "train loss: 0.027410, val loss: 0.000491, accuracy: 98.28, time: 11.2414 min\n",
            "----------\n",
            "Epoch 39/99, current lr= 0.001\n",
            "train loss: 0.027292, val loss: 0.000496, accuracy: 98.28, time: 11.5239 min\n",
            "----------\n",
            "Epoch 40/99, current lr= 0.001\n",
            "train loss: 0.027559, val loss: 0.000493, accuracy: 98.28, time: 11.8079 min\n",
            "----------\n",
            "Epoch 41/99, current lr= 0.001\n",
            "train loss: 0.027329, val loss: 0.000534, accuracy: 98.36, time: 12.0936 min\n",
            "----------\n",
            "Epoch 42/99, current lr= 0.001\n",
            "train loss: 0.027337, val loss: 0.000496, accuracy: 98.30, time: 12.3876 min\n",
            "----------\n",
            "Epoch 43/99, current lr= 0.001\n",
            "train loss: 0.027354, val loss: 0.000477, accuracy: 98.33, time: 12.6746 min\n",
            "----------\n",
            "Epoch 44/99, current lr= 0.001\n",
            "train loss: 0.027456, val loss: 0.000477, accuracy: 98.29, time: 12.9567 min\n",
            "----------\n",
            "Epoch 45/99, current lr= 0.001\n",
            "train loss: 0.027316, val loss: 0.000474, accuracy: 98.24, time: 13.2388 min\n",
            "----------\n",
            "Epoch 46/99, current lr= 0.001\n",
            "train loss: 0.027281, val loss: 0.000481, accuracy: 98.17, time: 13.5239 min\n",
            "----------\n",
            "Epoch 47/99, current lr= 0.001\n",
            "train loss: 0.027326, val loss: 0.000476, accuracy: 98.21, time: 13.8086 min\n",
            "----------\n",
            "Epoch 48/99, current lr= 0.001\n",
            "train loss: 0.027296, val loss: 0.000483, accuracy: 98.27, time: 14.0958 min\n",
            "----------\n",
            "Epoch 49/99, current lr= 0.001\n",
            "train loss: 0.027127, val loss: 0.000461, accuracy: 98.41, time: 14.3915 min\n",
            "----------\n",
            "Epoch 50/99, current lr= 0.001\n",
            "train loss: 0.027363, val loss: 0.000473, accuracy: 98.27, time: 14.6864 min\n",
            "----------\n",
            "Epoch 51/99, current lr= 0.001\n",
            "train loss: 0.027227, val loss: 0.000493, accuracy: 98.29, time: 14.9753 min\n",
            "----------\n",
            "Epoch 52/99, current lr= 0.001\n",
            "train loss: 0.027090, val loss: 0.000493, accuracy: 98.27, time: 15.2688 min\n",
            "----------\n",
            "Epoch 53/99, current lr= 0.001\n",
            "train loss: 0.027262, val loss: 0.000473, accuracy: 98.23, time: 15.5594 min\n",
            "----------\n",
            "Epoch 54/99, current lr= 0.001\n",
            "train loss: 0.027452, val loss: 0.000489, accuracy: 98.25, time: 15.8503 min\n",
            "----------\n",
            "Epoch 55/99, current lr= 0.001\n",
            "train loss: 0.027292, val loss: 0.000489, accuracy: 98.28, time: 16.1426 min\n",
            "----------\n",
            "Epoch 56/99, current lr= 0.001\n",
            "train loss: 0.027058, val loss: 0.000504, accuracy: 98.19, time: 16.4346 min\n",
            "----------\n",
            "Epoch 57/99, current lr= 0.001\n",
            "train loss: 0.027208, val loss: 0.000500, accuracy: 98.32, time: 16.7116 min\n",
            "----------\n",
            "Epoch 58/99, current lr= 0.001\n",
            "train loss: 0.027294, val loss: 0.000461, accuracy: 98.28, time: 16.9972 min\n",
            "----------\n",
            "Epoch 59/99, current lr= 0.001\n",
            "train loss: 0.027319, val loss: 0.000458, accuracy: 98.26, time: 17.2760 min\n",
            "----------\n",
            "Epoch 60/99, current lr= 0.001\n",
            "train loss: 0.027111, val loss: 0.000482, accuracy: 98.24, time: 17.5575 min\n",
            "----------\n",
            "Epoch 61/99, current lr= 0.001\n",
            "train loss: 0.027224, val loss: 0.000504, accuracy: 98.30, time: 17.8488 min\n",
            "----------\n",
            "Epoch 62/99, current lr= 0.001\n",
            "train loss: 0.027232, val loss: 0.000479, accuracy: 98.32, time: 18.1311 min\n",
            "----------\n",
            "Epoch 63/99, current lr= 0.001\n",
            "train loss: 0.027152, val loss: 0.000463, accuracy: 98.37, time: 18.4105 min\n",
            "----------\n",
            "Epoch 64/99, current lr= 0.001\n",
            "train loss: 0.027096, val loss: 0.000457, accuracy: 98.26, time: 18.6976 min\n",
            "----------\n",
            "Epoch 65/99, current lr= 0.001\n",
            "train loss: 0.027231, val loss: 0.000474, accuracy: 98.29, time: 18.9825 min\n",
            "----------\n",
            "Epoch 66/99, current lr= 0.001\n",
            "train loss: 0.027195, val loss: 0.000468, accuracy: 98.30, time: 19.2653 min\n",
            "----------\n",
            "Epoch 67/99, current lr= 0.001\n",
            "train loss: 0.027322, val loss: 0.000464, accuracy: 98.33, time: 19.5451 min\n",
            "----------\n",
            "Epoch 68/99, current lr= 0.001\n",
            "train loss: 0.027035, val loss: 0.000470, accuracy: 98.32, time: 19.8249 min\n",
            "----------\n",
            "Epoch 69/99, current lr= 0.001\n",
            "train loss: 0.027243, val loss: 0.000461, accuracy: 98.31, time: 20.1068 min\n",
            "----------\n",
            "Epoch 70/99, current lr= 0.001\n",
            "train loss: 0.027098, val loss: 0.000473, accuracy: 98.38, time: 20.3906 min\n",
            "----------\n",
            "Epoch 71/99, current lr= 0.001\n",
            "train loss: 0.026942, val loss: 0.000459, accuracy: 98.25, time: 20.6706 min\n",
            "----------\n",
            "Epoch 72/99, current lr= 0.001\n",
            "train loss: 0.027150, val loss: 0.000468, accuracy: 98.41, time: 20.9543 min\n",
            "----------\n",
            "Epoch 73/99, current lr= 0.001\n",
            "train loss: 0.027247, val loss: 0.000460, accuracy: 98.33, time: 21.2389 min\n",
            "----------\n",
            "Epoch 74/99, current lr= 0.001\n",
            "train loss: 0.027147, val loss: 0.000454, accuracy: 98.24, time: 21.5230 min\n",
            "----------\n",
            "Epoch 75/99, current lr= 0.001\n",
            "train loss: 0.027348, val loss: 0.000454, accuracy: 98.35, time: 21.8092 min\n",
            "----------\n",
            "Epoch 76/99, current lr= 0.001\n",
            "train loss: 0.027195, val loss: 0.000457, accuracy: 98.32, time: 22.0955 min\n",
            "----------\n",
            "Epoch 77/99, current lr= 0.001\n",
            "train loss: 0.027179, val loss: 0.000461, accuracy: 98.26, time: 22.3747 min\n",
            "----------\n",
            "Epoch 78/99, current lr= 0.001\n",
            "train loss: 0.027033, val loss: 0.000466, accuracy: 98.32, time: 22.6559 min\n",
            "----------\n",
            "Epoch 79/99, current lr= 0.001\n",
            "train loss: 0.027177, val loss: 0.000456, accuracy: 98.37, time: 22.9442 min\n",
            "----------\n",
            "Epoch 80/99, current lr= 0.001\n",
            "train loss: 0.027083, val loss: 0.000452, accuracy: 98.30, time: 23.2298 min\n",
            "----------\n",
            "Epoch 81/99, current lr= 0.001\n",
            "train loss: 0.027135, val loss: 0.000469, accuracy: 98.35, time: 23.5121 min\n",
            "----------\n",
            "Epoch 82/99, current lr= 0.001\n",
            "train loss: 0.027110, val loss: 0.000465, accuracy: 98.32, time: 23.7957 min\n",
            "----------\n",
            "Epoch 83/99, current lr= 0.001\n",
            "train loss: 0.027071, val loss: 0.000466, accuracy: 98.43, time: 24.0794 min\n",
            "----------\n",
            "Epoch 84/99, current lr= 0.001\n",
            "train loss: 0.027124, val loss: 0.000458, accuracy: 98.34, time: 24.3550 min\n",
            "----------\n",
            "Epoch 85/99, current lr= 0.001\n",
            "train loss: 0.027163, val loss: 0.000478, accuracy: 98.41, time: 24.6282 min\n",
            "----------\n",
            "Epoch 86/99, current lr= 0.001\n",
            "train loss: 0.027086, val loss: 0.000470, accuracy: 98.33, time: 24.9038 min\n",
            "----------\n",
            "Epoch 87/99, current lr= 0.001\n",
            "train loss: 0.027142, val loss: 0.000511, accuracy: 98.34, time: 25.1829 min\n",
            "----------\n",
            "Epoch 88/99, current lr= 0.001\n",
            "train loss: 0.027185, val loss: 0.000461, accuracy: 98.30, time: 25.4591 min\n",
            "----------\n",
            "Epoch 89/99, current lr= 0.001\n",
            "train loss: 0.027061, val loss: 0.000481, accuracy: 98.37, time: 25.7359 min\n",
            "----------\n",
            "Epoch 90/99, current lr= 0.001\n",
            "train loss: 0.027170, val loss: 0.000460, accuracy: 98.39, time: 26.0105 min\n",
            "----------\n",
            "Epoch 91/99, current lr= 0.001\n",
            "train loss: 0.027034, val loss: 0.000474, accuracy: 98.34, time: 26.2875 min\n",
            "----------\n",
            "Epoch 92/99, current lr= 0.001\n",
            "train loss: 0.026994, val loss: 0.000461, accuracy: 98.34, time: 26.5613 min\n",
            "----------\n",
            "Epoch 93/99, current lr= 0.001\n",
            "train loss: 0.026918, val loss: 0.000452, accuracy: 98.36, time: 26.8386 min\n",
            "----------\n",
            "Epoch 94/99, current lr= 0.001\n",
            "train loss: 0.027036, val loss: 0.000496, accuracy: 98.35, time: 27.1160 min\n",
            "----------\n",
            "Epoch 95/99, current lr= 0.001\n",
            "train loss: 0.027138, val loss: 0.000456, accuracy: 98.24, time: 27.3881 min\n",
            "----------\n",
            "Epoch 96/99, current lr= 0.001\n",
            "train loss: 0.026888, val loss: 0.000454, accuracy: 98.30, time: 27.6631 min\n",
            "----------\n",
            "Epoch 97/99, current lr= 0.001\n",
            "train loss: 0.027281, val loss: 0.000470, accuracy: 98.31, time: 27.9360 min\n",
            "----------\n",
            "Epoch 98/99, current lr= 0.001\n",
            "train loss: 0.027009, val loss: 0.000457, accuracy: 98.39, time: 28.2115 min\n",
            "----------\n",
            "Epoch 99/99, current lr= 0.001\n",
            "train loss: 0.027161, val loss: 0.000466, accuracy: 98.25, time: 28.4844 min\n",
            "----------\n"
          ],
          "name": "stdout"
        }
      ]
    },
    {
      "cell_type": "code",
      "metadata": {
        "colab": {
          "base_uri": "https://localhost:8080/",
          "height": 573
        },
        "id": "8STlKe7NQPT8",
        "outputId": "a671649b-0e20-4e18-e748-fe8f58d34c99"
      },
      "source": [
        "num_epochs = params_train['num_epochs']\n",
        "\n",
        "# Plot train-val loss\n",
        "plt.title('Train-Val Loss')\n",
        "plt.plot(range(1, num_epochs+1), loss_hist['train'], label='train')\n",
        "plt.plot(range(1, num_epochs+1), loss_hist['val'], label='val')\n",
        "plt.ylabel('Loss')\n",
        "plt.xlabel('Training Epochs')\n",
        "plt.legend()\n",
        "plt.show()\n",
        "\n",
        "# plot train-val accuracy\n",
        "plt.title('Train-Val Accuracy')\n",
        "plt.plot(range(1, num_epochs+1), metric_hist['train'], label='train')\n",
        "plt.plot(range(1, num_epochs+1), metric_hist['val'], label='val')\n",
        "plt.ylabel('Accuracy')\n",
        "plt.xlabel('Training Epochs')\n",
        "plt.legend()\n",
        "plt.show()"
      ],
      "execution_count": 23,
      "outputs": [
        {
          "output_type": "display_data",
          "data": {
            "image/png": "[encoded data removed]",
            "text/plain": [
              "<Figure size 432x288 with 1 Axes>"
            ]
          },
          "metadata": {
            "tags": [],
            "needs_background": "light"
          }
        },
        {
          "output_type": "display_data",
          "data": {
            "image/png": "[encoded data removed]",
            "text/plain": [
              "<Figure size 432x288 with 1 Axes>"
            ]
          },
          "metadata": {
            "tags": [],
            "needs_background": "light"
          }
        }
      ]
    },
    {
      "cell_type": "code",
      "metadata": {
        "id": "noOcRJocalGM"
      },
      "source": [
        ""
      ],
      "execution_count": null,
      "outputs": []
    }
  ]
}