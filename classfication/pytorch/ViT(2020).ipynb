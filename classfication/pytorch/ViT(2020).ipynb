{
  "nbformat": 4,
  "nbformat_minor": 0,
  "metadata": {
    "colab": {
      "name": "ViT(2020).ipynb",
      "provenance": [],
      "collapsed_sections": [],
      "machine_shape": "hm",
      "authorship_tag": "ABX9TyPngR5h7Uy5iw5FzstkmDPD",
      "include_colab_link": true
    },
    "kernelspec": {
      "name": "python3",
      "display_name": "Python 3"
    },
    "language_info": {
      "name": "python"
    },
    "accelerator": "GPU"
  },
  "cells": [
    {
      "cell_type": "markdown",
      "metadata": {
        "id": "view-in-github",
        "colab_type": "text"
      },
      "source": [
        "<a href=\"https://colab.research.google.com/github/Seonghoon-Yu/Paper_Review_and_Implementation_in_PyTorch/blob/master/Classification/ViT(2020).ipynb\" target=\"_parent\"><img src=\"https://colab.research.google.com/assets/colab-badge.svg\" alt=\"Open In Colab\"/></a>"
      ]
    },
    {
      "cell_type": "markdown",
      "metadata": {
        "id": "TxAXJfiztf6r"
      },
      "source": [
        "# Reference\n",
        "- https://towardsdatascience.com/implementing-visualttransformer-in-pytorch-184f9f16f632"
      ]
    },
    {
      "cell_type": "code",
      "metadata": {
        "colab": {
          "base_uri": "https://localhost:8080/"
        },
        "id": "NeSpjev_5D5O",
        "outputId": "d660d239-246b-431a-c63e-531933c8db44"
      },
      "source": [
        "!pip install einops"
      ],
      "execution_count": 1,
      "outputs": [
        {
          "output_type": "stream",
          "text": [
            "Requirement already satisfied: einops in /usr/local/lib/python3.7/dist-packages (0.3.0)\n"
          ],
          "name": "stdout"
        }
      ]
    },
    {
      "cell_type": "code",
      "metadata": {
        "id": "n2tK0n-ESIww"
      },
      "source": [
        "import torch\n",
        "import torch.nn as nn\n",
        "import torch.nn.functional as F\n",
        "import matplotlib.pyplot as plt\n",
        "%matplotlib inline\n",
        "\n",
        "from torch import optim\n",
        "from torchvision import datasets\n",
        "import torchvision.transforms as transforms\n",
        "from torch.utils.data import DataLoader\n",
        "import os\n",
        "from torchvision import utils\n",
        "\n",
        "\n",
        "from torch import nn\n",
        "from torch import Tensor\n",
        "from PIL import Image\n",
        "from torchvision.transforms import Compose, Resize, ToTensor\n",
        "from einops import rearrange, reduce, repeat\n",
        "from einops.layers.torch import Rearrange, Reduce\n",
        "from torchsummary import summary\n",
        "import numpy as np\n",
        "import time\n",
        "import copy\n",
        "import random\n",
        "from tqdm.notebook import tqdm\n",
        "import math\n",
        "\n",
        "# Device configuration\n",
        "device = torch.device('cuda' if torch.cuda.is_available() else 'cpu')"
      ],
      "execution_count": 2,
      "outputs": []
    },
    {
      "cell_type": "markdown",
      "metadata": {
        "id": "KCkaGlHHDJDB"
      },
      "source": [
        "# 1. Load dataset"
      ]
    },
    {
      "cell_type": "code",
      "metadata": {
        "colab": {
          "base_uri": "https://localhost:8080/"
        },
        "id": "raVc0ilvDLiW",
        "outputId": "60863edb-9e6c-49f8-dfba-11e459e4945e"
      },
      "source": [
        "# specify path to data\n",
        "path2data = '/content/data'\n",
        "\n",
        "# if not exists the path, make the directory\n",
        "if not os.path.exists(path2data):\n",
        "    os.mkdir(path2data)\n",
        "\n",
        "# load dataset\n",
        "train_ds = datasets.STL10(path2data, split='train', download=True, transform=transforms.ToTensor())\n",
        "val_ds = datasets.STL10(path2data, split='test', download=True, transform=transforms.ToTensor())\n",
        "\n",
        "print(len(train_ds))\n",
        "print(len(val_ds))"
      ],
      "execution_count": 3,
      "outputs": [
        {
          "output_type": "stream",
          "text": [
            "Files already downloaded and verified\n",
            "Files already downloaded and verified\n",
            "5000\n",
            "8000\n"
          ],
          "name": "stdout"
        }
      ]
    },
    {
      "cell_type": "code",
      "metadata": {
        "id": "AEGHldI0GHUh"
      },
      "source": [
        "# define transformation\n",
        "transformation = transforms.Compose([\n",
        "                    transforms.ToTensor(),\n",
        "                    transforms.Resize(224)\n",
        "])\n",
        "\n",
        "# apply transformation to dataset\n",
        "train_ds.transform = transformation\n",
        "val_ds.transform = transformation\n",
        "\n",
        "# make dataloade\n",
        "train_dl = DataLoader(train_ds, batch_size=32, shuffle=True)\n",
        "val_dl = DataLoader(val_ds, batch_size=64, shuffle=True)"
      ],
      "execution_count": 6,
      "outputs": []
    },
    {
      "cell_type": "code",
      "metadata": {
        "colab": {
          "base_uri": "https://localhost:8080/",
          "height": 204
        },
        "id": "q5CHWNVLGJHb",
        "outputId": "219c052a-1bfd-4533-8ae2-5a4c7d7e3d65"
      },
      "source": [
        "# check sample images\n",
        "def show(img, y=None):\n",
        "    npimg = img.numpy()\n",
        "    npimg_tr = np.transpose(npimg, (1, 2, 0))\n",
        "    plt.imshow(npimg_tr)\n",
        "\n",
        "    if y is not None:\n",
        "        plt.title('labels:' + str(y))\n",
        "\n",
        "np.random.seed(10)\n",
        "torch.manual_seed(0)\n",
        "\n",
        "grid_size=4\n",
        "rnd_ind = np.random.randint(0, len(train_ds), grid_size)\n",
        "\n",
        "x_grid = [train_ds[i][0] for i in rnd_ind]\n",
        "y_grid = [val_ds[i][1] for i in rnd_ind]\n",
        "\n",
        "x_grid = utils.make_grid(x_grid, nrow=grid_size, padding=2)\n",
        "plt.figure(figsize=(10,10))\n",
        "show(x_grid, y_grid)"
      ],
      "execution_count": 7,
      "outputs": [
        {
          "output_type": "display_data",
          "data": {
            "image/png": "[encoded data removed]",
            "text/plain": [
              "<Figure size 720x720 with 1 Axes>"
            ]
          },
          "metadata": {
            "tags": [],
            "needs_background": "light"
          }
        }
      ]
    },
    {
      "cell_type": "markdown",
      "metadata": {
        "id": "Jlf1d2sSTNAR"
      },
      "source": [
        "# 2. Implement ViT"
      ]
    },
    {
      "cell_type": "markdown",
      "metadata": {
        "id": "w1yi6S-7Bila"
      },
      "source": [
        "### PatchEmbedding"
      ]
    },
    {
      "cell_type": "code",
      "metadata": {
        "id": "zkpG2Ei0CWlz"
      },
      "source": [
        "# To handle 2D images, reshape the image into a sequence of flattened 2D patches.\n",
        "class PatchEmbedding(nn.Module):\n",
        "    def __init__(self, in_channels=3, patch_size=16, emb_size=768, img_size=224):\n",
        "        super().__init__()\n",
        "        self.patch_size = patch_size\n",
        "\n",
        "        # # Method 1: Flatten and FC layer\n",
        "        # self.projection = nn.Sequential(\n",
        "        #     Rearrange('b c (h s1) (w s2) -> b (h w) (s1 s2 c)', s1=patch_size, s2=patch_size),\n",
        "        #     nn.Linear(path_size * patch_size * in_channels, emb_size)\n",
        "        # )\n",
        "\n",
        "        # Method 2: Conv\n",
        "        self.projection = nn.Sequential(\n",
        "            # using a conv layer instead of a linear one -> performance gains\n",
        "            nn.Conv2d(in_channels, emb_size, patch_size, stride=patch_size),\n",
        "            Rearrange('b e (h) (w) -> b (h w) e')\n",
        "        )\n",
        "\n",
        "        self.cls_token = nn.Parameter(torch.randn(1,1,emb_size))\n",
        "        self.positions = nn.Parameter(torch.randn((img_size // patch_size) ** 2 + 1, emb_size))\n",
        "\n",
        "    def forward(self, x):\n",
        "        b = x.shape[0]\n",
        "        x = self.projection(x)\n",
        "        cls_tokens = repeat(self.cls_token, '() n e -> b n e', b=b)\n",
        "        # prepend the cls token to the input\n",
        "        x = torch.cat([cls_tokens, x], dim=1)\n",
        "        # add position embedding to prejected patches\n",
        "        x += self.positions\n",
        "        return x"
      ],
      "execution_count": 8,
      "outputs": []
    },
    {
      "cell_type": "code",
      "metadata": {
        "colab": {
          "base_uri": "https://localhost:8080/"
        },
        "id": "ZwIBr5286F9D",
        "outputId": "2367a8ae-ee00-4ada-951f-486af61e183d"
      },
      "source": [
        "# Check PatchEmbedding\n",
        "x = torch.randn(16, 3, 224, 224).to(device)\n",
        "patch_embedding = PatchEmbedding().to(device)\n",
        "patch_output = patch_embedding(x)\n",
        "print('[batch, 1+num of patches, emb_size] = ', patch_output.shape)"
      ],
      "execution_count": 9,
      "outputs": [
        {
          "output_type": "stream",
          "text": [
            "[batch, 1+num of patches, emb_size] =  torch.Size([16, 197, 768])\n"
          ],
          "name": "stdout"
        }
      ]
    },
    {
      "cell_type": "markdown",
      "metadata": {
        "id": "GjodZD8bBgWv"
      },
      "source": [
        "### MultiHeadAttention"
      ]
    },
    {
      "cell_type": "code",
      "metadata": {
        "id": "01WN4wZtAwPK"
      },
      "source": [
        "# MultiHeadAttention\n",
        "class MultiHeadAttention(nn.Module):\n",
        "    def __init__(self, emb_size=768, num_heads=8, dropout=0):\n",
        "        super().__init__()\n",
        "        self.emb_size = emb_size\n",
        "        self.num_heads = num_heads\n",
        "        self.keys = nn.Linear(emb_size, emb_size)\n",
        "        self.queries = nn.Linear(emb_size, emb_size)\n",
        "        self.values = nn.Linear(emb_size, emb_size)\n",
        "        self.att_drop = nn.Dropout(dropout)\n",
        "        self.projection = nn.Linear(emb_size, emb_size)\n",
        "\n",
        "    def forward(self, x, mask=None):\n",
        "        # split keys, queries and values in num_heads\n",
        "        queries = rearrange(self.queries(x), 'b n (h d) -> b h n d', h=self.num_heads) # b, 197, 728 -> b, 8, 197, 91\n",
        "        keys = rearrange(self.keys(x), 'b n (h d) -> b h n d', h=self.num_heads)\n",
        "        values = rearrange(self.values(x), 'b n (h d) -> b h n d', h=self.num_heads)\n",
        "        # sum up over the last axis, b,h,197,197\n",
        "        energy = torch.einsum('bhqd, bhkd -> bhqk', queries, keys) # batch, num_head, query_len, key_len\n",
        "        \n",
        "        if mask is not None:\n",
        "            fill_value = torch.finfo(torch.float32).min\n",
        "            energy.mask_fill(~mask, fill_value)\n",
        "        \n",
        "        scaling = self.emb_size ** (1/2)\n",
        "        att = F.softmax(energy, dim=-1) / scaling\n",
        "        att = self.att_drop(att)\n",
        "        # sum up over the third axis\n",
        "        out = torch.einsum('bhal, bhlv -> bhav', att, values) # 197x91\n",
        "        out = rearrange(out, 'b h n d -> b n (h d)')\n",
        "        out = self.projection(out)\n",
        "        return out\n"
      ],
      "execution_count": 10,
      "outputs": []
    },
    {
      "cell_type": "code",
      "metadata": {
        "colab": {
          "base_uri": "https://localhost:8080/"
        },
        "id": "2e2UvFP5lOln",
        "outputId": "d99d960f-0361-4ecc-fe6b-67fe86dda100"
      },
      "source": [
        "# Check MultiHeadAttention\n",
        "MHA = MultiHeadAttention().to(device)\n",
        "MHA_output = MHA(patch_output)\n",
        "print(MHA_output.shape)"
      ],
      "execution_count": 11,
      "outputs": [
        {
          "output_type": "stream",
          "text": [
            "torch.Size([16, 197, 768])\n"
          ],
          "name": "stdout"
        }
      ]
    },
    {
      "cell_type": "markdown",
      "metadata": {
        "id": "-zC_xVGJBemr"
      },
      "source": [
        "### Residual"
      ]
    },
    {
      "cell_type": "code",
      "metadata": {
        "id": "FmyMAnmtsKdK"
      },
      "source": [
        "# perform the residual addition.\n",
        "class ResidualAdd(nn.Module):\n",
        "    def __init__(self, fn):\n",
        "        super().__init__()\n",
        "        self.fn = fn\n",
        "\n",
        "    def forward(self, x, **kwargs):\n",
        "        res = x\n",
        "        x = self.fn(x, **kwargs)\n",
        "        x += res\n",
        "        return x"
      ],
      "execution_count": 12,
      "outputs": []
    },
    {
      "cell_type": "markdown",
      "metadata": {
        "id": "YI_u0LQ9Bcgq"
      },
      "source": [
        "### FeedForwardBlock"
      ]
    },
    {
      "cell_type": "code",
      "metadata": {
        "id": "7jFe97ittvYL"
      },
      "source": [
        "# Subclassing nn.Sequential to avoid writing the forward method.\n",
        "class FeedForwardBlock(nn.Sequential):\n",
        "    def __init__(self, emb_size, expansion=4, drop_p=0.):\n",
        "        super().__init__(\n",
        "            nn.Linear(emb_size, expansion * emb_size),\n",
        "            nn.GELU(),\n",
        "            nn.Dropout(drop_p),\n",
        "            nn.Linear(expansion * emb_size, emb_size),\n",
        "        )\n"
      ],
      "execution_count": 13,
      "outputs": []
    },
    {
      "cell_type": "code",
      "metadata": {
        "colab": {
          "base_uri": "https://localhost:8080/"
        },
        "id": "LxENnd8EzKeQ",
        "outputId": "c900d742-33b5-4456-cc5b-3089b30b702d"
      },
      "source": [
        "# check\n",
        "x = torch.randn(16,1,128).to(device)\n",
        "model = FeedForwardBlock(128).to(device)\n",
        "output = model(x)\n",
        "print(output.shape)"
      ],
      "execution_count": 14,
      "outputs": [
        {
          "output_type": "stream",
          "text": [
            "torch.Size([16, 1, 128])\n"
          ],
          "name": "stdout"
        }
      ]
    },
    {
      "cell_type": "markdown",
      "metadata": {
        "id": "u_1gEUYrBaa4"
      },
      "source": [
        "### TransformerEncoderBlock"
      ]
    },
    {
      "cell_type": "code",
      "metadata": {
        "id": "zbIr8Qp3zc03"
      },
      "source": [
        "# Now create the Transformer Encoder Block\n",
        "class TransformerEncoderBlock(nn.Sequential):\n",
        "    def __init__(self, emb_size=768, drop_p=0., forward_expansion=4, forward_drop_p=0., **kwargs):\n",
        "        super().__init__(\n",
        "            ResidualAdd(nn.Sequential(\n",
        "                nn.LayerNorm(emb_size),\n",
        "                MultiHeadAttention(emb_size, **kwargs),\n",
        "                nn.Dropout(drop_p)\n",
        "            )),\n",
        "            ResidualAdd(nn.Sequential(\n",
        "                nn.LayerNorm(emb_size),\n",
        "                FeedForwardBlock(emb_size, expansion=forward_expansion, drop_p=forward_drop_p),\n",
        "                nn.Dropout(drop_p)\n",
        "            ))\n",
        "        )"
      ],
      "execution_count": 15,
      "outputs": []
    },
    {
      "cell_type": "code",
      "metadata": {
        "colab": {
          "base_uri": "https://localhost:8080/"
        },
        "id": "H6rHB20z3O6I",
        "outputId": "ebe10346-cd49-46b3-af0c-ae28760c69b0"
      },
      "source": [
        "# Check TransformerEncoderBlock\n",
        "model = TransformerEncoderBlock().to(device)\n",
        "output = model(patch_output).to(device)\n",
        "print(output.shape)"
      ],
      "execution_count": 16,
      "outputs": [
        {
          "output_type": "stream",
          "text": [
            "torch.Size([16, 197, 768])\n"
          ],
          "name": "stdout"
        }
      ]
    },
    {
      "cell_type": "markdown",
      "metadata": {
        "id": "GyzEFsOkBV9m"
      },
      "source": [
        "### TransformerEncoder"
      ]
    },
    {
      "cell_type": "code",
      "metadata": {
        "id": "g38RpPj93ebl"
      },
      "source": [
        "# TransformerEncoder consists of L blocks of TransformerBlock\n",
        "class TransformerEncoder(nn.Sequential):\n",
        "    def __init__(self, depth=12, **kwargs):\n",
        "        super().__init__(*[TransformerEncoderBlock(**kwargs) for _ in range(depth)])"
      ],
      "execution_count": 17,
      "outputs": []
    },
    {
      "cell_type": "code",
      "metadata": {
        "colab": {
          "base_uri": "https://localhost:8080/"
        },
        "id": "4_b8cuvTBJbV",
        "outputId": "d6f8d014-753c-4260-f2ec-066bd75b639f"
      },
      "source": [
        "# Check TransformerEncoder\n",
        "model = TransformerEncoder().to(device)\n",
        "output = model(patch_output)\n",
        "print(output.shape)"
      ],
      "execution_count": 18,
      "outputs": [
        {
          "output_type": "stream",
          "text": [
            "torch.Size([16, 197, 768])\n"
          ],
          "name": "stdout"
        }
      ]
    },
    {
      "cell_type": "markdown",
      "metadata": {
        "id": "qKaAWEteBYRG"
      },
      "source": [
        "### ClassificationHead"
      ]
    },
    {
      "cell_type": "code",
      "metadata": {
        "id": "6D8b7zrU_n3B"
      },
      "source": [
        "# define ClassificationHead which gives the class probability\n",
        "class ClassificationHead(nn.Sequential):\n",
        "    def __init__(self, emb_size=768, n_classes = 10):\n",
        "        super().__init__(\n",
        "            Reduce('b n e -> b e', reduction='mean'),\n",
        "            nn.LayerNorm(emb_size),\n",
        "            nn.Linear(emb_size, n_classes))"
      ],
      "execution_count": 19,
      "outputs": []
    },
    {
      "cell_type": "code",
      "metadata": {
        "colab": {
          "base_uri": "https://localhost:8080/"
        },
        "id": "MS1uIB9MCezp",
        "outputId": "3659f391-def5-4f97-c148-fbb7ebced489"
      },
      "source": [
        "# check\n",
        "x = torch.randn(16, 1, 768).to(device)\n",
        "model = ClassificationHead().to(device)\n",
        "output = model(x)\n",
        "print(output.shape)"
      ],
      "execution_count": 20,
      "outputs": [
        {
          "output_type": "stream",
          "text": [
            "torch.Size([16, 10])\n"
          ],
          "name": "stdout"
        }
      ]
    },
    {
      "cell_type": "markdown",
      "metadata": {
        "id": "yw8zSXRxC6zy"
      },
      "source": [
        "### ViT"
      ]
    },
    {
      "cell_type": "code",
      "metadata": {
        "id": "1UA0a9E3A47q"
      },
      "source": [
        "# Define the ViT architecture\n",
        "class ViT(nn.Sequential):\n",
        "    def __init__(self, in_channels=3, patch_size=16, emb_size=768, img_size=224, depth=12, n_classes=10, **kwargs):\n",
        "        super().__init__(\n",
        "            PatchEmbedding(in_channels, patch_size, emb_size, img_size),\n",
        "            TransformerEncoder(depth, emb_size=emb_size, **kwargs),\n",
        "            ClassificationHead(emb_size, n_classes)\n",
        "        )"
      ],
      "execution_count": 21,
      "outputs": []
    },
    {
      "cell_type": "code",
      "metadata": {
        "colab": {
          "base_uri": "https://localhost:8080/"
        },
        "id": "6h_ojUTXC6MY",
        "outputId": "ff85e9aa-ec5b-4745-d3db-c9761fb3d38d"
      },
      "source": [
        "# Check\n",
        "x = torch.randn(16,3,224,224).to(device)\n",
        "model = ViT().to(device)\n",
        "output = model(x)\n",
        "print(output.shape)"
      ],
      "execution_count": 22,
      "outputs": [
        {
          "output_type": "stream",
          "text": [
            "torch.Size([16, 10])\n"
          ],
          "name": "stdout"
        }
      ]
    },
    {
      "cell_type": "code",
      "metadata": {
        "colab": {
          "base_uri": "https://localhost:8080/"
        },
        "id": "3LwWgpD_C5bN",
        "outputId": "79f521e4-d044-4c4d-839a-542fd7a5d8cb"
      },
      "source": [
        "model = ViT().to(device)\n",
        "summary(model, (3,224,224), device=device.type)"
      ],
      "execution_count": 23,
      "outputs": [
        {
          "output_type": "stream",
          "text": [
            "----------------------------------------------------------------\n",
            "        Layer (type)               Output Shape         Param #\n",
            "================================================================\n",
            "            Conv2d-1          [-1, 768, 14, 14]         590,592\n",
            "         Rearrange-2             [-1, 196, 768]               0\n",
            "    PatchEmbedding-3             [-1, 197, 768]               0\n",
            "         LayerNorm-4             [-1, 197, 768]           1,536\n",
            "            Linear-5             [-1, 197, 768]         590,592\n",
            "            Linear-6             [-1, 197, 768]         590,592\n",
            "            Linear-7             [-1, 197, 768]         590,592\n",
            "           Dropout-8          [-1, 8, 197, 197]               0\n",
            "            Linear-9             [-1, 197, 768]         590,592\n",
            "MultiHeadAttention-10             [-1, 197, 768]               0\n",
            "          Dropout-11             [-1, 197, 768]               0\n",
            "      ResidualAdd-12             [-1, 197, 768]               0\n",
            "        LayerNorm-13             [-1, 197, 768]           1,536\n",
            "           Linear-14            [-1, 197, 3072]       2,362,368\n",
            "             GELU-15            [-1, 197, 3072]               0\n",
            "          Dropout-16            [-1, 197, 3072]               0\n",
            "           Linear-17             [-1, 197, 768]       2,360,064\n",
            "          Dropout-18             [-1, 197, 768]               0\n",
            "      ResidualAdd-19             [-1, 197, 768]               0\n",
            "        LayerNorm-20             [-1, 197, 768]           1,536\n",
            "           Linear-21             [-1, 197, 768]         590,592\n",
            "           Linear-22             [-1, 197, 768]         590,592\n",
            "           Linear-23             [-1, 197, 768]         590,592\n",
            "          Dropout-24          [-1, 8, 197, 197]               0\n",
            "           Linear-25             [-1, 197, 768]         590,592\n",
            "MultiHeadAttention-26             [-1, 197, 768]               0\n",
            "          Dropout-27             [-1, 197, 768]               0\n",
            "      ResidualAdd-28             [-1, 197, 768]               0\n",
            "        LayerNorm-29             [-1, 197, 768]           1,536\n",
            "           Linear-30            [-1, 197, 3072]       2,362,368\n",
            "             GELU-31            [-1, 197, 3072]               0\n",
            "          Dropout-32            [-1, 197, 3072]               0\n",
            "           Linear-33             [-1, 197, 768]       2,360,064\n",
            "          Dropout-34             [-1, 197, 768]               0\n",
            "      ResidualAdd-35             [-1, 197, 768]               0\n",
            "        LayerNorm-36             [-1, 197, 768]           1,536\n",
            "           Linear-37             [-1, 197, 768]         590,592\n",
            "           Linear-38             [-1, 197, 768]         590,592\n",
            "           Linear-39             [-1, 197, 768]         590,592\n",
            "          Dropout-40          [-1, 8, 197, 197]               0\n",
            "           Linear-41             [-1, 197, 768]         590,592\n",
            "MultiHeadAttention-42             [-1, 197, 768]               0\n",
            "          Dropout-43             [-1, 197, 768]               0\n",
            "      ResidualAdd-44             [-1, 197, 768]               0\n",
            "        LayerNorm-45             [-1, 197, 768]           1,536\n",
            "           Linear-46            [-1, 197, 3072]       2,362,368\n",
            "             GELU-47            [-1, 197, 3072]               0\n",
            "          Dropout-48            [-1, 197, 3072]               0\n",
            "           Linear-49             [-1, 197, 768]       2,360,064\n",
            "          Dropout-50             [-1, 197, 768]               0\n",
            "      ResidualAdd-51             [-1, 197, 768]               0\n",
            "        LayerNorm-52             [-1, 197, 768]           1,536\n",
            "           Linear-53             [-1, 197, 768]         590,592\n",
            "           Linear-54             [-1, 197, 768]         590,592\n",
            "           Linear-55             [-1, 197, 768]         590,592\n",
            "          Dropout-56          [-1, 8, 197, 197]               0\n",
            "           Linear-57             [-1, 197, 768]         590,592\n",
            "MultiHeadAttention-58             [-1, 197, 768]               0\n",
            "          Dropout-59             [-1, 197, 768]               0\n",
            "      ResidualAdd-60             [-1, 197, 768]               0\n",
            "        LayerNorm-61             [-1, 197, 768]           1,536\n",
            "           Linear-62            [-1, 197, 3072]       2,362,368\n",
            "             GELU-63            [-1, 197, 3072]               0\n",
            "          Dropout-64            [-1, 197, 3072]               0\n",
            "           Linear-65             [-1, 197, 768]       2,360,064\n",
            "          Dropout-66             [-1, 197, 768]               0\n",
            "      ResidualAdd-67             [-1, 197, 768]               0\n",
            "        LayerNorm-68             [-1, 197, 768]           1,536\n",
            "           Linear-69             [-1, 197, 768]         590,592\n",
            "           Linear-70             [-1, 197, 768]         590,592\n",
            "           Linear-71             [-1, 197, 768]         590,592\n",
            "          Dropout-72          [-1, 8, 197, 197]               0\n",
            "           Linear-73             [-1, 197, 768]         590,592\n",
            "MultiHeadAttention-74             [-1, 197, 768]               0\n",
            "          Dropout-75             [-1, 197, 768]               0\n",
            "      ResidualAdd-76             [-1, 197, 768]               0\n",
            "        LayerNorm-77             [-1, 197, 768]           1,536\n",
            "           Linear-78            [-1, 197, 3072]       2,362,368\n",
            "             GELU-79            [-1, 197, 3072]               0\n",
            "          Dropout-80            [-1, 197, 3072]               0\n",
            "           Linear-81             [-1, 197, 768]       2,360,064\n",
            "          Dropout-82             [-1, 197, 768]               0\n",
            "      ResidualAdd-83             [-1, 197, 768]               0\n",
            "        LayerNorm-84             [-1, 197, 768]           1,536\n",
            "           Linear-85             [-1, 197, 768]         590,592\n",
            "           Linear-86             [-1, 197, 768]         590,592\n",
            "           Linear-87             [-1, 197, 768]         590,592\n",
            "          Dropout-88          [-1, 8, 197, 197]               0\n",
            "           Linear-89             [-1, 197, 768]         590,592\n",
            "MultiHeadAttention-90             [-1, 197, 768]               0\n",
            "          Dropout-91             [-1, 197, 768]               0\n",
            "      ResidualAdd-92             [-1, 197, 768]               0\n",
            "        LayerNorm-93             [-1, 197, 768]           1,536\n",
            "           Linear-94            [-1, 197, 3072]       2,362,368\n",
            "             GELU-95            [-1, 197, 3072]               0\n",
            "          Dropout-96            [-1, 197, 3072]               0\n",
            "           Linear-97             [-1, 197, 768]       2,360,064\n",
            "          Dropout-98             [-1, 197, 768]               0\n",
            "      ResidualAdd-99             [-1, 197, 768]               0\n",
            "       LayerNorm-100             [-1, 197, 768]           1,536\n",
            "          Linear-101             [-1, 197, 768]         590,592\n",
            "          Linear-102             [-1, 197, 768]         590,592\n",
            "          Linear-103             [-1, 197, 768]         590,592\n",
            "         Dropout-104          [-1, 8, 197, 197]               0\n",
            "          Linear-105             [-1, 197, 768]         590,592\n",
            "MultiHeadAttention-106             [-1, 197, 768]               0\n",
            "         Dropout-107             [-1, 197, 768]               0\n",
            "     ResidualAdd-108             [-1, 197, 768]               0\n",
            "       LayerNorm-109             [-1, 197, 768]           1,536\n",
            "          Linear-110            [-1, 197, 3072]       2,362,368\n",
            "            GELU-111            [-1, 197, 3072]               0\n",
            "         Dropout-112            [-1, 197, 3072]               0\n",
            "          Linear-113             [-1, 197, 768]       2,360,064\n",
            "         Dropout-114             [-1, 197, 768]               0\n",
            "     ResidualAdd-115             [-1, 197, 768]               0\n",
            "       LayerNorm-116             [-1, 197, 768]           1,536\n",
            "          Linear-117             [-1, 197, 768]         590,592\n",
            "          Linear-118             [-1, 197, 768]         590,592\n",
            "          Linear-119             [-1, 197, 768]         590,592\n",
            "         Dropout-120          [-1, 8, 197, 197]               0\n",
            "          Linear-121             [-1, 197, 768]         590,592\n",
            "MultiHeadAttention-122             [-1, 197, 768]               0\n",
            "         Dropout-123             [-1, 197, 768]               0\n",
            "     ResidualAdd-124             [-1, 197, 768]               0\n",
            "       LayerNorm-125             [-1, 197, 768]           1,536\n",
            "          Linear-126            [-1, 197, 3072]       2,362,368\n",
            "            GELU-127            [-1, 197, 3072]               0\n",
            "         Dropout-128            [-1, 197, 3072]               0\n",
            "          Linear-129             [-1, 197, 768]       2,360,064\n",
            "         Dropout-130             [-1, 197, 768]               0\n",
            "     ResidualAdd-131             [-1, 197, 768]               0\n",
            "       LayerNorm-132             [-1, 197, 768]           1,536\n",
            "          Linear-133             [-1, 197, 768]         590,592\n",
            "          Linear-134             [-1, 197, 768]         590,592\n",
            "          Linear-135             [-1, 197, 768]         590,592\n",
            "         Dropout-136          [-1, 8, 197, 197]               0\n",
            "          Linear-137             [-1, 197, 768]         590,592\n",
            "MultiHeadAttention-138             [-1, 197, 768]               0\n",
            "         Dropout-139             [-1, 197, 768]               0\n",
            "     ResidualAdd-140             [-1, 197, 768]               0\n",
            "       LayerNorm-141             [-1, 197, 768]           1,536\n",
            "          Linear-142            [-1, 197, 3072]       2,362,368\n",
            "            GELU-143            [-1, 197, 3072]               0\n",
            "         Dropout-144            [-1, 197, 3072]               0\n",
            "          Linear-145             [-1, 197, 768]       2,360,064\n",
            "         Dropout-146             [-1, 197, 768]               0\n",
            "     ResidualAdd-147             [-1, 197, 768]               0\n",
            "       LayerNorm-148             [-1, 197, 768]           1,536\n",
            "          Linear-149             [-1, 197, 768]         590,592\n",
            "          Linear-150             [-1, 197, 768]         590,592\n",
            "          Linear-151             [-1, 197, 768]         590,592\n",
            "         Dropout-152          [-1, 8, 197, 197]               0\n",
            "          Linear-153             [-1, 197, 768]         590,592\n",
            "MultiHeadAttention-154             [-1, 197, 768]               0\n",
            "         Dropout-155             [-1, 197, 768]               0\n",
            "     ResidualAdd-156             [-1, 197, 768]               0\n",
            "       LayerNorm-157             [-1, 197, 768]           1,536\n",
            "          Linear-158            [-1, 197, 3072]       2,362,368\n",
            "            GELU-159            [-1, 197, 3072]               0\n",
            "         Dropout-160            [-1, 197, 3072]               0\n",
            "          Linear-161             [-1, 197, 768]       2,360,064\n",
            "         Dropout-162             [-1, 197, 768]               0\n",
            "     ResidualAdd-163             [-1, 197, 768]               0\n",
            "       LayerNorm-164             [-1, 197, 768]           1,536\n",
            "          Linear-165             [-1, 197, 768]         590,592\n",
            "          Linear-166             [-1, 197, 768]         590,592\n",
            "          Linear-167             [-1, 197, 768]         590,592\n",
            "         Dropout-168          [-1, 8, 197, 197]               0\n",
            "          Linear-169             [-1, 197, 768]         590,592\n",
            "MultiHeadAttention-170             [-1, 197, 768]               0\n",
            "         Dropout-171             [-1, 197, 768]               0\n",
            "     ResidualAdd-172             [-1, 197, 768]               0\n",
            "       LayerNorm-173             [-1, 197, 768]           1,536\n",
            "          Linear-174            [-1, 197, 3072]       2,362,368\n",
            "            GELU-175            [-1, 197, 3072]               0\n",
            "         Dropout-176            [-1, 197, 3072]               0\n",
            "          Linear-177             [-1, 197, 768]       2,360,064\n",
            "         Dropout-178             [-1, 197, 768]               0\n",
            "     ResidualAdd-179             [-1, 197, 768]               0\n",
            "       LayerNorm-180             [-1, 197, 768]           1,536\n",
            "          Linear-181             [-1, 197, 768]         590,592\n",
            "          Linear-182             [-1, 197, 768]         590,592\n",
            "          Linear-183             [-1, 197, 768]         590,592\n",
            "         Dropout-184          [-1, 8, 197, 197]               0\n",
            "          Linear-185             [-1, 197, 768]         590,592\n",
            "MultiHeadAttention-186             [-1, 197, 768]               0\n",
            "         Dropout-187             [-1, 197, 768]               0\n",
            "     ResidualAdd-188             [-1, 197, 768]               0\n",
            "       LayerNorm-189             [-1, 197, 768]           1,536\n",
            "          Linear-190            [-1, 197, 3072]       2,362,368\n",
            "            GELU-191            [-1, 197, 3072]               0\n",
            "         Dropout-192            [-1, 197, 3072]               0\n",
            "          Linear-193             [-1, 197, 768]       2,360,064\n",
            "         Dropout-194             [-1, 197, 768]               0\n",
            "     ResidualAdd-195             [-1, 197, 768]               0\n",
            "          Reduce-196                  [-1, 768]               0\n",
            "       LayerNorm-197                  [-1, 768]           1,536\n",
            "          Linear-198                   [-1, 10]           7,690\n",
            "================================================================\n",
            "Total params: 85,654,282\n",
            "Trainable params: 85,654,282\n",
            "Non-trainable params: 0\n",
            "----------------------------------------------------------------\n",
            "Input size (MB): 0.57\n",
            "Forward/backward pass size (MB): 364.33\n",
            "Params size (MB): 326.75\n",
            "Estimated Total Size (MB): 691.64\n",
            "----------------------------------------------------------------\n"
          ],
          "name": "stdout"
        }
      ]
    },
    {
      "cell_type": "markdown",
      "metadata": {
        "id": "4kEGHrYBGSDx"
      },
      "source": [
        "# 3. Train ViT"
      ]
    },
    {
      "cell_type": "code",
      "metadata": {
        "id": "0ylWRZKJEL_h"
      },
      "source": [
        "# define the loss function, optimizer and lr_scheduler\n",
        "loss_func = nn.CrossEntropyLoss(reduction='sum')\n",
        "opt = optim.Adam(model.parameters(), lr=0.01)\n",
        "\n",
        "from torch.optim.lr_scheduler import ReduceLROnPlateau\n",
        "lr_scheduler = ReduceLROnPlateau(opt, mode='min', factor=0.1, patience=10)"
      ],
      "execution_count": 24,
      "outputs": []
    },
    {
      "cell_type": "code",
      "metadata": {
        "id": "ps6Wp81vRQMj"
      },
      "source": [
        "# get current lr\n",
        "def get_lr(opt):\n",
        "    for param_group in opt.param_groups:\n",
        "        return param_group['lr']"
      ],
      "execution_count": 25,
      "outputs": []
    },
    {
      "cell_type": "code",
      "metadata": {
        "id": "20mSzhbgRQWp"
      },
      "source": [
        "# calculate the metric per mini-batch\n",
        "def metric_batch(output, target):\n",
        "    pred = output.argmax(1, keepdim=True)\n",
        "    corrects = pred.eq(target.view_as(pred)).sum().item()\n",
        "    return corrects\n",
        "\n",
        "\n",
        "# calculate the loss per mini-batch\n",
        "def loss_batch(loss_func, output, target, opt=None):\n",
        "    loss_b = loss_func(output, target)\n",
        "    metric_b = metric_batch(output, target)\n",
        "\n",
        "    if opt is not None:\n",
        "        opt.zero_grad()\n",
        "        loss_b.backward()\n",
        "        opt.step()\n",
        "    \n",
        "    return loss_b.item(), metric_b\n",
        "\n",
        "\n",
        "# calculate the loss per epochs\n",
        "def loss_epoch(model, loss_func, dataset_dl, sanity_check=False, opt=None):\n",
        "    running_loss = 0.0\n",
        "    running_metric = 0.0\n",
        "    len_data = len(dataset_dl.dataset)\n",
        "\n",
        "    for xb, yb in dataset_dl:\n",
        "        xb = xb.to(device)\n",
        "        yb = yb.to(device)\n",
        "        output = model(xb)\n",
        "\n",
        "        loss_b, metric_b = loss_batch(loss_func, output, yb, opt)\n",
        "\n",
        "        running_loss += loss_b\n",
        "        \n",
        "        if metric_b is not None:\n",
        "            running_metric += metric_b\n",
        "\n",
        "        if sanity_check is True:\n",
        "            break\n",
        "\n",
        "    loss = running_loss / len_data\n",
        "    metric = running_metric / len_data\n",
        "    return loss, metric"
      ],
      "execution_count": 26,
      "outputs": []
    },
    {
      "cell_type": "code",
      "metadata": {
        "id": "KKUJXmBARQhA"
      },
      "source": [
        "# function to start training\n",
        "def train_val(model, params):\n",
        "    num_epochs=params['num_epochs']\n",
        "    loss_func=params['loss_func']\n",
        "    opt=params['optimizer']\n",
        "    train_dl=params['train_dl']\n",
        "    val_dl=params['val_dl']\n",
        "    sanity_check=params['sanity_check']\n",
        "    lr_scheduler=params['lr_scheduler']\n",
        "    path2weights=params['path2weights']\n",
        "\n",
        "    loss_history = {'train': [], 'val': []}\n",
        "    metric_history = {'train': [], 'val': []}\n",
        "\n",
        "    best_loss = float('inf')\n",
        "    best_model_wts = copy.deepcopy(model.state_dict())\n",
        "    start_time = time.time()\n",
        "\n",
        "    for epoch in range(num_epochs):\n",
        "        current_lr = get_lr(opt)\n",
        "        print('Epoch {}/{}, current lr= {}'.format(epoch, num_epochs-1, current_lr))\n",
        "\n",
        "        model.train()\n",
        "        train_loss, train_metric = loss_epoch(model, loss_func, train_dl, sanity_check, opt)\n",
        "        loss_history['train'].append(train_loss)\n",
        "        metric_history['train'].append(train_metric)\n",
        "\n",
        "        model.eval()\n",
        "        with torch.no_grad():\n",
        "            val_loss, val_metric = loss_epoch(model, loss_func, val_dl, sanity_check)\n",
        "        loss_history['val'].append(val_loss)\n",
        "        metric_history['val'].append(val_metric)\n",
        "\n",
        "        if val_loss < best_loss:\n",
        "            best_loss = val_loss\n",
        "            best_model_wts = copy.deepcopy(model.state_dict())\n",
        "            torch.save(model.state_dict(), path2weights)\n",
        "            print('Copied best model weights!')\n",
        "\n",
        "        lr_scheduler.step(val_loss)\n",
        "        if current_lr != get_lr(opt):\n",
        "            print('Loading best model weights!')\n",
        "            model.load_state_dict(best_model_wts)\n",
        "\n",
        "        print('train loss: %.6f, val loss: %.6f, accuracy: %.2f, time: %.4f min' %(train_loss, val_loss, 100*val_metric, (time.time()-start_time)/60))\n",
        "        print('-'*10)\n",
        "\n",
        "    model.load_state_dict(best_model_wts)\n",
        "    return model, loss_history, metric_history"
      ],
      "execution_count": 33,
      "outputs": []
    },
    {
      "cell_type": "code",
      "metadata": {
        "id": "nmp7AKbVQ0PB"
      },
      "source": [
        "# define the training parameters\n",
        "params_train = {\n",
        "    'num_epochs':100,\n",
        "    'optimizer':opt,\n",
        "    'loss_func':loss_func,\n",
        "    'train_dl':train_dl,\n",
        "    'val_dl':val_dl,\n",
        "    'sanity_check':False,\n",
        "    'lr_scheduler':lr_scheduler,\n",
        "    'path2weights':'./models/weights.pt',\n",
        "}\n",
        "\n",
        "# check the directory to save weights.pt\n",
        "def createFolder(directory):\n",
        "    try:\n",
        "        if not os.path.exists(directory):\n",
        "            os.makedirs(directory)\n",
        "    except OSerror:\n",
        "        print('Error')\n",
        "createFolder('./models')"
      ],
      "execution_count": 34,
      "outputs": []
    },
    {
      "cell_type": "code",
      "metadata": {
        "colab": {
          "base_uri": "https://localhost:8080/"
        },
        "id": "v540YhAHRBsB",
        "outputId": "f4a64af1-1b3e-4bb0-c121-e20e528595ef"
      },
      "source": [
        "# Start training\n",
        "model, loss_hist, metric_hist = train_val(model, params_train)"
      ],
      "execution_count": 35,
      "outputs": [
        {
          "output_type": "stream",
          "text": [
            "Epoch 0/99, current lr= 0.01\n",
            "Copied best model weights!\n",
            "train loss: 2.225420, val loss: 2.073485, accuracy: 18.04, time: 2.5254 min\n",
            "----------\n",
            "Epoch 1/99, current lr= 0.01\n",
            "Copied best model weights!\n",
            "train loss: 2.025083, val loss: 1.904852, accuracy: 23.35, time: 5.0538 min\n",
            "----------\n",
            "Epoch 2/99, current lr= 0.01\n",
            "train loss: 1.975702, val loss: 1.943036, accuracy: 25.54, time: 7.5712 min\n",
            "----------\n",
            "Epoch 3/99, current lr= 0.01\n",
            "Copied best model weights!\n",
            "train loss: 1.946723, val loss: 1.898308, accuracy: 25.40, time: 10.1034 min\n",
            "----------\n",
            "Epoch 4/99, current lr= 0.01\n",
            "train loss: 1.933827, val loss: 1.967482, accuracy: 22.66, time: 12.6184 min\n",
            "----------\n",
            "Epoch 5/99, current lr= 0.01\n",
            "train loss: 1.901013, val loss: 1.933365, accuracy: 24.64, time: 15.1326 min\n",
            "----------\n",
            "Epoch 6/99, current lr= 0.01\n",
            "Copied best model weights!\n",
            "train loss: 1.911170, val loss: 1.891927, accuracy: 25.32, time: 17.6584 min\n",
            "----------\n",
            "Epoch 7/99, current lr= 0.01\n",
            "train loss: 1.882353, val loss: 1.928001, accuracy: 26.32, time: 20.1683 min\n",
            "----------\n",
            "Epoch 8/99, current lr= 0.01\n",
            "Copied best model weights!\n",
            "train loss: 1.886455, val loss: 1.865103, accuracy: 28.10, time: 22.6874 min\n",
            "----------\n",
            "Epoch 9/99, current lr= 0.01\n",
            "train loss: 1.856445, val loss: 1.874784, accuracy: 25.32, time: 25.1929 min\n",
            "----------\n",
            "Epoch 10/99, current lr= 0.01\n",
            "Copied best model weights!\n",
            "train loss: 1.894808, val loss: 1.848331, accuracy: 28.93, time: 27.7107 min\n",
            "----------\n",
            "Epoch 11/99, current lr= 0.01\n",
            "train loss: 1.885478, val loss: 2.026866, accuracy: 22.55, time: 30.2180 min\n",
            "----------\n",
            "Epoch 12/99, current lr= 0.01\n",
            "train loss: 1.992785, val loss: 1.931192, accuracy: 21.12, time: 32.7250 min\n",
            "----------\n",
            "Epoch 13/99, current lr= 0.01\n",
            "train loss: 1.985069, val loss: 1.941272, accuracy: 22.71, time: 35.2300 min\n",
            "----------\n",
            "Epoch 14/99, current lr= 0.01\n",
            "train loss: 1.924592, val loss: 1.879020, accuracy: 26.64, time: 37.7382 min\n",
            "----------\n",
            "Epoch 15/99, current lr= 0.01\n",
            "train loss: 1.897949, val loss: 1.919742, accuracy: 23.66, time: 40.2439 min\n",
            "----------\n",
            "Epoch 16/99, current lr= 0.01\n",
            "train loss: 1.880092, val loss: 1.894798, accuracy: 25.50, time: 42.7510 min\n",
            "----------\n",
            "Epoch 17/99, current lr= 0.01\n",
            "train loss: 1.857270, val loss: 1.899235, accuracy: 25.12, time: 45.2557 min\n",
            "----------\n",
            "Epoch 18/99, current lr= 0.01\n",
            "Copied best model weights!\n",
            "train loss: 1.850136, val loss: 1.839903, accuracy: 28.74, time: 47.7782 min\n",
            "----------\n",
            "Epoch 19/99, current lr= 0.01\n",
            "Copied best model weights!\n",
            "train loss: 1.834316, val loss: 1.766167, accuracy: 31.31, time: 50.2969 min\n",
            "----------\n",
            "Epoch 20/99, current lr= 0.01\n",
            "train loss: 1.844326, val loss: 1.811155, accuracy: 29.76, time: 52.8053 min\n",
            "----------\n",
            "Epoch 21/99, current lr= 0.01\n",
            "train loss: 1.837148, val loss: 2.009301, accuracy: 25.57, time: 55.3141 min\n",
            "----------\n",
            "Epoch 22/99, current lr= 0.01\n",
            "train loss: 1.829221, val loss: 1.817922, accuracy: 29.96, time: 57.8233 min\n",
            "----------\n",
            "Epoch 23/99, current lr= 0.01\n",
            "train loss: 1.816382, val loss: 1.804829, accuracy: 30.35, time: 60.3312 min\n",
            "----------\n",
            "Epoch 24/99, current lr= 0.01\n",
            "train loss: 1.822880, val loss: 1.831541, accuracy: 28.81, time: 62.8397 min\n",
            "----------\n",
            "Epoch 25/99, current lr= 0.01\n",
            "train loss: 1.808597, val loss: 1.798676, accuracy: 29.38, time: 65.3465 min\n",
            "----------\n",
            "Epoch 26/99, current lr= 0.01\n",
            "Copied best model weights!\n",
            "train loss: 1.806419, val loss: 1.764403, accuracy: 29.86, time: 67.8670 min\n",
            "----------\n",
            "Epoch 27/99, current lr= 0.01\n",
            "train loss: 1.788388, val loss: 1.867443, accuracy: 28.02, time: 70.3743 min\n",
            "----------\n",
            "Epoch 28/99, current lr= 0.01\n",
            "train loss: 1.903024, val loss: 1.875797, accuracy: 26.72, time: 72.8793 min\n",
            "----------\n",
            "Epoch 29/99, current lr= 0.01\n",
            "train loss: 1.871309, val loss: 1.859992, accuracy: 24.68, time: 75.3843 min\n",
            "----------\n",
            "Epoch 30/99, current lr= 0.01\n",
            "train loss: 1.849960, val loss: 1.841774, accuracy: 26.61, time: 77.8887 min\n",
            "----------\n",
            "Epoch 31/99, current lr= 0.01\n",
            "train loss: 1.803880, val loss: 1.791773, accuracy: 29.81, time: 80.3890 min\n",
            "----------\n",
            "Epoch 32/99, current lr= 0.01\n",
            "Copied best model weights!\n",
            "train loss: 1.877243, val loss: 1.762081, accuracy: 31.59, time: 82.8993 min\n",
            "----------\n",
            "Epoch 33/99, current lr= 0.01\n",
            "train loss: 1.832730, val loss: 1.842000, accuracy: 28.70, time: 85.4000 min\n",
            "----------\n",
            "Epoch 34/99, current lr= 0.01\n",
            "train loss: 1.791919, val loss: 1.897778, accuracy: 26.34, time: 87.8991 min\n",
            "----------\n",
            "Epoch 35/99, current lr= 0.01\n",
            "train loss: 1.793421, val loss: 1.766800, accuracy: 30.18, time: 90.3977 min\n",
            "----------\n",
            "Epoch 36/99, current lr= 0.01\n",
            "train loss: 1.971462, val loss: 2.113337, accuracy: 18.71, time: 92.8948 min\n",
            "----------\n",
            "Epoch 37/99, current lr= 0.01\n",
            "train loss: 2.140547, val loss: 2.059142, accuracy: 16.53, time: 95.3928 min\n",
            "----------\n",
            "Epoch 38/99, current lr= 0.01\n",
            "train loss: 2.049461, val loss: 1.979669, accuracy: 21.36, time: 97.8952 min\n",
            "----------\n",
            "Epoch 39/99, current lr= 0.01\n",
            "train loss: 2.010676, val loss: 2.031121, accuracy: 17.69, time: 100.3952 min\n",
            "----------\n",
            "Epoch 40/99, current lr= 0.01\n",
            "train loss: 1.968970, val loss: 1.924604, accuracy: 22.82, time: 102.8964 min\n",
            "----------\n",
            "Epoch 41/99, current lr= 0.01\n",
            "train loss: 1.938726, val loss: 1.993191, accuracy: 22.55, time: 105.4017 min\n",
            "----------\n",
            "Epoch 42/99, current lr= 0.01\n",
            "train loss: 1.911167, val loss: 1.881683, accuracy: 25.14, time: 107.9060 min\n",
            "----------\n",
            "Epoch 43/99, current lr= 0.01\n",
            "Loading best model weights!\n",
            "train loss: 1.876223, val loss: 1.928365, accuracy: 24.18, time: 110.4110 min\n",
            "----------\n",
            "Epoch 44/99, current lr= 0.001\n",
            "Copied best model weights!\n",
            "train loss: 1.733731, val loss: 1.730582, accuracy: 32.59, time: 112.9311 min\n",
            "----------\n",
            "Epoch 45/99, current lr= 0.001\n",
            "Copied best model weights!\n",
            "train loss: 1.728843, val loss: 1.727002, accuracy: 32.12, time: 115.4512 min\n",
            "----------\n",
            "Epoch 46/99, current lr= 0.001\n",
            "Copied best model weights!\n",
            "train loss: 1.713933, val loss: 1.723122, accuracy: 33.71, time: 117.9727 min\n",
            "----------\n",
            "Epoch 47/99, current lr= 0.001\n",
            "Copied best model weights!\n",
            "train loss: 1.706422, val loss: 1.719188, accuracy: 32.70, time: 120.4929 min\n",
            "----------\n",
            "Epoch 48/99, current lr= 0.001\n",
            "Copied best model weights!\n",
            "train loss: 1.699336, val loss: 1.713203, accuracy: 32.66, time: 123.0153 min\n",
            "----------\n",
            "Epoch 49/99, current lr= 0.001\n",
            "train loss: 1.696590, val loss: 1.716665, accuracy: 32.67, time: 125.5241 min\n",
            "----------\n",
            "Epoch 50/99, current lr= 0.001\n",
            "train loss: 1.696181, val loss: 1.721179, accuracy: 32.62, time: 128.0324 min\n",
            "----------\n",
            "Epoch 51/99, current lr= 0.001\n",
            "Copied best model weights!\n",
            "train loss: 1.695446, val loss: 1.709356, accuracy: 33.56, time: 130.5547 min\n",
            "----------\n",
            "Epoch 52/99, current lr= 0.001\n",
            "Copied best model weights!\n",
            "train loss: 1.686557, val loss: 1.702301, accuracy: 33.39, time: 133.0767 min\n",
            "----------\n",
            "Epoch 53/99, current lr= 0.001\n",
            "train loss: 1.679676, val loss: 1.709314, accuracy: 33.74, time: 135.5856 min\n",
            "----------\n",
            "Epoch 54/99, current lr= 0.001\n",
            "Copied best model weights!\n",
            "train loss: 1.682998, val loss: 1.698551, accuracy: 34.41, time: 138.1081 min\n",
            "----------\n",
            "Epoch 55/99, current lr= 0.001\n",
            "Copied best model weights!\n",
            "train loss: 1.674944, val loss: 1.697093, accuracy: 34.04, time: 140.6317 min\n",
            "----------\n",
            "Epoch 56/99, current lr= 0.001\n",
            "train loss: 1.668337, val loss: 1.701129, accuracy: 33.81, time: 143.1425 min\n",
            "----------\n",
            "Epoch 57/99, current lr= 0.001\n",
            "train loss: 1.674311, val loss: 1.704382, accuracy: 33.27, time: 145.6515 min\n",
            "----------\n",
            "Epoch 58/99, current lr= 0.001\n",
            "train loss: 1.675155, val loss: 1.740231, accuracy: 32.27, time: 148.1620 min\n",
            "----------\n",
            "Epoch 59/99, current lr= 0.001\n",
            "train loss: 1.678623, val loss: 1.705509, accuracy: 33.80, time: 150.6716 min\n",
            "----------\n",
            "Epoch 60/99, current lr= 0.001\n",
            "train loss: 1.673014, val loss: 1.701560, accuracy: 34.34, time: 153.1829 min\n",
            "----------\n",
            "Epoch 61/99, current lr= 0.001\n",
            "Copied best model weights!\n",
            "train loss: 1.670721, val loss: 1.694427, accuracy: 34.31, time: 155.7040 min\n",
            "----------\n",
            "Epoch 62/99, current lr= 0.001\n",
            "Copied best model weights!\n",
            "train loss: 1.668730, val loss: 1.687276, accuracy: 35.15, time: 158.2297 min\n",
            "----------\n",
            "Epoch 63/99, current lr= 0.001\n",
            "train loss: 1.664613, val loss: 1.690144, accuracy: 34.71, time: 160.7394 min\n",
            "----------\n",
            "Epoch 64/99, current lr= 0.001\n",
            "train loss: 1.673134, val loss: 1.688495, accuracy: 33.74, time: 163.2504 min\n",
            "----------\n",
            "Epoch 65/99, current lr= 0.001\n",
            "train loss: 1.673837, val loss: 1.719280, accuracy: 33.62, time: 165.7598 min\n",
            "----------\n",
            "Epoch 66/99, current lr= 0.001\n",
            "train loss: 1.866088, val loss: 1.778357, accuracy: 31.41, time: 168.2683 min\n",
            "----------\n",
            "Epoch 67/99, current lr= 0.001\n",
            "train loss: 1.742273, val loss: 1.739239, accuracy: 32.65, time: 170.7769 min\n",
            "----------\n",
            "Epoch 68/99, current lr= 0.001\n",
            "train loss: 1.712125, val loss: 1.714818, accuracy: 34.04, time: 173.2870 min\n",
            "----------\n",
            "Epoch 69/99, current lr= 0.001\n",
            "train loss: 1.694676, val loss: 1.711012, accuracy: 34.05, time: 175.7952 min\n",
            "----------\n",
            "Epoch 70/99, current lr= 0.001\n",
            "train loss: 1.682513, val loss: 1.700878, accuracy: 35.11, time: 178.3024 min\n",
            "----------\n",
            "Epoch 71/99, current lr= 0.001\n",
            "train loss: 1.669886, val loss: 1.700027, accuracy: 33.84, time: 180.8082 min\n",
            "----------\n",
            "Epoch 72/99, current lr= 0.001\n",
            "train loss: 1.672313, val loss: 1.700127, accuracy: 34.26, time: 183.3173 min\n",
            "----------\n",
            "Epoch 73/99, current lr= 0.001\n",
            "Loading best model weights!\n",
            "train loss: 1.676372, val loss: 1.689404, accuracy: 34.29, time: 185.8236 min\n",
            "----------\n",
            "Epoch 74/99, current lr= 0.0001\n",
            "Copied best model weights!\n",
            "train loss: 1.655000, val loss: 1.684642, accuracy: 35.12, time: 188.3446 min\n",
            "----------\n",
            "Epoch 75/99, current lr= 0.0001\n",
            "Copied best model weights!\n",
            "train loss: 1.653614, val loss: 1.683373, accuracy: 35.10, time: 190.8635 min\n",
            "----------\n",
            "Epoch 76/99, current lr= 0.0001\n",
            "Copied best model weights!\n",
            "train loss: 1.653039, val loss: 1.683234, accuracy: 35.12, time: 193.3857 min\n",
            "----------\n",
            "Epoch 77/99, current lr= 0.0001\n",
            "Copied best model weights!\n",
            "train loss: 1.652442, val loss: 1.682868, accuracy: 35.15, time: 195.9045 min\n",
            "----------\n",
            "Epoch 78/99, current lr= 0.0001\n",
            "Copied best model weights!\n",
            "train loss: 1.651886, val loss: 1.682122, accuracy: 35.16, time: 198.4264 min\n",
            "----------\n",
            "Epoch 79/99, current lr= 0.0001\n",
            "train loss: 1.651038, val loss: 1.684156, accuracy: 35.30, time: 200.9334 min\n",
            "----------\n",
            "Epoch 80/99, current lr= 0.0001\n",
            "train loss: 1.650787, val loss: 1.682687, accuracy: 35.02, time: 203.4407 min\n",
            "----------\n",
            "Epoch 81/99, current lr= 0.0001\n",
            "train loss: 1.650267, val loss: 1.682339, accuracy: 35.34, time: 205.9443 min\n",
            "----------\n",
            "Epoch 82/99, current lr= 0.0001\n",
            "Copied best model weights!\n",
            "train loss: 1.650280, val loss: 1.681566, accuracy: 35.48, time: 208.4648 min\n",
            "----------\n",
            "Epoch 83/99, current lr= 0.0001\n",
            "Copied best model weights!\n",
            "train loss: 1.649141, val loss: 1.680593, accuracy: 35.31, time: 210.9868 min\n",
            "----------\n",
            "Epoch 84/99, current lr= 0.0001\n",
            "train loss: 1.648794, val loss: 1.680717, accuracy: 35.12, time: 213.4946 min\n",
            "----------\n",
            "Epoch 85/99, current lr= 0.0001\n",
            "Copied best model weights!\n",
            "train loss: 1.648534, val loss: 1.680443, accuracy: 35.40, time: 216.0156 min\n",
            "----------\n",
            "Epoch 86/99, current lr= 0.0001\n",
            "Copied best model weights!\n",
            "train loss: 1.647834, val loss: 1.680241, accuracy: 35.40, time: 218.5394 min\n",
            "----------\n",
            "Epoch 87/99, current lr= 0.0001\n",
            "train loss: 1.647276, val loss: 1.681771, accuracy: 35.40, time: 221.0489 min\n",
            "----------\n",
            "Epoch 88/99, current lr= 0.0001\n",
            "Copied best model weights!\n",
            "train loss: 1.648113, val loss: 1.680050, accuracy: 35.46, time: 223.5722 min\n",
            "----------\n",
            "Epoch 89/99, current lr= 0.0001\n",
            "Copied best model weights!\n",
            "train loss: 1.648136, val loss: 1.679978, accuracy: 35.58, time: 226.0928 min\n",
            "----------\n",
            "Epoch 90/99, current lr= 0.0001\n",
            "Copied best model weights!\n",
            "train loss: 1.647807, val loss: 1.679720, accuracy: 35.36, time: 228.6131 min\n",
            "----------\n",
            "Epoch 91/99, current lr= 0.0001\n",
            "train loss: 1.647633, val loss: 1.679759, accuracy: 35.50, time: 231.1222 min\n",
            "----------\n",
            "Epoch 92/99, current lr= 0.0001\n",
            "Copied best model weights!\n",
            "train loss: 1.646574, val loss: 1.679407, accuracy: 35.46, time: 233.6436 min\n",
            "----------\n",
            "Epoch 93/99, current lr= 0.0001\n",
            "Copied best model weights!\n",
            "train loss: 1.646335, val loss: 1.678467, accuracy: 35.39, time: 236.1638 min\n",
            "----------\n",
            "Epoch 94/99, current lr= 0.0001\n",
            "train loss: 1.645694, val loss: 1.678756, accuracy: 35.17, time: 238.6716 min\n",
            "----------\n",
            "Epoch 95/99, current lr= 0.0001\n",
            "Copied best model weights!\n",
            "train loss: 1.646093, val loss: 1.678129, accuracy: 35.29, time: 241.1933 min\n",
            "----------\n",
            "Epoch 96/99, current lr= 0.0001\n",
            "Copied best model weights!\n",
            "train loss: 1.645592, val loss: 1.677558, accuracy: 35.44, time: 243.7163 min\n",
            "----------\n",
            "Epoch 97/99, current lr= 0.0001\n",
            "train loss: 1.645579, val loss: 1.679378, accuracy: 35.41, time: 246.2245 min\n",
            "----------\n",
            "Epoch 98/99, current lr= 0.0001\n",
            "train loss: 1.644668, val loss: 1.678012, accuracy: 35.44, time: 248.7353 min\n",
            "----------\n",
            "Epoch 99/99, current lr= 0.0001\n",
            "train loss: 1.644848, val loss: 1.677933, accuracy: 35.44, time: 251.2465 min\n",
            "----------\n"
          ],
          "name": "stdout"
        }
      ]
    },
    {
      "cell_type": "code",
      "metadata": {
        "colab": {
          "base_uri": "https://localhost:8080/",
          "height": 573
        },
        "id": "CjTlIYB5SYRB",
        "outputId": "9042d28a-7a80-497f-debb-4cf744c119ed"
      },
      "source": [
        "num_epochs = params_train['num_epochs']\n",
        "\n",
        "# Plot train-val loss\n",
        "plt.title('Train-Val Loss')\n",
        "plt.plot(range(1, num_epochs+1), loss_hist['train'], label='train')\n",
        "plt.plot(range(1, num_epochs+1), loss_hist['val'], label='val')\n",
        "plt.ylabel('Loss')\n",
        "plt.xlabel('Training Epochs')\n",
        "plt.legend()\n",
        "plt.show()\n",
        "\n",
        "# plot train-val accuracy\n",
        "plt.title('Train-Val Accuracy')\n",
        "plt.plot(range(1, num_epochs+1), metric_hist['train'], label='train')\n",
        "plt.plot(range(1, num_epochs+1), metric_hist['val'], label='val')\n",
        "plt.ylabel('Accuracy')\n",
        "plt.xlabel('Training Epochs')\n",
        "plt.legend()\n",
        "plt.show()"
      ],
      "execution_count": 36,
      "outputs": [
        {
          "output_type": "display_data",
          "data": {
            "image/png": "[encoded data removed]",
            "text/plain": [
              "<Figure size 432x288 with 1 Axes>"
            ]
          },
          "metadata": {
            "tags": [],
            "needs_background": "light"
          }
        },
        {
          "output_type": "display_data",
          "data": {
            "image/png": "[encoded data removed]",
            "text/plain": [
              "<Figure size 432x288 with 1 Axes>"
            ]
          },
          "metadata": {
            "tags": [],
            "needs_background": "light"
          }
        }
      ]
    },
    {
      "cell_type": "code",
      "metadata": {
        "id": "ibpMIYXgUMMG"
      },
      "source": [
        ""
      ],
      "execution_count": null,
      "outputs": []
    }
  ]
}