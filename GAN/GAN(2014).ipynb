{
  "nbformat": 4,
  "nbformat_minor": 0,
  "metadata": {
    "colab": {
      "name": "GAN(2014).ipynb",
      "provenance": [],
      "collapsed_sections": [],
      "machine_shape": "hm",
      "authorship_tag": "ABX9TyO4B8L7fNte1OjXoB4ltTxS",
      "include_colab_link": true
    },
    "kernelspec": {
      "name": "python3",
      "display_name": "Python 3"
    },
    "language_info": {
      "name": "python"
    },
    "accelerator": "GPU"
  },
  "cells": [
    {
      "cell_type": "markdown",
      "metadata": {
        "id": "view-in-github",
        "colab_type": "text"
      },
      "source": [
        "<a href=\"https://colab.research.google.com/github/Seonghoon-Yu/Paper_Review_and_Implementation_in_PyTorch/blob/master/GAN/GAN(2014).ipynb\" target=\"_parent\"><img src=\"https://colab.research.google.com/assets/colab-badge.svg\" alt=\"Open In Colab\"/></a>"
      ]
    },
    {
      "cell_type": "code",
      "metadata": {
        "id": "QFaVqwFDCB-B"
      },
      "source": [
        "import torch\n",
        "import torch.nn as nn\n",
        "import torch.nn.functional as F\n",
        "\n",
        "from torchvision import datasets\n",
        "import torchvision.transforms as transforms\n",
        "from torch.utils.data import DataLoader\n",
        "from torchvision.transforms.functional import to_pil_image\n",
        "import matplotlib.pylab as plt\n",
        "%matplotlib inline\n",
        "\n",
        "import os\n",
        "import numpy as np\n",
        "import time\n",
        "\n",
        "device = torch.device('cuda' if torch.cuda.is_available() else 'cpu')"
      ],
      "execution_count": 2,
      "outputs": []
    },
    {
      "cell_type": "markdown",
      "metadata": {
        "id": "d77l7D7EC4i7"
      },
      "source": [
        "# 1. 데이터셋 불러오기"
      ]
    },
    {
      "cell_type": "code",
      "metadata": {
        "id": "bntTCkWpCe_r"
      },
      "source": [
        "# 데이터 경로 지정\n",
        "path2data = './data'\n",
        "os.makedirs(path2data, exist_ok=True) # 폴더 생성"
      ],
      "execution_count": 40,
      "outputs": []
    },
    {
      "cell_type": "code",
      "metadata": {
        "id": "Bw66vqNSEZNW"
      },
      "source": [
        "# MNIST dataset 불러오기\n",
        "train_ds = datasets.MNIST(path2data, train=True, transform=transforms.Compose([transforms.ToTensor(),transforms.Normalize([0.5],[0.5])]), download=True)"
      ],
      "execution_count": 41,
      "outputs": []
    },
    {
      "cell_type": "code",
      "metadata": {
        "colab": {
          "base_uri": "https://localhost:8080/",
          "height": 283
        },
        "id": "sVRHwXtbEyfw",
        "outputId": "d554d58d-d8f3-4dc8-ac86-c2bcef944271"
      },
      "source": [
        "# 샘플 이미지 확인\n",
        "img, label = train_ds[0]\n",
        "plt.imshow(to_pil_image(0.5*img+0.5),cmap='gray')"
      ],
      "execution_count": 5,
      "outputs": [
        {
          "output_type": "execute_result",
          "data": {
            "text/plain": [
              "<matplotlib.image.AxesImage at 0x7f9831742390>"
            ]
          },
          "metadata": {
            "tags": []
          },
          "execution_count": 5
        },
        {
          "output_type": "display_data",
          "data": {
            "image/png": "[encoded data removed]",
            "text/plain": [
              "<Figure size 432x288 with 1 Axes>"
            ]
          },
          "metadata": {
            "tags": [],
            "needs_background": "light"
          }
        }
      ]
    },
    {
      "cell_type": "code",
      "metadata": {
        "id": "rDXUwtGNFJSG"
      },
      "source": [
        "# 데이터 로더 생성\n",
        "train_dl = DataLoader(train_ds, batch_size=32, shuffle=True)"
      ],
      "execution_count": 6,
      "outputs": []
    },
    {
      "cell_type": "code",
      "metadata": {
        "colab": {
          "base_uri": "https://localhost:8080/"
        },
        "id": "qO02zq-BIyG9",
        "outputId": "0b91878e-30c4-48d1-c4b2-e4d8e85fc051"
      },
      "source": [
        "# check\n",
        "for x, y in train_dl:\n",
        "    print(x.shape, y.shape)\n",
        "    break"
      ],
      "execution_count": 7,
      "outputs": [
        {
          "output_type": "stream",
          "text": [
            "torch.Size([32, 1, 28, 28]) torch.Size([32])\n"
          ],
          "name": "stdout"
        }
      ]
    },
    {
      "cell_type": "markdown",
      "metadata": {
        "id": "4uY95ka7Jfr6"
      },
      "source": [
        "# 2. 모델 구축하기"
      ]
    },
    {
      "cell_type": "code",
      "metadata": {
        "colab": {
          "base_uri": "https://localhost:8080/"
        },
        "id": "M9LUeRvII25r",
        "outputId": "a0efa064-edf1-4f12-bb0c-4e0a2c1835a1"
      },
      "source": [
        "# generator: noise를 입력받아 이미지를 생성합니다.\n",
        "class Generator(nn.Module):\n",
        "    def __init__(self, params):\n",
        "        super().__init__()\n",
        "        self.nz = params['nz'] # 입력 노이즈 벡터 수, 100\n",
        "        self.img_size = params['img_size'] # 이미지 크기, 1x28x28\n",
        "\n",
        "        self.model = nn.Sequential(\n",
        "            *self._fc_layer(self.nz, 128, normalize=False),\n",
        "            *self._fc_layer(128,256),\n",
        "            *self._fc_layer(256,512),\n",
        "            *self._fc_layer(512,1024),\n",
        "            nn.Linear(1024,int(np.prod(self.img_size))),\n",
        "            nn.Tanh()\n",
        "        )\n",
        "\n",
        "    def forward(self, z):\n",
        "        img = self.model(z)\n",
        "        img = img.view(img.size(0), *self.img_size)\n",
        "        return img\n",
        "\n",
        "    # fc layer\n",
        "    def _fc_layer(self, in_channels, out_channels, normalize=True):\n",
        "        layers = []\n",
        "        layers.append(nn.Linear(in_channels, out_channels)) # fc layer\n",
        "        if normalize:\n",
        "            layers.append(nn.BatchNorm1d(out_channels, 0.8)) # BN\n",
        "        layers.append(nn.LeakyReLU(0.2)) # LeakyReLU\n",
        "        return layers\n",
        "\n",
        "# check\n",
        "params = {'nz':100,\n",
        "          'img_size':(1,28,28)}\n",
        "x = torch.randn(16,100).to(device) # random noise\n",
        "model_gen = Generator(params).to(device)\n",
        "output = model_gen(x) # noise를 입력받아 이미지 생성\n",
        "print(output.shape)"
      ],
      "execution_count": 45,
      "outputs": [
        {
          "output_type": "stream",
          "text": [
            "torch.Size([16, 1, 28, 28])\n"
          ],
          "name": "stdout"
        }
      ]
    },
    {
      "cell_type": "code",
      "metadata": {
        "colab": {
          "base_uri": "https://localhost:8080/"
        },
        "id": "lge1B1VJMKUi",
        "outputId": "d49ad253-ecd4-4056-df72-9ad95fd9061f"
      },
      "source": [
        "# discriminator: 진짜 이미지와 가짜 이미지를 분류합니다.\n",
        "class Discriminator(nn.Module):\n",
        "    def __init__(self,params):\n",
        "        super().__init__()\n",
        "        self.img_size = params['img_size'] # 이미지 크기, 1x28x28\n",
        "\n",
        "        self.model = nn.Sequential(\n",
        "            nn.Linear(int(np.prod(self.img_size)), 512),\n",
        "            nn.LeakyReLU(0.2),\n",
        "            nn.Linear(512,256),\n",
        "            nn.LeakyReLU(0.2),\n",
        "            nn.Linear(256,1),\n",
        "            nn.Sigmoid()\n",
        "        )\n",
        "\n",
        "    def forward(self, x):\n",
        "        x = x.view(x.size(0),-1)\n",
        "        x = self.model(x)\n",
        "        return x\n",
        "\n",
        "# check\n",
        "x = torch.randn(16,1,28,28).to(device)\n",
        "model_dis = Discriminator(params).to(device)\n",
        "output = model_dis(x)\n",
        "print(output.shape)"
      ],
      "execution_count": 46,
      "outputs": [
        {
          "output_type": "stream",
          "text": [
            "torch.Size([16, 1])\n"
          ],
          "name": "stdout"
        }
      ]
    },
    {
      "cell_type": "code",
      "metadata": {
        "id": "hR7CZhmyqUYc"
      },
      "source": [
        "# 가중치 초기화\n",
        "def initialize_weights(model):\n",
        "    classname = model.__class__.__name__\n",
        "    # fc layer\n",
        "    if classname.find('Linear') != -1:\n",
        "        nn.init.normal_(model.weight.data, 0.0, 0.02)\n",
        "        nn.init.constant_(model.bias.data, 0)\n",
        "    # batchnorm\n",
        "    elif classname.find('BatchNorm') != -1:\n",
        "        nn.init.normal_(model.weight.data, 1.0, 0.02)\n",
        "        nn.init.constant_(model.bias.data, 0)\n",
        "\n",
        "# 가중치 초기화 적용\n",
        "model_gen.apply(initialize_weights);\n",
        "model_dis.apply(initialize_weights);"
      ],
      "execution_count": 78,
      "outputs": []
    },
    {
      "cell_type": "markdown",
      "metadata": {
        "id": "aJdMBc0wqKzw"
      },
      "source": [
        "# 3. 학습하기"
      ]
    },
    {
      "cell_type": "code",
      "metadata": {
        "id": "uykVj7nhpq7u"
      },
      "source": [
        "# 손실 함수\n",
        "loss_func = nn.BCELoss()"
      ],
      "execution_count": 79,
      "outputs": []
    },
    {
      "cell_type": "code",
      "metadata": {
        "id": "AC4r8RVHsF8c"
      },
      "source": [
        "from torch import optim\n",
        "\n",
        "# 최적화 파라미터\n",
        "lr = 2e-4\n",
        "beta1 = 0.5\n",
        "\n",
        "opt_dis = optim.Adam(model_dis.parameters(),lr=lr,betas=(beta1,0.999))\n",
        "opt_gen = optim.Adam(model_gen.parameters(),lr=lr,betas=(beta1,0.999))"
      ],
      "execution_count": 80,
      "outputs": []
    },
    {
      "cell_type": "code",
      "metadata": {
        "id": "ofBe2ekcsRgy"
      },
      "source": [
        "real_label = 1.\n",
        "fake_label = 0.\n",
        "nz = params['nz']\n",
        "num_epochs = 100\n",
        "\n",
        "loss_history={'gen':[],\n",
        "              'dis':[]}"
      ],
      "execution_count": 81,
      "outputs": []
    },
    {
      "cell_type": "code",
      "metadata": {
        "colab": {
          "base_uri": "https://localhost:8080/"
        },
        "id": "5clROy9DLqdZ",
        "outputId": "505f24a7-4363-4b11-b9eb-bdcc1416f5c8"
      },
      "source": [
        "batch_count = 0\n",
        "start_time = time.time()\n",
        "model_dis.train()\n",
        "model_gen.train()\n",
        "\n",
        "for epoch in range(num_epochs):\n",
        "    for xb, yb in train_dl:\n",
        "        ba_si = xb.size(0)\n",
        "\n",
        "        xb = xb.to(device)\n",
        "        yb_real = torch.Tensor(ba_si,1).fill_(1.0).to(device)\n",
        "        yb_fake = torch.Tensor(ba_si,1).fill_(0.0).to(device)\n",
        "\n",
        "        # Generator\n",
        "        model_gen.zero_grad()\n",
        "        noise = torch.randn(ba_si,nz, device=device) # 노이즈 생성\n",
        "        out_gen = model_gen(noise) # 가짜 이미지 생성\n",
        "        out_dis = model_dis(out_gen) # 가짜 이미지 판별\n",
        "\n",
        "        loss_gen = loss_func(out_dis, yb_real)\n",
        "        loss_gen.backward()\n",
        "        opt_gen.step()\n",
        "\n",
        "        # Discriminator\n",
        "        model_dis.zero_grad()\n",
        "\n",
        "        out_real = model_dis(xb) # 진짜 이미지 판별\n",
        "        out_fake = model_dis(out_gen.detach()) # 가짜 이미지 판별\n",
        "        loss_real = loss_func(out_real, yb_real)\n",
        "        loss_fake = loss_func(out_fake, yb_fake)\n",
        "        loss_dis = (loss_real + loss_fake) / 2\n",
        "\n",
        "        loss_dis.backward()\n",
        "        opt_dis.step()\n",
        "\n",
        "        loss_history['gen'].append(loss_gen.item())\n",
        "        loss_history['dis'].append(loss_dis.item())\n",
        "\n",
        "        batch_count += 1\n",
        "        if batch_count % 1000 == 0:\n",
        "            print('Epoch: %.0f, G_Loss: %.6f, D_Loss: %.6f, time: %.2f min' %(epoch, loss_gen.item(), loss_dis.item(), (time.time()-start_time)/60))"
      ],
      "execution_count": 82,
      "outputs": [
        {
          "output_type": "stream",
          "text": [
            "Epoch: 0, G_Loss: 3.498638, D_Loss: 0.375694, time: 0.23 min\n",
            "Epoch: 1, G_Loss: 1.850641, D_Loss: 0.299748, time: 0.45 min\n",
            "Epoch: 1, G_Loss: 2.619798, D_Loss: 0.536759, time: 0.68 min\n",
            "Epoch: 2, G_Loss: 1.812477, D_Loss: 0.254422, time: 0.90 min\n",
            "Epoch: 2, G_Loss: 2.712598, D_Loss: 0.236421, time: 1.12 min\n",
            "Epoch: 3, G_Loss: 1.607915, D_Loss: 0.181307, time: 1.35 min\n",
            "Epoch: 3, G_Loss: 1.966413, D_Loss: 0.210961, time: 1.57 min\n",
            "Epoch: 4, G_Loss: 2.309307, D_Loss: 0.189411, time: 1.79 min\n",
            "Epoch: 4, G_Loss: 0.466723, D_Loss: 0.722811, time: 2.01 min\n",
            "Epoch: 5, G_Loss: 1.647252, D_Loss: 0.169069, time: 2.24 min\n",
            "Epoch: 5, G_Loss: 2.407640, D_Loss: 0.215403, time: 2.46 min\n",
            "Epoch: 6, G_Loss: 2.970379, D_Loss: 0.280537, time: 2.68 min\n",
            "Epoch: 6, G_Loss: 1.146987, D_Loss: 0.241861, time: 2.90 min\n",
            "Epoch: 7, G_Loss: 2.779574, D_Loss: 0.309728, time: 3.12 min\n",
            "Epoch: 7, G_Loss: 3.040692, D_Loss: 0.074625, time: 3.35 min\n",
            "Epoch: 8, G_Loss: 2.921538, D_Loss: 0.106340, time: 3.57 min\n",
            "Epoch: 9, G_Loss: 1.533596, D_Loss: 0.294615, time: 3.79 min\n",
            "Epoch: 9, G_Loss: 2.948410, D_Loss: 0.105762, time: 4.01 min\n",
            "Epoch: 10, G_Loss: 2.249388, D_Loss: 0.159334, time: 4.24 min\n",
            "Epoch: 10, G_Loss: 2.100729, D_Loss: 0.213161, time: 4.46 min\n",
            "Epoch: 11, G_Loss: 2.914240, D_Loss: 0.143784, time: 4.68 min\n",
            "Epoch: 11, G_Loss: 2.811936, D_Loss: 0.091328, time: 4.90 min\n",
            "Epoch: 12, G_Loss: 2.489695, D_Loss: 0.226623, time: 5.12 min\n",
            "Epoch: 12, G_Loss: 0.566901, D_Loss: 0.491195, time: 5.35 min\n",
            "Epoch: 13, G_Loss: 2.287121, D_Loss: 0.141648, time: 5.57 min\n",
            "Epoch: 13, G_Loss: 2.620127, D_Loss: 0.125651, time: 5.79 min\n",
            "Epoch: 14, G_Loss: 3.327636, D_Loss: 0.226355, time: 6.01 min\n",
            "Epoch: 14, G_Loss: 2.338894, D_Loss: 0.161854, time: 6.23 min\n",
            "Epoch: 15, G_Loss: 2.297944, D_Loss: 0.328029, time: 6.45 min\n",
            "Epoch: 15, G_Loss: 2.307637, D_Loss: 0.179546, time: 6.68 min\n",
            "Epoch: 16, G_Loss: 3.503555, D_Loss: 0.129540, time: 6.90 min\n",
            "Epoch: 17, G_Loss: 2.588130, D_Loss: 0.243826, time: 7.12 min\n",
            "Epoch: 17, G_Loss: 4.544392, D_Loss: 0.203891, time: 7.34 min\n",
            "Epoch: 18, G_Loss: 4.020932, D_Loss: 0.083406, time: 7.56 min\n",
            "Epoch: 18, G_Loss: 3.488378, D_Loss: 0.293025, time: 7.79 min\n",
            "Epoch: 19, G_Loss: 1.528384, D_Loss: 0.191433, time: 8.01 min\n",
            "Epoch: 19, G_Loss: 3.293623, D_Loss: 0.068279, time: 8.23 min\n",
            "Epoch: 20, G_Loss: 1.772479, D_Loss: 0.166918, time: 8.46 min\n",
            "Epoch: 20, G_Loss: 3.238154, D_Loss: 0.056369, time: 8.68 min\n",
            "Epoch: 21, G_Loss: 1.705830, D_Loss: 0.177880, time: 8.90 min\n",
            "Epoch: 21, G_Loss: 2.763665, D_Loss: 0.085219, time: 9.12 min\n",
            "Epoch: 22, G_Loss: 1.471455, D_Loss: 0.221638, time: 9.35 min\n",
            "Epoch: 22, G_Loss: 2.986885, D_Loss: 0.399185, time: 9.57 min\n",
            "Epoch: 23, G_Loss: 5.712301, D_Loss: 0.215026, time: 9.79 min\n",
            "Epoch: 23, G_Loss: 4.285053, D_Loss: 0.066787, time: 10.01 min\n",
            "Epoch: 24, G_Loss: 2.016886, D_Loss: 0.138151, time: 10.23 min\n",
            "Epoch: 25, G_Loss: 1.412758, D_Loss: 0.234239, time: 10.45 min\n",
            "Epoch: 25, G_Loss: 3.199535, D_Loss: 0.155740, time: 10.67 min\n",
            "Epoch: 26, G_Loss: 2.502598, D_Loss: 0.226552, time: 10.89 min\n",
            "Epoch: 26, G_Loss: 3.815098, D_Loss: 0.081462, time: 11.12 min\n",
            "Epoch: 27, G_Loss: 3.310400, D_Loss: 0.059737, time: 11.34 min\n",
            "Epoch: 27, G_Loss: 3.064906, D_Loss: 0.121215, time: 11.56 min\n",
            "Epoch: 28, G_Loss: 2.739565, D_Loss: 0.124082, time: 11.78 min\n",
            "Epoch: 28, G_Loss: 4.595774, D_Loss: 0.124876, time: 12.00 min\n",
            "Epoch: 29, G_Loss: 2.489260, D_Loss: 0.129450, time: 12.22 min\n",
            "Epoch: 29, G_Loss: 1.125296, D_Loss: 0.621487, time: 12.44 min\n",
            "Epoch: 30, G_Loss: 3.691485, D_Loss: 0.144749, time: 12.66 min\n",
            "Epoch: 30, G_Loss: 4.027232, D_Loss: 0.121965, time: 12.88 min\n",
            "Epoch: 31, G_Loss: 4.212004, D_Loss: 0.055662, time: 13.10 min\n",
            "Epoch: 31, G_Loss: 3.212385, D_Loss: 0.054350, time: 13.32 min\n",
            "Epoch: 32, G_Loss: 4.163943, D_Loss: 0.419858, time: 13.54 min\n",
            "Epoch: 33, G_Loss: 1.329105, D_Loss: 0.229900, time: 13.76 min\n",
            "Epoch: 33, G_Loss: 4.954628, D_Loss: 0.209757, time: 13.98 min\n",
            "Epoch: 34, G_Loss: 0.670434, D_Loss: 0.590529, time: 14.20 min\n",
            "Epoch: 34, G_Loss: 3.799446, D_Loss: 0.226425, time: 14.42 min\n",
            "Epoch: 35, G_Loss: 3.362128, D_Loss: 0.132861, time: 14.63 min\n",
            "Epoch: 35, G_Loss: 3.128906, D_Loss: 0.193885, time: 14.85 min\n",
            "Epoch: 36, G_Loss: 2.437550, D_Loss: 0.138790, time: 15.07 min\n",
            "Epoch: 36, G_Loss: 2.623072, D_Loss: 0.215258, time: 15.29 min\n",
            "Epoch: 37, G_Loss: 3.232531, D_Loss: 0.127286, time: 15.51 min\n",
            "Epoch: 37, G_Loss: 1.369317, D_Loss: 0.311535, time: 15.73 min\n",
            "Epoch: 38, G_Loss: 3.157478, D_Loss: 0.254002, time: 15.94 min\n",
            "Epoch: 38, G_Loss: 2.653631, D_Loss: 0.085755, time: 16.16 min\n",
            "Epoch: 39, G_Loss: 3.115479, D_Loss: 0.103593, time: 16.38 min\n",
            "Epoch: 39, G_Loss: 2.409679, D_Loss: 0.235843, time: 16.60 min\n",
            "Epoch: 40, G_Loss: 7.776254, D_Loss: 0.041929, time: 16.82 min\n",
            "Epoch: 41, G_Loss: 3.388594, D_Loss: 0.091750, time: 17.03 min\n",
            "Epoch: 41, G_Loss: 3.891364, D_Loss: 0.084286, time: 17.25 min\n",
            "Epoch: 42, G_Loss: 3.618611, D_Loss: 0.091433, time: 17.47 min\n",
            "Epoch: 42, G_Loss: 2.503089, D_Loss: 0.100597, time: 17.68 min\n",
            "Epoch: 43, G_Loss: 3.659994, D_Loss: 0.229176, time: 17.90 min\n",
            "Epoch: 43, G_Loss: 3.667628, D_Loss: 0.057874, time: 18.12 min\n",
            "Epoch: 44, G_Loss: 1.782672, D_Loss: 0.181885, time: 18.34 min\n",
            "Epoch: 44, G_Loss: 3.963471, D_Loss: 0.075346, time: 18.55 min\n",
            "Epoch: 45, G_Loss: 3.312521, D_Loss: 0.132464, time: 18.77 min\n",
            "Epoch: 45, G_Loss: 2.431857, D_Loss: 0.181363, time: 18.99 min\n",
            "Epoch: 46, G_Loss: 3.375199, D_Loss: 0.048896, time: 19.20 min\n",
            "Epoch: 46, G_Loss: 3.230518, D_Loss: 0.061733, time: 19.42 min\n",
            "Epoch: 47, G_Loss: 3.114158, D_Loss: 0.109792, time: 19.63 min\n",
            "Epoch: 47, G_Loss: 2.695733, D_Loss: 0.179052, time: 19.85 min\n",
            "Epoch: 48, G_Loss: 2.953986, D_Loss: 0.059182, time: 20.07 min\n",
            "Epoch: 49, G_Loss: 2.542557, D_Loss: 0.264080, time: 20.28 min\n",
            "Epoch: 49, G_Loss: 3.334543, D_Loss: 0.079255, time: 20.50 min\n",
            "Epoch: 50, G_Loss: 3.707491, D_Loss: 0.056738, time: 20.72 min\n",
            "Epoch: 50, G_Loss: 3.582634, D_Loss: 0.131147, time: 20.93 min\n",
            "Epoch: 51, G_Loss: 3.309745, D_Loss: 0.088996, time: 21.15 min\n",
            "Epoch: 51, G_Loss: 2.142919, D_Loss: 0.178596, time: 21.37 min\n",
            "Epoch: 52, G_Loss: 3.496007, D_Loss: 0.052681, time: 21.58 min\n",
            "Epoch: 52, G_Loss: 2.633413, D_Loss: 0.212295, time: 21.80 min\n",
            "Epoch: 53, G_Loss: 2.670349, D_Loss: 0.238003, time: 22.02 min\n",
            "Epoch: 53, G_Loss: 7.047523, D_Loss: 0.026169, time: 22.24 min\n",
            "Epoch: 54, G_Loss: 3.731299, D_Loss: 0.130555, time: 22.46 min\n",
            "Epoch: 54, G_Loss: 4.044308, D_Loss: 0.324557, time: 22.67 min\n",
            "Epoch: 55, G_Loss: 1.694305, D_Loss: 0.266185, time: 22.89 min\n",
            "Epoch: 55, G_Loss: 3.372304, D_Loss: 0.077528, time: 23.11 min\n",
            "Epoch: 56, G_Loss: 2.822736, D_Loss: 0.141111, time: 23.33 min\n",
            "Epoch: 57, G_Loss: 2.895681, D_Loss: 0.239868, time: 23.54 min\n",
            "Epoch: 57, G_Loss: 3.423336, D_Loss: 0.052131, time: 23.76 min\n",
            "Epoch: 58, G_Loss: 3.397103, D_Loss: 0.172800, time: 23.98 min\n",
            "Epoch: 58, G_Loss: 3.273804, D_Loss: 0.105899, time: 24.19 min\n",
            "Epoch: 59, G_Loss: 2.555472, D_Loss: 0.069924, time: 24.41 min\n",
            "Epoch: 59, G_Loss: 5.207808, D_Loss: 0.112289, time: 24.63 min\n",
            "Epoch: 60, G_Loss: 4.430760, D_Loss: 0.155407, time: 24.84 min\n",
            "Epoch: 60, G_Loss: 4.233754, D_Loss: 0.155034, time: 25.06 min\n",
            "Epoch: 61, G_Loss: 3.565111, D_Loss: 0.107371, time: 25.27 min\n",
            "Epoch: 61, G_Loss: 4.813363, D_Loss: 0.189577, time: 25.49 min\n",
            "Epoch: 62, G_Loss: 3.459729, D_Loss: 0.107057, time: 25.71 min\n",
            "Epoch: 62, G_Loss: 2.792338, D_Loss: 0.074543, time: 25.93 min\n",
            "Epoch: 63, G_Loss: 4.096992, D_Loss: 0.058835, time: 26.14 min\n",
            "Epoch: 63, G_Loss: 4.945120, D_Loss: 0.195930, time: 26.36 min\n",
            "Epoch: 64, G_Loss: 2.673388, D_Loss: 0.246955, time: 26.58 min\n",
            "Epoch: 65, G_Loss: 2.682917, D_Loss: 0.076982, time: 26.80 min\n",
            "Epoch: 65, G_Loss: 2.847306, D_Loss: 0.155299, time: 27.01 min\n",
            "Epoch: 66, G_Loss: 2.159664, D_Loss: 0.252792, time: 27.23 min\n",
            "Epoch: 66, G_Loss: 2.622749, D_Loss: 0.097166, time: 27.45 min\n",
            "Epoch: 67, G_Loss: 6.378613, D_Loss: 0.153081, time: 27.67 min\n",
            "Epoch: 67, G_Loss: 4.294859, D_Loss: 0.048351, time: 27.88 min\n",
            "Epoch: 68, G_Loss: 2.721730, D_Loss: 0.179621, time: 28.10 min\n",
            "Epoch: 68, G_Loss: 3.335936, D_Loss: 0.122942, time: 28.32 min\n",
            "Epoch: 69, G_Loss: 4.437977, D_Loss: 0.260216, time: 28.54 min\n",
            "Epoch: 69, G_Loss: 4.383181, D_Loss: 0.097826, time: 28.76 min\n",
            "Epoch: 70, G_Loss: 4.243635, D_Loss: 0.110845, time: 28.97 min\n",
            "Epoch: 70, G_Loss: 1.770964, D_Loss: 0.216282, time: 29.19 min\n",
            "Epoch: 71, G_Loss: 3.223286, D_Loss: 0.061769, time: 29.41 min\n",
            "Epoch: 71, G_Loss: 4.212081, D_Loss: 0.162298, time: 29.63 min\n",
            "Epoch: 72, G_Loss: 1.573482, D_Loss: 0.297443, time: 29.84 min\n",
            "Epoch: 73, G_Loss: 2.771781, D_Loss: 0.145966, time: 30.06 min\n",
            "Epoch: 73, G_Loss: 2.761238, D_Loss: 0.233548, time: 30.27 min\n",
            "Epoch: 74, G_Loss: 2.651371, D_Loss: 0.151971, time: 30.49 min\n",
            "Epoch: 74, G_Loss: 2.525054, D_Loss: 0.361976, time: 30.70 min\n",
            "Epoch: 75, G_Loss: 2.191387, D_Loss: 0.147214, time: 30.92 min\n",
            "Epoch: 75, G_Loss: 3.098619, D_Loss: 0.071997, time: 31.13 min\n",
            "Epoch: 76, G_Loss: 3.567944, D_Loss: 0.210863, time: 31.35 min\n",
            "Epoch: 76, G_Loss: 4.392158, D_Loss: 0.132867, time: 31.56 min\n",
            "Epoch: 77, G_Loss: 3.886850, D_Loss: 0.131642, time: 31.78 min\n",
            "Epoch: 77, G_Loss: 2.422560, D_Loss: 0.110232, time: 31.99 min\n",
            "Epoch: 78, G_Loss: 4.566884, D_Loss: 0.116173, time: 32.21 min\n",
            "Epoch: 78, G_Loss: 3.709624, D_Loss: 0.067735, time: 32.43 min\n",
            "Epoch: 79, G_Loss: 2.056180, D_Loss: 0.193841, time: 32.64 min\n",
            "Epoch: 79, G_Loss: 6.566374, D_Loss: 0.252467, time: 32.86 min\n",
            "Epoch: 80, G_Loss: 4.255255, D_Loss: 0.151197, time: 33.08 min\n",
            "Epoch: 81, G_Loss: 3.901773, D_Loss: 0.118810, time: 33.29 min\n",
            "Epoch: 81, G_Loss: 3.504569, D_Loss: 0.148592, time: 33.51 min\n",
            "Epoch: 82, G_Loss: 2.723624, D_Loss: 0.151581, time: 33.72 min\n",
            "Epoch: 82, G_Loss: 4.110572, D_Loss: 0.080868, time: 33.94 min\n",
            "Epoch: 83, G_Loss: 4.270828, D_Loss: 0.221109, time: 34.15 min\n",
            "Epoch: 83, G_Loss: 4.076939, D_Loss: 0.216016, time: 34.37 min\n",
            "Epoch: 84, G_Loss: 2.609418, D_Loss: 0.191630, time: 34.58 min\n",
            "Epoch: 84, G_Loss: 3.919292, D_Loss: 0.212500, time: 34.79 min\n",
            "Epoch: 85, G_Loss: 2.810794, D_Loss: 0.161165, time: 35.01 min\n",
            "Epoch: 85, G_Loss: 2.676283, D_Loss: 0.145690, time: 35.22 min\n",
            "Epoch: 86, G_Loss: 3.338372, D_Loss: 0.117736, time: 35.44 min\n",
            "Epoch: 86, G_Loss: 3.398826, D_Loss: 0.263057, time: 35.65 min\n",
            "Epoch: 87, G_Loss: 4.305058, D_Loss: 0.124101, time: 35.87 min\n",
            "Epoch: 87, G_Loss: 3.608358, D_Loss: 0.167141, time: 36.08 min\n",
            "Epoch: 88, G_Loss: 2.659655, D_Loss: 0.155571, time: 36.30 min\n",
            "Epoch: 89, G_Loss: 4.427001, D_Loss: 0.240419, time: 36.51 min\n",
            "Epoch: 89, G_Loss: 4.414146, D_Loss: 0.144233, time: 36.73 min\n",
            "Epoch: 90, G_Loss: 2.749214, D_Loss: 0.229142, time: 36.94 min\n",
            "Epoch: 90, G_Loss: 2.223974, D_Loss: 0.100308, time: 37.15 min\n",
            "Epoch: 91, G_Loss: 4.395050, D_Loss: 0.094896, time: 37.37 min\n",
            "Epoch: 91, G_Loss: 2.309773, D_Loss: 0.142970, time: 37.58 min\n",
            "Epoch: 92, G_Loss: 3.382685, D_Loss: 0.131216, time: 37.80 min\n",
            "Epoch: 92, G_Loss: 2.120972, D_Loss: 0.201700, time: 38.02 min\n",
            "Epoch: 93, G_Loss: 3.691568, D_Loss: 0.288425, time: 38.23 min\n",
            "Epoch: 93, G_Loss: 2.069589, D_Loss: 0.183553, time: 38.44 min\n",
            "Epoch: 94, G_Loss: 2.642028, D_Loss: 0.265432, time: 38.66 min\n",
            "Epoch: 94, G_Loss: 3.599956, D_Loss: 0.075526, time: 38.87 min\n",
            "Epoch: 95, G_Loss: 2.997996, D_Loss: 0.074552, time: 39.08 min\n",
            "Epoch: 95, G_Loss: 3.224421, D_Loss: 0.080576, time: 39.30 min\n",
            "Epoch: 96, G_Loss: 4.828950, D_Loss: 0.170278, time: 39.51 min\n",
            "Epoch: 97, G_Loss: 4.668216, D_Loss: 0.145631, time: 39.73 min\n",
            "Epoch: 97, G_Loss: 2.868256, D_Loss: 0.071798, time: 39.94 min\n",
            "Epoch: 98, G_Loss: 3.282309, D_Loss: 0.060444, time: 40.15 min\n",
            "Epoch: 98, G_Loss: 2.445757, D_Loss: 0.101659, time: 40.37 min\n",
            "Epoch: 99, G_Loss: 4.160480, D_Loss: 0.127495, time: 40.58 min\n",
            "Epoch: 99, G_Loss: 4.495906, D_Loss: 0.016227, time: 40.79 min\n"
          ],
          "name": "stdout"
        }
      ]
    },
    {
      "cell_type": "code",
      "metadata": {
        "colab": {
          "base_uri": "https://localhost:8080/",
          "height": 350
        },
        "id": "06z0hdr1y5DZ",
        "outputId": "7473c5c4-8ea6-4d2d-c600-3acd7bc0e43a"
      },
      "source": [
        "# plot loss history\n",
        "plt.figure(figsize=(10,5))\n",
        "plt.title('Loss Progress')\n",
        "plt.plot(loss_history['gen'], label='Gen. Loss')\n",
        "plt.plot(loss_history['dis'], label='Dis. Loss')\n",
        "plt.xlabel('batch count')\n",
        "plt.ylabel('Loss')\n",
        "plt.legend()\n",
        "plt.show()"
      ],
      "execution_count": 83,
      "outputs": [
        {
          "output_type": "display_data",
          "data": {
            "image/png": "[encoded data removed]",
            "text/plain": [
              "<Figure size 720x360 with 1 Axes>"
            ]
          },
          "metadata": {
            "tags": [],
            "needs_background": "light"
          }
        }
      ]
    },
    {
      "cell_type": "code",
      "metadata": {
        "id": "81QXiRat9HSW"
      },
      "source": [
        "# 가중치 저장\n",
        "path2models = './models/'\n",
        "os.makedirs(path2models, exist_ok=True)\n",
        "path2weights_gen = os.path.join(path2models, 'weights_gen.pt')\n",
        "path2weights_dis = os.path.join(path2models, 'weights_dis.pt')\n",
        "\n",
        "torch.save(model_gen.state_dict(), path2weights_gen)\n",
        "torch.save(model_dis.state_dict(), path2weights_dis)"
      ],
      "execution_count": 84,
      "outputs": []
    },
    {
      "cell_type": "markdown",
      "metadata": {
        "id": "Hjbu0upa9Cud"
      },
      "source": [
        "# 4. Generator이 생성한 이미지 확인"
      ]
    },
    {
      "cell_type": "code",
      "metadata": {
        "colab": {
          "base_uri": "https://localhost:8080/"
        },
        "id": "YQ7LcgQt8-vA",
        "outputId": "a7b8db68-7e88-404e-9682-02ee7df49fe4"
      },
      "source": [
        "# 가중치 불러오기\n",
        "weights = torch.load(path2weights_gen)\n",
        "model_gen.load_state_dict(weights)\n",
        "\n",
        "# evaluation mode\n",
        "model_gen.eval()\n",
        "\n",
        "# 가짜 이미지 생성\n",
        "with torch.no_grad():\n",
        "    fixed_noise = torch.randn(16, 100, device=device)\n",
        "    img_fake = model_gen(fixed_noise).detach().cpu()\n",
        "print(img_fake.shape)"
      ],
      "execution_count": 85,
      "outputs": [
        {
          "output_type": "stream",
          "text": [
            "torch.Size([16, 1, 28, 28])\n"
          ],
          "name": "stdout"
        }
      ]
    },
    {
      "cell_type": "code",
      "metadata": {
        "colab": {
          "base_uri": "https://localhost:8080/",
          "height": 575
        },
        "id": "UQ9aR5Ku91ct",
        "outputId": "51850595-5748-4cd4-f509-d737106e1465"
      },
      "source": [
        "# 가짜 이미지 시각화\n",
        "plt.figure(figsize=(10,10))\n",
        "for ii in range(16):\n",
        "    plt.subplot(4,4,ii+1)\n",
        "    plt.imshow(to_pil_image(0.5*img_fake[ii]+0.5),cmap='gray')\n",
        "    plt.axis('off')"
      ],
      "execution_count": 86,
      "outputs": [
        {
          "output_type": "display_data",
          "data": {
            "image/png": "[encoded data removed]",
            "text/plain": [
              "<Figure size 720x720 with 16 Axes>"
            ]
          },
          "metadata": {
            "tags": [],
            "needs_background": "light"
          }
        }
      ]
    },
    {
      "cell_type": "code",
      "metadata": {
        "id": "LeRy_L_a-QEr"
      },
      "source": [
        ""
      ],
      "execution_count": null,
      "outputs": []
    }
  ]
}